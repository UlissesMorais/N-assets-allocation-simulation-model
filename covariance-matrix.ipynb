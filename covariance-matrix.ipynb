{
 "cells": [
  {
   "cell_type": "markdown",
   "id": "99812ce1",
   "metadata": {
    "jp-MarkdownHeadingCollapsed": true,
    "tags": []
   },
   "source": [
    "## Import libraries"
   ]
  },
  {
   "cell_type": "code",
   "execution_count": 1,
   "id": "45cb3566",
   "metadata": {},
   "outputs": [],
   "source": [
    "import pandas as pd\n",
    "import numpy as np\n",
    "import matplotlib.pyplot as plt\n",
    "import seaborn as sns\n",
    "import yfinance as yf\n",
    "from scipy.stats import norm, lognorm"
   ]
  },
  {
   "cell_type": "code",
   "execution_count": 2,
   "id": "9b15e74b",
   "metadata": {},
   "outputs": [
    {
     "name": "stdout",
     "output_type": "stream",
     "text": [
      "Yfinance version:  0.2.37\n"
     ]
    }
   ],
   "source": [
    "print(\"Yfinance version: \" , yf.__version__)"
   ]
  },
  {
   "cell_type": "code",
   "execution_count": 3,
   "id": "a2172057-48b5-4a35-a2e1-d74bde21f569",
   "metadata": {
    "tags": []
   },
   "outputs": [],
   "source": [
    "# Set default parameters for plt.title()\n",
    "plt.rcParams['axes.titlepad'] = 12  # Set padding around the title\n",
    "plt.rcParams['axes.titleweight'] = 'normal'  # Set title font size\n",
    "plt.rcParams['axes.titlesize'] = 9  # Set title font size"
   ]
  },
  {
   "cell_type": "markdown",
   "id": "90a60dac",
   "metadata": {
    "jp-MarkdownHeadingCollapsed": true,
    "tags": []
   },
   "source": [
    "## Fetch data"
   ]
  },
  {
   "cell_type": "code",
   "execution_count": 4,
   "id": "2be220cb",
   "metadata": {},
   "outputs": [],
   "source": [
    "def fetch_stock_data(tickers, start_date, end_date, interval):\n",
    "    data = yf.download(tickers, start=start_date, end=end_date, interval=interval)\n",
    "    return data"
   ]
  },
  {
   "cell_type": "code",
   "execution_count": 5,
   "id": "b158dd00",
   "metadata": {},
   "outputs": [
    {
     "name": "stderr",
     "output_type": "stream",
     "text": [
      "[*********************100%%**********************]  2 of 2 completed\n"
     ]
    },
    {
     "data": {
      "text/html": [
       "<div>\n",
       "<style scoped>\n",
       "    .dataframe tbody tr th:only-of-type {\n",
       "        vertical-align: middle;\n",
       "    }\n",
       "\n",
       "    .dataframe tbody tr th {\n",
       "        vertical-align: top;\n",
       "    }\n",
       "\n",
       "    .dataframe thead tr th {\n",
       "        text-align: left;\n",
       "    }\n",
       "\n",
       "    .dataframe thead tr:last-of-type th {\n",
       "        text-align: right;\n",
       "    }\n",
       "</style>\n",
       "<table border=\"1\" class=\"dataframe\">\n",
       "  <thead>\n",
       "    <tr>\n",
       "      <th>Price</th>\n",
       "      <th colspan=\"2\" halign=\"left\">Adj Close</th>\n",
       "      <th colspan=\"2\" halign=\"left\">Close</th>\n",
       "      <th colspan=\"2\" halign=\"left\">High</th>\n",
       "      <th colspan=\"2\" halign=\"left\">Low</th>\n",
       "      <th colspan=\"2\" halign=\"left\">Open</th>\n",
       "      <th colspan=\"2\" halign=\"left\">Volume</th>\n",
       "    </tr>\n",
       "    <tr>\n",
       "      <th>Ticker</th>\n",
       "      <th>BRK-B</th>\n",
       "      <th>IAU</th>\n",
       "      <th>BRK-B</th>\n",
       "      <th>IAU</th>\n",
       "      <th>BRK-B</th>\n",
       "      <th>IAU</th>\n",
       "      <th>BRK-B</th>\n",
       "      <th>IAU</th>\n",
       "      <th>BRK-B</th>\n",
       "      <th>IAU</th>\n",
       "      <th>BRK-B</th>\n",
       "      <th>IAU</th>\n",
       "    </tr>\n",
       "    <tr>\n",
       "      <th>Date</th>\n",
       "      <th></th>\n",
       "      <th></th>\n",
       "      <th></th>\n",
       "      <th></th>\n",
       "      <th></th>\n",
       "      <th></th>\n",
       "      <th></th>\n",
       "      <th></th>\n",
       "      <th></th>\n",
       "      <th></th>\n",
       "      <th></th>\n",
       "      <th></th>\n",
       "    </tr>\n",
       "  </thead>\n",
       "  <tbody>\n",
       "    <tr>\n",
       "      <th>2010-01-04</th>\n",
       "      <td>66.220001</td>\n",
       "      <td>21.978001</td>\n",
       "      <td>66.220001</td>\n",
       "      <td>21.978001</td>\n",
       "      <td>66.500000</td>\n",
       "      <td>22.038000</td>\n",
       "      <td>65.919998</td>\n",
       "      <td>21.882000</td>\n",
       "      <td>66.000000</td>\n",
       "      <td>21.978001</td>\n",
       "      <td>1575000</td>\n",
       "      <td>1185000</td>\n",
       "    </tr>\n",
       "    <tr>\n",
       "      <th>2010-01-05</th>\n",
       "      <td>66.540001</td>\n",
       "      <td>21.954000</td>\n",
       "      <td>66.540001</td>\n",
       "      <td>21.954000</td>\n",
       "      <td>66.589996</td>\n",
       "      <td>22.084000</td>\n",
       "      <td>66.150002</td>\n",
       "      <td>21.870001</td>\n",
       "      <td>66.389999</td>\n",
       "      <td>21.988001</td>\n",
       "      <td>1310000</td>\n",
       "      <td>936000</td>\n",
       "    </tr>\n",
       "    <tr>\n",
       "      <th>2010-01-06</th>\n",
       "      <td>66.199997</td>\n",
       "      <td>22.326000</td>\n",
       "      <td>66.199997</td>\n",
       "      <td>22.326000</td>\n",
       "      <td>66.500000</td>\n",
       "      <td>22.368000</td>\n",
       "      <td>66.199997</td>\n",
       "      <td>22.110001</td>\n",
       "      <td>66.500000</td>\n",
       "      <td>22.156000</td>\n",
       "      <td>1760000</td>\n",
       "      <td>1091000</td>\n",
       "    </tr>\n",
       "    <tr>\n",
       "      <th>2010-01-07</th>\n",
       "      <td>66.459999</td>\n",
       "      <td>22.181999</td>\n",
       "      <td>66.459999</td>\n",
       "      <td>22.181999</td>\n",
       "      <td>66.510002</td>\n",
       "      <td>22.264000</td>\n",
       "      <td>66.139999</td>\n",
       "      <td>22.152000</td>\n",
       "      <td>66.199997</td>\n",
       "      <td>22.230000</td>\n",
       "      <td>1505000</td>\n",
       "      <td>811500</td>\n",
       "    </tr>\n",
       "    <tr>\n",
       "      <th>2010-01-08</th>\n",
       "      <td>66.440002</td>\n",
       "      <td>22.290001</td>\n",
       "      <td>66.440002</td>\n",
       "      <td>22.290001</td>\n",
       "      <td>66.480003</td>\n",
       "      <td>22.326000</td>\n",
       "      <td>66.300003</td>\n",
       "      <td>22.077999</td>\n",
       "      <td>66.480003</td>\n",
       "      <td>22.306000</td>\n",
       "      <td>1500000</td>\n",
       "      <td>737000</td>\n",
       "    </tr>\n",
       "    <tr>\n",
       "      <th>...</th>\n",
       "      <td>...</td>\n",
       "      <td>...</td>\n",
       "      <td>...</td>\n",
       "      <td>...</td>\n",
       "      <td>...</td>\n",
       "      <td>...</td>\n",
       "      <td>...</td>\n",
       "      <td>...</td>\n",
       "      <td>...</td>\n",
       "      <td>...</td>\n",
       "      <td>...</td>\n",
       "      <td>...</td>\n",
       "    </tr>\n",
       "    <tr>\n",
       "      <th>2024-01-25</th>\n",
       "      <td>380.850006</td>\n",
       "      <td>38.230000</td>\n",
       "      <td>380.850006</td>\n",
       "      <td>38.230000</td>\n",
       "      <td>380.989990</td>\n",
       "      <td>38.320000</td>\n",
       "      <td>377.890015</td>\n",
       "      <td>38.080002</td>\n",
       "      <td>379.239990</td>\n",
       "      <td>38.270000</td>\n",
       "      <td>4055800</td>\n",
       "      <td>4637800</td>\n",
       "    </tr>\n",
       "    <tr>\n",
       "      <th>2024-01-26</th>\n",
       "      <td>385.399994</td>\n",
       "      <td>38.180000</td>\n",
       "      <td>385.399994</td>\n",
       "      <td>38.180000</td>\n",
       "      <td>385.730011</td>\n",
       "      <td>38.270000</td>\n",
       "      <td>380.000000</td>\n",
       "      <td>38.139999</td>\n",
       "      <td>381.049988</td>\n",
       "      <td>38.250000</td>\n",
       "      <td>3621400</td>\n",
       "      <td>3288100</td>\n",
       "    </tr>\n",
       "    <tr>\n",
       "      <th>2024-01-29</th>\n",
       "      <td>383.179993</td>\n",
       "      <td>38.459999</td>\n",
       "      <td>383.179993</td>\n",
       "      <td>38.459999</td>\n",
       "      <td>385.700012</td>\n",
       "      <td>38.509998</td>\n",
       "      <td>379.170013</td>\n",
       "      <td>38.240002</td>\n",
       "      <td>385.489990</td>\n",
       "      <td>38.459999</td>\n",
       "      <td>3797400</td>\n",
       "      <td>3503900</td>\n",
       "    </tr>\n",
       "    <tr>\n",
       "      <th>2024-01-30</th>\n",
       "      <td>387.149994</td>\n",
       "      <td>38.509998</td>\n",
       "      <td>387.149994</td>\n",
       "      <td>38.509998</td>\n",
       "      <td>387.640015</td>\n",
       "      <td>38.770000</td>\n",
       "      <td>380.079987</td>\n",
       "      <td>38.389999</td>\n",
       "      <td>383.239990</td>\n",
       "      <td>38.740002</td>\n",
       "      <td>3090900</td>\n",
       "      <td>4125600</td>\n",
       "    </tr>\n",
       "    <tr>\n",
       "      <th>2024-01-31</th>\n",
       "      <td>383.739990</td>\n",
       "      <td>38.490002</td>\n",
       "      <td>383.739990</td>\n",
       "      <td>38.490002</td>\n",
       "      <td>387.920013</td>\n",
       "      <td>38.900002</td>\n",
       "      <td>383.549988</td>\n",
       "      <td>38.419998</td>\n",
       "      <td>386.529999</td>\n",
       "      <td>38.669998</td>\n",
       "      <td>3856400</td>\n",
       "      <td>9428800</td>\n",
       "    </tr>\n",
       "  </tbody>\n",
       "</table>\n",
       "<p>3543 rows × 12 columns</p>\n",
       "</div>"
      ],
      "text/plain": [
       "Price        Adj Close                  Close                   High  \\\n",
       "Ticker           BRK-B        IAU       BRK-B        IAU       BRK-B   \n",
       "Date                                                                   \n",
       "2010-01-04   66.220001  21.978001   66.220001  21.978001   66.500000   \n",
       "2010-01-05   66.540001  21.954000   66.540001  21.954000   66.589996   \n",
       "2010-01-06   66.199997  22.326000   66.199997  22.326000   66.500000   \n",
       "2010-01-07   66.459999  22.181999   66.459999  22.181999   66.510002   \n",
       "2010-01-08   66.440002  22.290001   66.440002  22.290001   66.480003   \n",
       "...                ...        ...         ...        ...         ...   \n",
       "2024-01-25  380.850006  38.230000  380.850006  38.230000  380.989990   \n",
       "2024-01-26  385.399994  38.180000  385.399994  38.180000  385.730011   \n",
       "2024-01-29  383.179993  38.459999  383.179993  38.459999  385.700012   \n",
       "2024-01-30  387.149994  38.509998  387.149994  38.509998  387.640015   \n",
       "2024-01-31  383.739990  38.490002  383.739990  38.490002  387.920013   \n",
       "\n",
       "Price                         Low                   Open              Volume  \\\n",
       "Ticker            IAU       BRK-B        IAU       BRK-B        IAU    BRK-B   \n",
       "Date                                                                           \n",
       "2010-01-04  22.038000   65.919998  21.882000   66.000000  21.978001  1575000   \n",
       "2010-01-05  22.084000   66.150002  21.870001   66.389999  21.988001  1310000   \n",
       "2010-01-06  22.368000   66.199997  22.110001   66.500000  22.156000  1760000   \n",
       "2010-01-07  22.264000   66.139999  22.152000   66.199997  22.230000  1505000   \n",
       "2010-01-08  22.326000   66.300003  22.077999   66.480003  22.306000  1500000   \n",
       "...               ...         ...        ...         ...        ...      ...   \n",
       "2024-01-25  38.320000  377.890015  38.080002  379.239990  38.270000  4055800   \n",
       "2024-01-26  38.270000  380.000000  38.139999  381.049988  38.250000  3621400   \n",
       "2024-01-29  38.509998  379.170013  38.240002  385.489990  38.459999  3797400   \n",
       "2024-01-30  38.770000  380.079987  38.389999  383.239990  38.740002  3090900   \n",
       "2024-01-31  38.900002  383.549988  38.419998  386.529999  38.669998  3856400   \n",
       "\n",
       "Price                \n",
       "Ticker          IAU  \n",
       "Date                 \n",
       "2010-01-04  1185000  \n",
       "2010-01-05   936000  \n",
       "2010-01-06  1091000  \n",
       "2010-01-07   811500  \n",
       "2010-01-08   737000  \n",
       "...             ...  \n",
       "2024-01-25  4637800  \n",
       "2024-01-26  3288100  \n",
       "2024-01-29  3503900  \n",
       "2024-01-30  4125600  \n",
       "2024-01-31  9428800  \n",
       "\n",
       "[3543 rows x 12 columns]"
      ]
     },
     "metadata": {},
     "output_type": "display_data"
    }
   ],
   "source": [
    "# select tickers\n",
    "tickers = [\"BRK-B\", \"IAU\"]   #BRK-B, MSFT, META, GOOG, AMZN, AAPL, TSM, BAC, WFC, VALE, KO, JNJ, DG, DIS, SPY \n",
    "\n",
    "# date format YYYY-MM-DD\n",
    "start_date = \"2010-01-01\"\n",
    "end_date = \"2024-02-01\"\n",
    "\n",
    "# time interval to take the cotations, in this case monthly\n",
    "interval= \"1d\"\n",
    "\n",
    "stock_data = fetch_stock_data(tickers, start_date, end_date, interval)\n",
    "\n",
    "display(stock_data)"
   ]
  },
  {
   "cell_type": "code",
   "execution_count": 6,
   "id": "0d4cb0d2",
   "metadata": {},
   "outputs": [
    {
     "data": {
      "text/html": [
       "<div>\n",
       "<style scoped>\n",
       "    .dataframe tbody tr th:only-of-type {\n",
       "        vertical-align: middle;\n",
       "    }\n",
       "\n",
       "    .dataframe tbody tr th {\n",
       "        vertical-align: top;\n",
       "    }\n",
       "\n",
       "    .dataframe thead th {\n",
       "        text-align: right;\n",
       "    }\n",
       "</style>\n",
       "<table border=\"1\" class=\"dataframe\">\n",
       "  <thead>\n",
       "    <tr style=\"text-align: right;\">\n",
       "      <th>Ticker</th>\n",
       "      <th>BRK-B</th>\n",
       "      <th>IAU</th>\n",
       "    </tr>\n",
       "    <tr>\n",
       "      <th>Date</th>\n",
       "      <th></th>\n",
       "      <th></th>\n",
       "    </tr>\n",
       "  </thead>\n",
       "  <tbody>\n",
       "    <tr>\n",
       "      <th>2010-01-04</th>\n",
       "      <td>66.220001</td>\n",
       "      <td>21.978001</td>\n",
       "    </tr>\n",
       "    <tr>\n",
       "      <th>2010-01-05</th>\n",
       "      <td>66.540001</td>\n",
       "      <td>21.954000</td>\n",
       "    </tr>\n",
       "    <tr>\n",
       "      <th>2010-01-06</th>\n",
       "      <td>66.199997</td>\n",
       "      <td>22.326000</td>\n",
       "    </tr>\n",
       "  </tbody>\n",
       "</table>\n",
       "</div>"
      ],
      "text/plain": [
       "Ticker          BRK-B        IAU\n",
       "Date                            \n",
       "2010-01-04  66.220001  21.978001\n",
       "2010-01-05  66.540001  21.954000\n",
       "2010-01-06  66.199997  22.326000"
      ]
     },
     "execution_count": 6,
     "metadata": {},
     "output_type": "execute_result"
    }
   ],
   "source": [
    "# select only the closing price\n",
    "df_close = stock_data.Close.copy()\n",
    "# df_close.info()\n",
    "df_close.head(3)"
   ]
  },
  {
   "cell_type": "code",
   "execution_count": 7,
   "id": "dadf058f-2f1f-4c8f-b105-5271ed5ef870",
   "metadata": {
    "tags": []
   },
   "outputs": [
    {
     "data": {
      "text/html": [
       "<div>\n",
       "<style scoped>\n",
       "    .dataframe tbody tr th:only-of-type {\n",
       "        vertical-align: middle;\n",
       "    }\n",
       "\n",
       "    .dataframe tbody tr th {\n",
       "        vertical-align: top;\n",
       "    }\n",
       "\n",
       "    .dataframe thead th {\n",
       "        text-align: right;\n",
       "    }\n",
       "</style>\n",
       "<table border=\"1\" class=\"dataframe\">\n",
       "  <thead>\n",
       "    <tr style=\"text-align: right;\">\n",
       "      <th>Ticker</th>\n",
       "      <th>BRK-B</th>\n",
       "      <th>IAU</th>\n",
       "    </tr>\n",
       "    <tr>\n",
       "      <th>Date</th>\n",
       "      <th></th>\n",
       "      <th></th>\n",
       "    </tr>\n",
       "  </thead>\n",
       "  <tbody>\n",
       "    <tr>\n",
       "      <th>2010-01-05</th>\n",
       "      <td>0.004832</td>\n",
       "      <td>-0.001092</td>\n",
       "    </tr>\n",
       "    <tr>\n",
       "      <th>2010-01-06</th>\n",
       "      <td>-0.005110</td>\n",
       "      <td>0.016945</td>\n",
       "    </tr>\n",
       "    <tr>\n",
       "      <th>2010-01-07</th>\n",
       "      <td>0.003928</td>\n",
       "      <td>-0.006450</td>\n",
       "    </tr>\n",
       "  </tbody>\n",
       "</table>\n",
       "</div>"
      ],
      "text/plain": [
       "Ticker         BRK-B       IAU\n",
       "Date                          \n",
       "2010-01-05  0.004832 -0.001092\n",
       "2010-01-06 -0.005110  0.016945\n",
       "2010-01-07  0.003928 -0.006450"
      ]
     },
     "execution_count": 7,
     "metadata": {},
     "output_type": "execute_result"
    }
   ],
   "source": [
    "# find the \n",
    "df_daily_return = (df_close\n",
    "                   .copy()\n",
    "                   .pct_change(periods=1)\n",
    "                   .dropna()\n",
    ")\n",
    "\n",
    "# display(cov_yoy.describe())\n",
    "df_daily_return.head(3)"
   ]
  },
  {
   "cell_type": "markdown",
   "id": "0c0d9c7f",
   "metadata": {
    "tags": []
   },
   "source": [
    "## Covariance"
   ]
  },
  {
   "cell_type": "markdown",
   "id": "4d9bea34",
   "metadata": {
    "tags": []
   },
   "source": [
    "### Calculation (YoY)"
   ]
  },
  {
   "cell_type": "code",
   "execution_count": 8,
   "id": "b236660f-c117-4dc2-9735-6ee28a1f37ae",
   "metadata": {
    "tags": []
   },
   "outputs": [
    {
     "data": {
      "text/html": [
       "<div>\n",
       "<style scoped>\n",
       "    .dataframe tbody tr th:only-of-type {\n",
       "        vertical-align: middle;\n",
       "    }\n",
       "\n",
       "    .dataframe tbody tr th {\n",
       "        vertical-align: top;\n",
       "    }\n",
       "\n",
       "    .dataframe thead th {\n",
       "        text-align: right;\n",
       "    }\n",
       "</style>\n",
       "<table border=\"1\" class=\"dataframe\">\n",
       "  <thead>\n",
       "    <tr style=\"text-align: right;\">\n",
       "      <th></th>\n",
       "      <th>Ticker</th>\n",
       "      <th>BRK-B</th>\n",
       "      <th>IAU</th>\n",
       "    </tr>\n",
       "    <tr>\n",
       "      <th>Date</th>\n",
       "      <th>Ticker</th>\n",
       "      <th></th>\n",
       "      <th></th>\n",
       "    </tr>\n",
       "  </thead>\n",
       "  <tbody>\n",
       "    <tr>\n",
       "      <th rowspan=\"2\" valign=\"top\">2011-01-03</th>\n",
       "      <th>BRK-B</th>\n",
       "      <td>0.053128</td>\n",
       "      <td>0.001466</td>\n",
       "    </tr>\n",
       "    <tr>\n",
       "      <th>IAU</th>\n",
       "      <td>0.001466</td>\n",
       "      <td>0.027043</td>\n",
       "    </tr>\n",
       "    <tr>\n",
       "      <th rowspan=\"2\" valign=\"top\">2011-01-04</th>\n",
       "      <th>BRK-B</th>\n",
       "      <td>0.053127</td>\n",
       "      <td>0.001567</td>\n",
       "    </tr>\n",
       "    <tr>\n",
       "      <th>IAU</th>\n",
       "      <td>0.001567</td>\n",
       "      <td>0.027621</td>\n",
       "    </tr>\n",
       "    <tr>\n",
       "      <th>2011-01-05</th>\n",
       "      <th>BRK-B</th>\n",
       "      <td>0.053161</td>\n",
       "      <td>0.001632</td>\n",
       "    </tr>\n",
       "    <tr>\n",
       "      <th>...</th>\n",
       "      <th>...</th>\n",
       "      <td>...</td>\n",
       "      <td>...</td>\n",
       "    </tr>\n",
       "    <tr>\n",
       "      <th>2024-01-29</th>\n",
       "      <th>IAU</th>\n",
       "      <td>-0.001989</td>\n",
       "      <td>0.017222</td>\n",
       "    </tr>\n",
       "    <tr>\n",
       "      <th rowspan=\"2\" valign=\"top\">2024-01-30</th>\n",
       "      <th>BRK-B</th>\n",
       "      <td>0.018256</td>\n",
       "      <td>-0.001988</td>\n",
       "    </tr>\n",
       "    <tr>\n",
       "      <th>IAU</th>\n",
       "      <td>-0.001988</td>\n",
       "      <td>0.017222</td>\n",
       "    </tr>\n",
       "    <tr>\n",
       "      <th rowspan=\"2\" valign=\"top\">2024-01-31</th>\n",
       "      <th>BRK-B</th>\n",
       "      <td>0.018303</td>\n",
       "      <td>-0.002003</td>\n",
       "    </tr>\n",
       "    <tr>\n",
       "      <th>IAU</th>\n",
       "      <td>-0.002003</td>\n",
       "      <td>0.017211</td>\n",
       "    </tr>\n",
       "  </tbody>\n",
       "</table>\n",
       "<p>6582 rows × 2 columns</p>\n",
       "</div>"
      ],
      "text/plain": [
       "Ticker                BRK-B       IAU\n",
       "Date       Ticker                    \n",
       "2011-01-03 BRK-B   0.053128  0.001466\n",
       "           IAU     0.001466  0.027043\n",
       "2011-01-04 BRK-B   0.053127  0.001567\n",
       "           IAU     0.001567  0.027621\n",
       "2011-01-05 BRK-B   0.053161  0.001632\n",
       "...                     ...       ...\n",
       "2024-01-29 IAU    -0.001989  0.017222\n",
       "2024-01-30 BRK-B   0.018256 -0.001988\n",
       "           IAU    -0.001988  0.017222\n",
       "2024-01-31 BRK-B   0.018303 -0.002003\n",
       "           IAU    -0.002003  0.017211\n",
       "\n",
       "[6582 rows x 2 columns]"
      ]
     },
     "execution_count": 8,
     "metadata": {},
     "output_type": "execute_result"
    }
   ],
   "source": [
    "# find the \n",
    "cov_yoy = (df_close\n",
    "             .copy()\n",
    "             .pct_change(periods=1)\n",
    "             .dropna()\n",
    "             .rolling(window=252)\n",
    "             .cov()\n",
    "             .dropna()\n",
    "             .apply(lambda x: 252 * x)\n",
    ")\n",
    "\n",
    "# display(cov_yoy.describe())\n",
    "cov_yoy"
   ]
  },
  {
   "cell_type": "code",
   "execution_count": 9,
   "id": "5859a792-117d-4162-9c7b-5a2ba6ee1e6b",
   "metadata": {
    "tags": []
   },
   "outputs": [
    {
     "data": {
      "text/html": [
       "<div>\n",
       "<style scoped>\n",
       "    .dataframe tbody tr th:only-of-type {\n",
       "        vertical-align: middle;\n",
       "    }\n",
       "\n",
       "    .dataframe tbody tr th {\n",
       "        vertical-align: top;\n",
       "    }\n",
       "\n",
       "    .dataframe thead th {\n",
       "        text-align: right;\n",
       "    }\n",
       "</style>\n",
       "<table border=\"1\" class=\"dataframe\">\n",
       "  <thead>\n",
       "    <tr style=\"text-align: right;\">\n",
       "      <th></th>\n",
       "      <th>Ticker</th>\n",
       "      <th>BRK-B</th>\n",
       "      <th>IAU</th>\n",
       "    </tr>\n",
       "    <tr>\n",
       "      <th>Date</th>\n",
       "      <th>Ticker</th>\n",
       "      <th></th>\n",
       "      <th></th>\n",
       "    </tr>\n",
       "  </thead>\n",
       "  <tbody>\n",
       "    <tr>\n",
       "      <th>2011-01-03</th>\n",
       "      <th>BRK-B</th>\n",
       "      <td>0.053128</td>\n",
       "      <td>0.001466</td>\n",
       "    </tr>\n",
       "    <tr>\n",
       "      <th>2011-01-04</th>\n",
       "      <th>BRK-B</th>\n",
       "      <td>0.053127</td>\n",
       "      <td>0.001567</td>\n",
       "    </tr>\n",
       "    <tr>\n",
       "      <th>2011-01-05</th>\n",
       "      <th>BRK-B</th>\n",
       "      <td>0.053161</td>\n",
       "      <td>0.001632</td>\n",
       "    </tr>\n",
       "  </tbody>\n",
       "</table>\n",
       "</div>"
      ],
      "text/plain": [
       "Ticker                BRK-B       IAU\n",
       "Date       Ticker                    \n",
       "2011-01-03 BRK-B   0.053128  0.001466\n",
       "2011-01-04 BRK-B   0.053127  0.001567\n",
       "2011-01-05 BRK-B   0.053161  0.001632"
      ]
     },
     "execution_count": 9,
     "metadata": {},
     "output_type": "execute_result"
    }
   ],
   "source": [
    "cov_yoy[(cov_yoy.index.get_level_values('Ticker') == tickers[0])].head(3)"
   ]
  },
  {
   "cell_type": "code",
   "execution_count": 10,
   "id": "533743c3-0691-47b5-96bd-b46c2018a786",
   "metadata": {
    "tags": []
   },
   "outputs": [],
   "source": [
    "cov11 = cov_yoy[(cov_yoy.index.get_level_values('Ticker') == tickers[0])][tickers[0]].values\n",
    "cov12 = cov_yoy[(cov_yoy.index.get_level_values('Ticker') == tickers[0])][tickers[1]].values\n",
    "# cov21 = cov12\n",
    "cov22 = cov_yoy[(cov_yoy.index.get_level_values('Ticker') == tickers[1])][tickers[1]].values"
   ]
  },
  {
   "cell_type": "code",
   "execution_count": null,
   "id": "df98ed8f-80b3-4056-b4eb-636a9e8fbab0",
   "metadata": {},
   "outputs": [],
   "source": []
  },
  {
   "cell_type": "markdown",
   "id": "11a8fd18-d984-4adf-a76c-6e0c23a68dae",
   "metadata": {
    "tags": []
   },
   "source": [
    "### Plots"
   ]
  },
  {
   "cell_type": "markdown",
   "id": "6302bb2a",
   "metadata": {
    "jp-MarkdownHeadingCollapsed": true,
    "tags": []
   },
   "source": [
    "#### Normal:"
   ]
  },
  {
   "cell_type": "code",
   "execution_count": 11,
   "id": "d6f24714",
   "metadata": {},
   "outputs": [
    {
     "data": {
      "image/png": "[encoded data removed]",
      "text/plain": [
       "<Figure size 1000x400 with 3 Axes>"
      ]
     },
     "metadata": {},
     "output_type": "display_data"
    }
   ],
   "source": [
    "# Plot the histogram of the returns_daily along with the fitted Gaussian distribution\n",
    "fig, axes = plt.subplots(nrows=1, ncols=3, figsize=(10, 4))\n",
    "\n",
    "# Fit a Gaussian distribution to the YoY covariance\n",
    "plt.subplot(1, 3, 1)\n",
    "mu, std = norm.fit(cov11)\n",
    "sns.histplot(data= cov11, bins=30, stat=\"density\", kde=True, color='lightgreen', edgecolor='red')\n",
    "\n",
    "xmin, xmax = plt.xlim()\n",
    "x = np.linspace(xmin, xmax, 100)\n",
    "p = norm.pdf(x, mu, std)\n",
    "\n",
    "plt.plot(x, p, 'k', label=\"fit-normal\", linewidth=1)\n",
    "plt.title(f\"cov({tickers[0]},{tickers[0]}) --> Fit results: mu = %.2f,  std = %.2f\" % (mu, std))\n",
    "plt.ylabel(\"Probability density function\")\n",
    "plt.xlabel(\"covariance [YoY]\")\n",
    "plt.legend()\n",
    "\n",
    "# Fit a Gaussian distribution to the YoY covariance\n",
    "plt.subplot(1, 3, 2)\n",
    "mu, std = norm.fit(cov12)\n",
    "sns.histplot(data= cov12, bins=30, stat=\"density\", kde=True, color='lightgreen', edgecolor='red')\n",
    "\n",
    "xmin, xmax = plt.xlim()\n",
    "x = np.linspace(xmin, xmax, 100)\n",
    "p = norm.pdf(x, mu, std)\n",
    "\n",
    "plt.plot(x, p, 'k', label=\"fit-normal\", linewidth=1)\n",
    "plt.title(f\"cov({tickers[0]},{tickers[1]}) --> Fit results: mu = %.2f,  std = %.2f\" % (mu, std))\n",
    "plt.ylabel(\"Probability density function\")\n",
    "plt.xlabel(\"covariance [YoY]\")\n",
    "plt.legend()\n",
    "\n",
    "# Fit a Gaussian distribution to the YoY covariance\n",
    "plt.subplot(1, 3, 3)\n",
    "mu, std = norm.fit(cov22)\n",
    "sns.histplot(data= cov22, bins=30, stat=\"density\", kde=True, color='lightgreen', edgecolor='red')\n",
    "\n",
    "xmin, xmax = plt.xlim()\n",
    "x = np.linspace(xmin, xmax, 100)\n",
    "p = norm.pdf(x, mu, std)\n",
    "\n",
    "plt.plot(x, p, 'k', label=\"fit-normal\", linewidth=1)\n",
    "plt.title(f\"cov({tickers[1]},{tickers[1]}) --> Fit results: mu = %.2f,  std = %.2f\" % (mu, std))\n",
    "plt.ylabel(\"Probability density function\")\n",
    "plt.xlabel(\"covariance [YoY]\")\n",
    "plt.legend()\n",
    "\n",
    "fig.tight_layout()\n",
    "fig.subplots_adjust(wspace=0.5)\n",
    "plt.show()"
   ]
  },
  {
   "cell_type": "markdown",
   "id": "83fe44ef",
   "metadata": {
    "tags": []
   },
   "source": [
    "#### Lognormal:"
   ]
  },
  {
   "cell_type": "code",
   "execution_count": 12,
   "id": "093e78a0",
   "metadata": {},
   "outputs": [
    {
     "name": "stderr",
     "output_type": "stream",
     "text": [
      "C:\\Users\\DELL\\anaconda3\\Lib\\site-packages\\scipy\\stats\\_continuous_distns.py:6111: RuntimeWarning: invalid value encountered in log\n",
      "  lndata = np.log(data - loc)\n"
     ]
    },
    {
     "data": {
      "image/png": "[encoded data removed]",
      "text/plain": [
       "<Figure size 1000x400 with 3 Axes>"
      ]
     },
     "metadata": {},
     "output_type": "display_data"
    }
   ],
   "source": [
    "# Plot the histogram of the returns_daily along with the fitted Gaussian distribution\n",
    "fig, axes = plt.subplots(nrows=1, ncols=3, figsize=(10, 4))\n",
    "\n",
    "# Fit a Lognormal distribution to theYoY covariance\n",
    "plt.subplot(1, 3, 1)\n",
    "sigma, loc, scale = lognorm.fit(cov11)\n",
    "\n",
    "sns.histplot(data= cov11, bins=30, stat=\"density\", kde=True, color='lightgreen', edgecolor='red')\n",
    "xmin, xmax = plt.xlim()\n",
    "x = np.linspace(xmin, xmax, 1000)\n",
    "pdf = lognorm.pdf(x, sigma, loc= loc, scale= scale)\n",
    "\n",
    "plt.plot(x, pdf, 'k', label=\"lognormal\", linewidth=2)\n",
    "plt.title(f\"cov({tickers[0]},{tickers[0]}) --> Fit results: sigma = %.2f,  loc = %.2f, scale = %.2f\" % (sigma, loc, scale))\n",
    "plt.ylabel(\"Probability density function\")\n",
    "plt.xlabel(\"risk² [a.a.]\")\n",
    "plt.legend()\n",
    "\n",
    "\n",
    "# Fit a Lognormal distribution to theYoY covariance\n",
    "plt.subplot(1, 3, 2)\n",
    "sigma, loc, scale = lognorm.fit(cov12)\n",
    "\n",
    "sns.histplot(data= cov12, bins=30, stat=\"density\", kde=True, color='lightgreen', edgecolor='red')\n",
    "xmin, xmax = plt.xlim()\n",
    "x = np.linspace(xmin, xmax, 1000)\n",
    "pdf = lognorm.pdf(x, sigma, loc= loc, scale= scale)\n",
    "\n",
    "plt.plot(x, pdf, 'k', label=\"fit-lognormal\", linewidth=2)\n",
    "plt.title(f\"cov({tickers[0]},{tickers[1]}) --> Fit results: sigma = %.2f,  loc = %.2f, scale = %.2f\" % (sigma, loc, scale))\n",
    "plt.ylabel(\"Probability density function\")\n",
    "plt.xlabel(\"risk² [a.a.]\")\n",
    "plt.legend()\n",
    "\n",
    "# Fit a Lognormal distribution to theYoY covariance\n",
    "plt.subplot(1, 3, 3)\n",
    "sigma, loc, scale = lognorm.fit(cov22)\n",
    "\n",
    "sns.histplot(data= cov22, bins=30, stat=\"density\", kde=True, color='lightgreen', edgecolor='red')\n",
    "xmin, xmax = plt.xlim()\n",
    "x = np.linspace(xmin, xmax, 1000)\n",
    "pdf = lognorm.pdf(x, sigma, loc= loc, scale= scale)\n",
    "\n",
    "plt.plot(x, pdf, 'k', label=\"fit-lognormal\", linewidth=2)\n",
    "plt.title(f\"cov({tickers[1]},{tickers[1]}) --> Fit results: sigma = %.2f,  loc = %.2f, scale = %.2f\" % (sigma, loc, scale))\n",
    "plt.ylabel(\"Probability density function\")\n",
    "plt.xlabel(\"risk² [a.a.]\")\n",
    "plt.legend()\n",
    "\n",
    "fig.tight_layout()\n",
    "fig.subplots_adjust(wspace=0.5)\n",
    "plt.show()"
   ]
  },
  {
   "cell_type": "markdown",
   "id": "bbb59ad7-0b5c-4dab-bf87-d5b5905c9fe4",
   "metadata": {
    "jp-MarkdownHeadingCollapsed": true,
    "tags": []
   },
   "source": [
    "## Correlation"
   ]
  },
  {
   "cell_type": "markdown",
   "id": "96cf2954-4ce9-45e6-b0f8-014e9a2915f9",
   "metadata": {
    "jp-MarkdownHeadingCollapsed": true,
    "tags": []
   },
   "source": [
    "### Calculation (YoY)"
   ]
  },
  {
   "cell_type": "code",
   "execution_count": 13,
   "id": "d0041b85-4e9a-4519-8378-718c62510a04",
   "metadata": {
    "tags": []
   },
   "outputs": [
    {
     "data": {
      "text/html": [
       "<div>\n",
       "<style scoped>\n",
       "    .dataframe tbody tr th:only-of-type {\n",
       "        vertical-align: middle;\n",
       "    }\n",
       "\n",
       "    .dataframe tbody tr th {\n",
       "        vertical-align: top;\n",
       "    }\n",
       "\n",
       "    .dataframe thead th {\n",
       "        text-align: right;\n",
       "    }\n",
       "</style>\n",
       "<table border=\"1\" class=\"dataframe\">\n",
       "  <thead>\n",
       "    <tr style=\"text-align: right;\">\n",
       "      <th></th>\n",
       "      <th>Ticker</th>\n",
       "      <th>BRK-B</th>\n",
       "      <th>IAU</th>\n",
       "    </tr>\n",
       "    <tr>\n",
       "      <th>Date</th>\n",
       "      <th>Ticker</th>\n",
       "      <th></th>\n",
       "      <th></th>\n",
       "    </tr>\n",
       "  </thead>\n",
       "  <tbody>\n",
       "    <tr>\n",
       "      <th rowspan=\"2\" valign=\"top\">2011-01-03</th>\n",
       "      <th>BRK-B</th>\n",
       "      <td>1.000000</td>\n",
       "      <td>0.038690</td>\n",
       "    </tr>\n",
       "    <tr>\n",
       "      <th>IAU</th>\n",
       "      <td>0.038690</td>\n",
       "      <td>1.000000</td>\n",
       "    </tr>\n",
       "    <tr>\n",
       "      <th rowspan=\"2\" valign=\"top\">2011-01-04</th>\n",
       "      <th>BRK-B</th>\n",
       "      <td>1.000000</td>\n",
       "      <td>0.040918</td>\n",
       "    </tr>\n",
       "    <tr>\n",
       "      <th>IAU</th>\n",
       "      <td>0.040918</td>\n",
       "      <td>1.000000</td>\n",
       "    </tr>\n",
       "    <tr>\n",
       "      <th>2011-01-05</th>\n",
       "      <th>BRK-B</th>\n",
       "      <td>1.000000</td>\n",
       "      <td>0.042789</td>\n",
       "    </tr>\n",
       "    <tr>\n",
       "      <th>...</th>\n",
       "      <th>...</th>\n",
       "      <td>...</td>\n",
       "      <td>...</td>\n",
       "    </tr>\n",
       "    <tr>\n",
       "      <th>2024-01-29</th>\n",
       "      <th>IAU</th>\n",
       "      <td>-0.112311</td>\n",
       "      <td>1.000000</td>\n",
       "    </tr>\n",
       "    <tr>\n",
       "      <th rowspan=\"2\" valign=\"top\">2024-01-30</th>\n",
       "      <th>BRK-B</th>\n",
       "      <td>1.000000</td>\n",
       "      <td>-0.112101</td>\n",
       "    </tr>\n",
       "    <tr>\n",
       "      <th>IAU</th>\n",
       "      <td>-0.112101</td>\n",
       "      <td>1.000000</td>\n",
       "    </tr>\n",
       "    <tr>\n",
       "      <th rowspan=\"2\" valign=\"top\">2024-01-31</th>\n",
       "      <th>BRK-B</th>\n",
       "      <td>1.000000</td>\n",
       "      <td>-0.112832</td>\n",
       "    </tr>\n",
       "    <tr>\n",
       "      <th>IAU</th>\n",
       "      <td>-0.112832</td>\n",
       "      <td>1.000000</td>\n",
       "    </tr>\n",
       "  </tbody>\n",
       "</table>\n",
       "<p>6582 rows × 2 columns</p>\n",
       "</div>"
      ],
      "text/plain": [
       "Ticker                BRK-B       IAU\n",
       "Date       Ticker                    \n",
       "2011-01-03 BRK-B   1.000000  0.038690\n",
       "           IAU     0.038690  1.000000\n",
       "2011-01-04 BRK-B   1.000000  0.040918\n",
       "           IAU     0.040918  1.000000\n",
       "2011-01-05 BRK-B   1.000000  0.042789\n",
       "...                     ...       ...\n",
       "2024-01-29 IAU    -0.112311  1.000000\n",
       "2024-01-30 BRK-B   1.000000 -0.112101\n",
       "           IAU    -0.112101  1.000000\n",
       "2024-01-31 BRK-B   1.000000 -0.112832\n",
       "           IAU    -0.112832  1.000000\n",
       "\n",
       "[6582 rows x 2 columns]"
      ]
     },
     "execution_count": 13,
     "metadata": {},
     "output_type": "execute_result"
    }
   ],
   "source": [
    "# find the covelation yoy\n",
    "corr_yoy = (df_close\n",
    "            .copy()\n",
    "            .pct_change(periods=1)\n",
    "            .dropna()\n",
    "            .rolling(window=252)\n",
    "            .corr()\n",
    "            .dropna()\n",
    "            # .apply(lambda x: x + 1.0)\n",
    ")\n",
    "\n",
    "# display(cov_yoy.describe())\n",
    "corr_yoy"
   ]
  },
  {
   "cell_type": "code",
   "execution_count": 14,
   "id": "4797e0e4-d87d-41c5-a526-d94b553085bb",
   "metadata": {
    "tags": []
   },
   "outputs": [
    {
     "data": {
      "text/html": [
       "<div>\n",
       "<style scoped>\n",
       "    .dataframe tbody tr th:only-of-type {\n",
       "        vertical-align: middle;\n",
       "    }\n",
       "\n",
       "    .dataframe tbody tr th {\n",
       "        vertical-align: top;\n",
       "    }\n",
       "\n",
       "    .dataframe thead th {\n",
       "        text-align: right;\n",
       "    }\n",
       "</style>\n",
       "<table border=\"1\" class=\"dataframe\">\n",
       "  <thead>\n",
       "    <tr style=\"text-align: right;\">\n",
       "      <th></th>\n",
       "      <th>Ticker</th>\n",
       "      <th>BRK-B</th>\n",
       "      <th>IAU</th>\n",
       "    </tr>\n",
       "    <tr>\n",
       "      <th>Date</th>\n",
       "      <th>Ticker</th>\n",
       "      <th></th>\n",
       "      <th></th>\n",
       "    </tr>\n",
       "  </thead>\n",
       "  <tbody>\n",
       "    <tr>\n",
       "      <th>2011-01-03</th>\n",
       "      <th>BRK-B</th>\n",
       "      <td>1.0</td>\n",
       "      <td>0.038690</td>\n",
       "    </tr>\n",
       "    <tr>\n",
       "      <th>2011-01-04</th>\n",
       "      <th>BRK-B</th>\n",
       "      <td>1.0</td>\n",
       "      <td>0.040918</td>\n",
       "    </tr>\n",
       "    <tr>\n",
       "      <th>2011-01-05</th>\n",
       "      <th>BRK-B</th>\n",
       "      <td>1.0</td>\n",
       "      <td>0.042789</td>\n",
       "    </tr>\n",
       "  </tbody>\n",
       "</table>\n",
       "</div>"
      ],
      "text/plain": [
       "Ticker             BRK-B       IAU\n",
       "Date       Ticker                 \n",
       "2011-01-03 BRK-B     1.0  0.038690\n",
       "2011-01-04 BRK-B     1.0  0.040918\n",
       "2011-01-05 BRK-B     1.0  0.042789"
      ]
     },
     "execution_count": 14,
     "metadata": {},
     "output_type": "execute_result"
    }
   ],
   "source": [
    "corr_yoy[(corr_yoy.index.get_level_values('Ticker') == tickers[0])].head(3)"
   ]
  },
  {
   "cell_type": "code",
   "execution_count": 15,
   "id": "a208e5b7-04a0-43f0-8540-b9d3932c0cf9",
   "metadata": {
    "tags": []
   },
   "outputs": [],
   "source": [
    "corr11 = corr_yoy[(corr_yoy.index.get_level_values('Ticker') == tickers[0])][tickers[0]].values\n",
    "corr12 = corr_yoy[(corr_yoy.index.get_level_values('Ticker') == tickers[0])][tickers[1]].values\n",
    "# corr21 = corr12\n",
    "corr22 = corr_yoy[(corr_yoy.index.get_level_values('Ticker') == tickers[1])][tickers[1]].values"
   ]
  },
  {
   "cell_type": "markdown",
   "id": "6e6ec42e-6b4a-4651-80b3-d3a2f013d21a",
   "metadata": {},
   "source": [
    "### Plots"
   ]
  },
  {
   "cell_type": "markdown",
   "id": "027d9d8f-48e6-4010-a24b-16b8232e7a82",
   "metadata": {
    "jp-MarkdownHeadingCollapsed": true,
    "tags": []
   },
   "source": [
    "#### Normal:"
   ]
  },
  {
   "cell_type": "code",
   "execution_count": 16,
   "id": "4a89e28e-27ed-4424-bd4e-af29fb34f297",
   "metadata": {
    "tags": []
   },
   "outputs": [
    {
     "data": {
      "image/png": "[encoded data removed]",
      "text/plain": [
       "<Figure size 1000x400 with 3 Axes>"
      ]
     },
     "metadata": {},
     "output_type": "display_data"
    }
   ],
   "source": [
    "# Plot the histogram of the returns_daily along with the fitted Gaussian distribution\n",
    "fig, axes = plt.subplots(nrows=1, ncols=3, figsize=(10, 4))\n",
    "\n",
    "# Fit a Gaussian distribution to the YoY corrariance\n",
    "plt.subplot(1, 3, 1)\n",
    "# mu, std = norm.fit(corr11)\n",
    "# sns.histplot(data= corr11, bins=30, stat=\"density\", kde=True, color='lightgreen', edgecolor='red')\n",
    "\n",
    "# xmin, xmax = plt.xlim()\n",
    "# x = np.linspace(xmin, xmax, 100)\n",
    "# p = norm.pdf(x, mu, std)\n",
    "\n",
    "# plt.plot(x, p, 'k', label=\"fit-normal\", linewidth=1)\n",
    "# plt.title(f\"corr({tickers[0]},{tickers[0]}) --> Fit results: mu = %.2f,  std = %.2f\" % (mu, std))\n",
    "# plt.ylabel(\"Probability density function\")\n",
    "# plt.xlabel(\"correlation [YoY]\")\n",
    "# plt.legend()\n",
    "\n",
    "# Fit a Gaussian distribution to the YoY corrariance\n",
    "plt.subplot(1, 3, 2)\n",
    "mu, std = norm.fit(corr12)\n",
    "sns.histplot(data= corr12, bins=30, stat=\"density\", kde=True, color='lightgreen', edgecolor='red')\n",
    "\n",
    "xmin, xmax = plt.xlim()\n",
    "x = np.linspace(xmin, xmax, 100)\n",
    "p = norm.pdf(x, mu, std)\n",
    "\n",
    "plt.plot(x, p, 'k', label=\"fit-normal\", linewidth=1)\n",
    "plt.title(f\"corr({tickers[0]},{tickers[1]}) --> Fit results: mu = %.2f,  std = %.2f\" % (mu, std))\n",
    "plt.ylabel(\"Probability density function\")\n",
    "plt.xlabel(\"correlation [YoY]\")\n",
    "plt.legend()\n",
    "\n",
    "# Fit a Gaussian distribution to the YoY corrariance\n",
    "plt.subplot(1, 3, 3)\n",
    "# mu, std = norm.fit(corr22)\n",
    "# sns.histplot(data= corr22, bins=30, stat=\"density\", kde=True, color='lightgreen', edgecolor='red')\n",
    "\n",
    "# xmin, xmax = plt.xlim()\n",
    "# x = np.linspace(xmin, xmax, 100)\n",
    "# p = norm.pdf(x, mu, std)\n",
    "\n",
    "# plt.plot(x, p, 'k', label=\"fit-normal\", linewidth=1)\n",
    "# plt.title(f\"corr({tickers[1]},{tickers[1]}) --> Fit results: mu = %.2f,  std = %.2f\" % (mu, std))\n",
    "# plt.ylabel(\"Probability density function\")\n",
    "# plt.xlabel(\"correlation [YoY]\")\n",
    "# plt.legend()\n",
    "\n",
    "fig.tight_layout()\n",
    "fig.subplots_adjust(wspace=0.5)\n",
    "plt.show()"
   ]
  },
  {
   "cell_type": "markdown",
   "id": "0167e130-0cee-42f6-b09f-ce3f33fbf1ff",
   "metadata": {
    "jp-MarkdownHeadingCollapsed": true,
    "tags": []
   },
   "source": [
    "#### Lognormal:"
   ]
  },
  {
   "cell_type": "code",
   "execution_count": 17,
   "id": "405261ac-47a9-4299-9eee-eb3e9c6a7fad",
   "metadata": {
    "tags": []
   },
   "outputs": [
    {
     "name": "stderr",
     "output_type": "stream",
     "text": [
      "C:\\Users\\DELL\\anaconda3\\Lib\\site-packages\\scipy\\stats\\_continuous_distns.py:6111: RuntimeWarning: invalid value encountered in log\n",
      "  lndata = np.log(data - loc)\n"
     ]
    },
    {
     "data": {
      "image/png": "[encoded data removed]",
      "text/plain": [
       "<Figure size 1000x400 with 3 Axes>"
      ]
     },
     "metadata": {},
     "output_type": "display_data"
    }
   ],
   "source": [
    "# Plot the histogram of the returns_daily along with the fitted Gaussian distribution\n",
    "fig, axes = plt.subplots(nrows=1, ncols=3, figsize=(10, 4))\n",
    "\n",
    "# Fit a Lognormal distribution to theYoY corrariance\n",
    "plt.subplot(1, 3, 1)\n",
    "# sigma, loc, scale = lognorm.fit(corr11)\n",
    "\n",
    "# sns.histplot(data= corr11, bins=30, stat=\"density\", kde=True, color='lightgreen', edgecolor='red')\n",
    "# xmin, xmax = plt.xlim()\n",
    "# x = np.linspace(xmin, xmax, 1000)\n",
    "# pdf = lognorm.pdf(x, sigma, loc= loc, scale= scale)\n",
    "\n",
    "# plt.plot(x, pdf, 'k', label=\"lognormal\", linewidth=2)\n",
    "# plt.title(f\"corr({tickers[0]},{tickers[0]}) --> Fit results: sigma = %.2f,  loc = %.2f, scale = %.2f\" % (sigma, loc, scale))\n",
    "# plt.ylabel(\"Probability density function\")\n",
    "# plt.xlabel(\"correlation [YoY]\")\n",
    "# plt.legend()\n",
    "\n",
    "\n",
    "# Fit a Lognormal distribution to theYoY corrariance\n",
    "plt.subplot(1, 3, 2)\n",
    "sigma, loc, scale = lognorm.fit(corr12)\n",
    "\n",
    "sns.histplot(data= corr12, bins=30, stat=\"density\", kde=True, color='lightgreen', edgecolor='red')\n",
    "xmin, xmax = plt.xlim()\n",
    "x = np.linspace(xmin, xmax, 1000)\n",
    "pdf = lognorm.pdf(x, sigma, loc= loc, scale= scale)\n",
    "\n",
    "plt.plot(x, pdf, 'k', label=\"fit-lognormal\", linewidth=2)\n",
    "plt.title(f\"corr({tickers[0]},{tickers[1]}) --> Fit results: sigma = %.2f,  loc = %.2f, scale = %.2f\" % (sigma, loc, scale))\n",
    "plt.ylabel(\"Probability density function\")\n",
    "plt.xlabel(\"correlation [YoY]\")\n",
    "plt.legend()\n",
    "\n",
    "# Fit a Lognormal distribution to theYoY corrariance\n",
    "plt.subplot(1, 3, 3)\n",
    "# sigma, loc, scale = lognorm.fit(corr22)\n",
    "\n",
    "# sns.histplot(data= corr22, bins=30, stat=\"density\", kde=True, color='lightgreen', edgecolor='red')\n",
    "# xmin, xmax = plt.xlim()\n",
    "# x = np.linspace(xmin, xmax, 1000)\n",
    "# pdf = lognorm.pdf(x, sigma, loc= loc, scale= scale)\n",
    "\n",
    "# plt.plot(x, pdf, 'k', label=\"fit-lognormal\", linewidth=2)\n",
    "# plt.title(f\"corr({tickers[1]},{tickers[1]}) --> Fit results: sigma = %.2f,  loc = %.2f, scale = %.2f\" % (sigma, loc, scale))\n",
    "# plt.ylabel(\"Probability density function\")\n",
    "# plt.xlabel(\"correlation [YoY]\")\n",
    "# plt.legend()\n",
    "\n",
    "fig.tight_layout()\n",
    "fig.subplots_adjust(wspace=0.5)\n",
    "plt.show()"
   ]
  },
  {
   "cell_type": "code",
   "execution_count": null,
   "id": "eb375563-0652-4c75-9bf8-89832134be47",
   "metadata": {},
   "outputs": [],
   "source": []
  },
  {
   "cell_type": "code",
   "execution_count": null,
   "id": "6a2eaa03-3b7f-4b85-90ee-2e505a32917b",
   "metadata": {},
   "outputs": [],
   "source": []
  },
  {
   "cell_type": "markdown",
   "id": "07e46ae0-2b2f-466d-86ed-67e3738f4b68",
   "metadata": {
    "tags": []
   },
   "source": [
    "## Monte carlo simulation"
   ]
  },
  {
   "cell_type": "markdown",
   "id": "c9479534-7486-4f50-8a34-8b1d937d68fe",
   "metadata": {
    "tags": []
   },
   "source": [
    "### Equations:\n",
    "<br>\n",
    "\n",
    "- **Portfolio Return**:\n",
    "<br>\n",
    "$$ R_P = {\\omega}^T \\cdot R $$\n",
    "<br>\n",
    "with $R_P$ being the return of the portfolio, $\\omega$ the weights and $R$ the returns of the assets. Each one are given by:\n",
    "<br><br>\n",
    "\n",
    "<table>\n",
    "  <tr>\n",
    "    <td>\n",
    "      $$\n",
    "        \\omega = \\begin{bmatrix}\n",
    "                {\\omega}_A \\\\\n",
    "                {\\omega}_B \\\\\n",
    "                {\\omega}_C \\\\\n",
    "        \\end{bmatrix},\n",
    "      $$\n",
    "    </td>\n",
    "    <td>\n",
    "      and\n",
    "    </td>\n",
    "    <td>\n",
    "    $$\n",
    "        R = \\begin{bmatrix}\n",
    "                R_A \\\\\n",
    "                R_B \\\\\n",
    "                R_C \\\\\n",
    "        \\end{bmatrix}.\n",
    "    $$\n",
    "    </td>\n",
    "  </tr>\n",
    "</table>\n",
    "\n",
    "<br>\n",
    "\n",
    "- **Portfolio Risk**: \n",
    "<br>\n",
    "$$ {{\\sigma}^2_P} = {\\omega}^T \\cdot \\Sigma \\cdot \\omega $$\n",
    "<br>\n",
    "in wich ${{\\sigma}^2_P}$ is the variance of the portfolio and $\\Sigma$ is the covariance matrix of the assets. The covariance matrix is given by:\n",
    "<br>\n",
    "<br>\n",
    "$$ \\Sigma = \\begin{bmatrix}\n",
    "                {{\\sigma}^2_A} & cov(A,B) & cov(A,C) \\\\\n",
    "                cov(A,B) & {{\\sigma}^2_B} & cov(B,C) \\\\\n",
    "                cov(A,C) & cov(B,C) & {{\\sigma}^2_C} \\\\\n",
    "            \\end{bmatrix}.\n",
    "$$\n",
    "<br>\n",
    "\n",
    "\n"
   ]
  },
  {
   "cell_type": "markdown",
   "id": "4fd36a0e-f3c9-4597-bad2-134ebbd1cd64",
   "metadata": {},
   "source": [
    "## Generate samples from distributions models - Covariance"
   ]
  },
  {
   "cell_type": "markdown",
   "id": "14717870-b7c7-412b-9c79-3b23b46c0be4",
   "metadata": {
    "jp-MarkdownHeadingCollapsed": true,
    "tags": []
   },
   "source": [
    "#### Cov pairs"
   ]
  },
  {
   "cell_type": "code",
   "execution_count": 18,
   "id": "840f91ba-8fc3-486c-b1f1-02ecd0d17c40",
   "metadata": {
    "tags": []
   },
   "outputs": [],
   "source": [
    "# Number of samples\n",
    "num_samples = 1_000"
   ]
  },
  {
   "cell_type": "code",
   "execution_count": 19,
   "id": "9487e4c9-9f9f-4149-9cb7-cb3d2a485725",
   "metadata": {
    "tags": []
   },
   "outputs": [],
   "source": [
    "# Generate all pairs of assets for covariance matrix\n",
    "def generate_cov_pairs():    \n",
    "    ticker_pairs1 = [(tickers[i], tickers[j]) for i in range(len(tickers)) for j in range(i, len(tickers))]\n",
    "    ticker_pairs2 = [(j,i) for i,j in ticker_pairs1]\n",
    "    return set(ticker_pairs1).union(set(ticker_pairs2))\n",
    "\n",
    "cov_pairs = generate_cov_pairs()"
   ]
  },
  {
   "cell_type": "markdown",
   "id": "38b21f7f-f0f8-46f5-a9b9-c4863f2871cb",
   "metadata": {},
   "source": [
    "#### Covariance fitting params"
   ]
  },
  {
   "cell_type": "code",
   "execution_count": 50,
   "id": "51797b0d-431b-41a7-aa8d-e06cf98840b0",
   "metadata": {},
   "outputs": [
    {
     "name": "stderr",
     "output_type": "stream",
     "text": [
      "C:\\Users\\DELL\\anaconda3\\Lib\\site-packages\\scipy\\stats\\_continuous_distns.py:6111: RuntimeWarning: invalid value encountered in log\n",
      "  lndata = np.log(data - loc)\n",
      "C:\\Users\\DELL\\anaconda3\\Lib\\site-packages\\scipy\\stats\\_continuous_distns.py:6111: RuntimeWarning: invalid value encountered in log\n",
      "  lndata = np.log(data - loc)\n"
     ]
    }
   ],
   "source": [
    "# Empty dict to receive the parameters\n",
    "cov_fitting_params = {}\n",
    "\n",
    "for i, j in cov_pairs:\n",
    "    \n",
    "    if i == j:\n",
    "        \n",
    "        df = (df_daily_return[[i]]\n",
    "              .copy()\n",
    "              .rolling(window=252)\n",
    "              .var()\n",
    "              .dropna()\n",
    "              .apply(lambda x: 252 * x)\n",
    "            )\n",
    "        \n",
    "        sigma, loc, scale = lognorm.fit(df)\n",
    "        cov_fitting_params[(i,j)] = {\"sigma\": sigma, \"loc\": loc, \"scale\": scale}\n",
    "\n",
    "    else:\n",
    "        \n",
    "        df = (df_daily_return[[i,j]]\n",
    "              .copy()\n",
    "              .rolling(window=252)\n",
    "              .cov()\n",
    "              .dropna()\n",
    "              .apply(lambda x: 252 * x)\n",
    "            )\n",
    "    \n",
    "        cov_ij = df[(df.index.get_level_values('Ticker') == i)][j]\n",
    "    \n",
    "        sigma, loc, scale = lognorm.fit(cov_ij)    \n",
    "        cov_fitting_params[(i,j)] = {\"sigma\": sigma, \"loc\": loc, \"scale\": scale}\n",
    "    \n",
    "# cov_fitting_params\n"
   ]
  },
  {
   "cell_type": "code",
   "execution_count": null,
   "id": "0584af6a-0493-4e7b-b110-6457383c94f8",
   "metadata": {},
   "outputs": [],
   "source": []
  },
  {
   "cell_type": "code",
   "execution_count": null,
   "id": "19457dc4-e529-42b1-8b93-82fd743e0953",
   "metadata": {
    "tags": []
   },
   "outputs": [],
   "source": [
    "set(ticker_pairs)"
   ]
  },
  {
   "cell_type": "code",
   "execution_count": null,
   "id": "f620185d-4b33-4811-80a5-a60bb7f48a09",
   "metadata": {},
   "outputs": [],
   "source": [
    "def calculate_return_samples(ticker, num_samples=1_000):\n",
    "    sigma   = return_fitting_params_lognormal[ticker][\"sigma\"]\n",
    "    loc     = return_fitting_params_lognormal[ticker][\"loc\"]\n",
    "    scale   = return_fitting_params_lognormal[ticker][\"scale\"]\n",
    "    samples = lognorm.rvs(sigma, loc=loc, scale=scale, size=num_samples)  \n",
    "    return samples\n",
    "\n",
    "def calculate_risk_samples(ticker, num_samples=1_000):\n",
    "    sigma   = risk_fitting_params_lognormal[ticker][\"sigma\"]\n",
    "    loc     = risk_fitting_params_lognormal[ticker][\"loc\"]\n",
    "    scale   = risk_fitting_params_lognormal[ticker][\"scale\"]\n",
    "    samples = lognorm.rvs(sigma, loc=loc, scale=scale, size=num_samples)  \n",
    "    return samples"
   ]
  },
  {
   "cell_type": "code",
   "execution_count": null,
   "id": "89efe5a9-9e01-46ba-bb11-7f01810503ca",
   "metadata": {},
   "outputs": [],
   "source": [
    "# Defining return dict to receive the samples from distributions models builted with their respective parameters\n",
    "return_samples_lognormal = { ticker: calculate_return_samples(ticker, num_samples) for ticker in tickers }\n",
    "risk_samples_lognormal   = { ticker:  calculate_risk_samples(ticker, num_samples)  for ticker in tickers }"
   ]
  },
  {
   "cell_type": "code",
   "execution_count": null,
   "id": "80b56fae-f419-4554-8d53-55434e9f9568",
   "metadata": {},
   "outputs": [],
   "source": [
    "ticker = tickers[0]\n",
    "sns.histplot(returns_daily[ticker] + 1.0, bins=30, stat=\"density\", kde=True, color='blue', edgecolor=None, label=\"data samples\")\n",
    "sns.histplot(return_samples_lognormal[ticker], bins=30, stat=\"density\", kde=True, color='green', edgecolor='green', alpha=0.3, label=\"lognormal samples\")\n",
    "plt.xlabel(f\"{ticker}  ->  1.0 + return[a.a.]\")\n",
    "plt.legend()\n",
    "plt.show()"
   ]
  },
  {
   "cell_type": "code",
   "execution_count": null,
   "id": "bb5cf9fe-555f-4424-b591-e9cf6ed628ec",
   "metadata": {},
   "outputs": [],
   "source": []
  },
  {
   "cell_type": "code",
   "execution_count": null,
   "id": "7436d0bc-ab86-424c-9157-ae1f643404e0",
   "metadata": {},
   "outputs": [],
   "source": []
  },
  {
   "cell_type": "code",
   "execution_count": null,
   "id": "8bdb947c-f0f9-4d58-9e0d-9417dbfdc5e8",
   "metadata": {},
   "outputs": [],
   "source": []
  }
 ],
 "metadata": {
  "kernelspec": {
   "display_name": "Python 3 (ipykernel)",
   "language": "python",
   "name": "python3"
  },
  "language_info": {
   "codemirror_mode": {
    "name": "ipython",
    "version": 3
   },
   "file_extension": ".py",
   "mimetype": "text/x-python",
   "name": "python",
   "nbconvert_exporter": "python",
   "pygments_lexer": "ipython3",
   "version": "3.11.5"
  },
  "toc-showtags": false
 },
 "nbformat": 4,
 "nbformat_minor": 5
}
