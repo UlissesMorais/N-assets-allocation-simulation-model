{
 "cells": [
  {
   "cell_type": "markdown",
   "id": "99812ce1",
   "metadata": {
    "jp-MarkdownHeadingCollapsed": true,
    "tags": []
   },
   "source": [
    "## Import libraries"
   ]
  },
  {
   "cell_type": "code",
   "execution_count": 5,
   "id": "45cb3566",
   "metadata": {},
   "outputs": [],
   "source": [
    "import pandas as pd\n",
    "import numpy as np\n",
    "from scipy.stats import norm, lognorm"
   ]
  },
  {
   "cell_type": "code",
   "execution_count": 6,
   "id": "9b15e74b",
   "metadata": {},
   "outputs": [
    {
     "name": "stdout",
     "output_type": "stream",
     "text": [
      "Yfinance version:  0.2.37\n"
     ]
    }
   ],
   "source": [
    "print(\"Yfinance version: \" , yf.__version__)"
   ]
  },
  {
   "cell_type": "markdown",
   "id": "07e46ae0-2b2f-466d-86ed-67e3738f4b68",
   "metadata": {
    "tags": []
   },
   "source": [
    "## Monte carlo simulation"
   ]
  },
  {
   "cell_type": "markdown",
   "id": "c9479534-7486-4f50-8a34-8b1d937d68fe",
   "metadata": {
    "tags": []
   },
   "source": [
    "### Equations:\n",
    "<br>\n",
    "\n",
    "- **Portfolio Return**:\n",
    "<br>\n",
    "$$ R_P = {\\omega}^T \\cdot R $$\n",
    "<br>\n",
    "with $R_P$ being the return of the portfolio, $\\omega$ the weights and $R$ the returns of the assets. Each one are given by:\n",
    "<br><br>\n",
    "\n",
    "<table>\n",
    "  <tr>\n",
    "    <td>\n",
    "      $$\n",
    "        \\omega = \\begin{bmatrix}\n",
    "                {\\omega}_A \\\\\n",
    "                {\\omega}_B \\\\\n",
    "                {\\omega}_C \\\\\n",
    "        \\end{bmatrix},\n",
    "      $$\n",
    "    </td>\n",
    "    <td>\n",
    "      and\n",
    "    </td>\n",
    "    <td>\n",
    "    $$\n",
    "        R = \\begin{bmatrix}\n",
    "                R_A \\\\\n",
    "                R_B \\\\\n",
    "                R_C \\\\\n",
    "        \\end{bmatrix}.\n",
    "    $$\n",
    "    </td>\n",
    "  </tr>\n",
    "</table>\n",
    "\n",
    "<br>\n",
    "\n",
    "- **Portfolio Risk**: \n",
    "<br>\n",
    "$$ {{\\sigma}^2_P} = {\\omega}^T \\cdot \\Sigma \\cdot \\omega $$\n",
    "<br>\n",
    "in wich ${{\\sigma}^2_P}$ is the variance of the portfolio and $\\Sigma$ is the covariance matrix of the assets. The covariance matrix is given by:\n",
    "<br>\n",
    "<br>\n",
    "$$ \\Sigma = \\begin{bmatrix}\n",
    "                {{\\sigma}^2_A} & cov(A,B) & cov(A,C) \\\\\n",
    "                cov(A,B) & {{\\sigma}^2_B} & cov(B,C) \\\\\n",
    "                cov(A,C) & cov(B,C) & {{\\sigma}^2_C} \\\\\n",
    "            \\end{bmatrix}.\n",
    "$$\n",
    "<br>\n",
    "<br>\n",
    "The weight matrix ${\\omega}$ have dimensios of $({n}_{stocks}, {n}_{samples})$, with ${n}_{stocks}$ being the number of stocks in the portfolio and ${n}_{samples}$ the number of samples for data simulation. So, the weight matrix is defined as:\n",
    "<br>\n",
    "<br>\n",
    "$$ \\large{\\omega} = \\small \\begin{bmatrix}\n",
    "                                {{\\omega}^{(1)}_1} & {{\\omega}^{(1)}_2} & {{\\omega}^{(1)}_3} & \\cdot \\cdot \\cdot & {{\\omega}^{(1)}_{n_{samples}}} \\\\\n",
    "                                {{\\omega}^{(2)}_1} & {{\\omega}^{(2)}_2} & {{\\omega}^{(2)}_3} & \\cdot \\cdot \\cdot & {{\\omega}^{(2)}_{n_{samples}}} \\\\\n",
    "                                {{\\omega}^{(3)}_1} & {{\\omega}^{(3)}_2} & {{\\omega}^{(3)}_3} & \\cdot \\cdot \\cdot & {{\\omega}^{(2)}_{n_{samples}}} \\\\\n",
    "                                \\cdot              &      \\cdot         &         \\cdot      &         \\cdot     &            \\cdot                \\\\\n",
    "                                {{\\omega}^{(n_{stocks})}_1} & {{\\omega}^{(n_{stocks})}_2} & {{\\omega}^{(n_{stocks})}_3} & \\cdot \\cdot \\cdot & {{\\omega}^{(n_{stocks})}_{n_{samples}}} \\\\\n",
    "                    \\end{bmatrix}.\n",
    "$$\n",
    "<br>\n",
    "\n"
   ]
  },
  {
   "cell_type": "markdown",
   "id": "3a4dd00b-332a-4ad0-9325-6edfe4b6fc0f",
   "metadata": {
    "tags": []
   },
   "source": [
    "#### Generate asset weights"
   ]
  },
  {
   "cell_type": "code",
   "execution_count": 8,
   "id": "972e1d1e-f2fd-4b95-8f07-bf4d43e4e14b",
   "metadata": {},
   "outputs": [],
   "source": [
    "# Matrix of the weights\n",
    "num_samples = 5\n",
    "w1  = np.random.uniform(low=0.0, high=1.0, size=num_samples).reshape((num_samples, 1))\n",
    "w2  = 1.0 - w1"
   ]
  },
  {
   "cell_type": "code",
   "execution_count": null,
   "id": "2420032a-e17b-4f91-b85e-46d356e1e358",
   "metadata": {},
   "outputs": [],
   "source": []
  },
  {
   "cell_type": "code",
   "execution_count": null,
   "id": "e9e53b2c-b2ee-48fb-8905-424cf3332c4b",
   "metadata": {},
   "outputs": [],
   "source": []
  },
  {
   "cell_type": "code",
   "execution_count": null,
   "id": "a6f909e0-3449-49fd-8daa-998760a244df",
   "metadata": {},
   "outputs": [],
   "source": []
  },
  {
   "cell_type": "code",
   "execution_count": null,
   "id": "a9a74861-30d1-4323-8b91-6aba8249d15e",
   "metadata": {
    "tags": []
   },
   "outputs": [],
   "source": []
  },
  {
   "cell_type": "code",
   "execution_count": null,
   "id": "d082e0db-86a2-4042-8064-5558cf8733be",
   "metadata": {},
   "outputs": [],
   "source": []
  }
 ],
 "metadata": {
  "kernelspec": {
   "display_name": "Python 3 (ipykernel)",
   "language": "python",
   "name": "python3"
  },
  "language_info": {
   "codemirror_mode": {
    "name": "ipython",
    "version": 3
   },
   "file_extension": ".py",
   "mimetype": "text/x-python",
   "name": "python",
   "nbconvert_exporter": "python",
   "pygments_lexer": "ipython3",
   "version": "3.11.5"
  },
  "toc-showtags": false
 },
 "nbformat": 4,
 "nbformat_minor": 5
}
