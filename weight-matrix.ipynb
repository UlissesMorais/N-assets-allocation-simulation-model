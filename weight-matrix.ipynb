{
 "cells": [
  {
   "cell_type": "markdown",
   "id": "99812ce1",
   "metadata": {
    "tags": []
   },
   "source": [
    "## Import libraries"
   ]
  },
  {
   "cell_type": "code",
   "execution_count": 1,
   "id": "45cb3566",
   "metadata": {},
   "outputs": [],
   "source": [
    "import numpy as np\n",
    "from scipy.stats import uniform"
   ]
  },
  {
   "cell_type": "code",
   "execution_count": 2,
   "id": "5ae97639-c1df-4c0c-80dd-c37a7a36dc5e",
   "metadata": {
    "tags": []
   },
   "outputs": [],
   "source": [
    "# select tickers\n",
    "tickers = [\"BRK-B\", \"IAU\"]#, \"MSFT\", \"META\"] #, \"GOOG\", \"AMZN\", \"AAPL\", \"TSM\", \"BAC\", \"WFC\"]  #VALE, KO, JNJ, DG, DIS, SPY "
   ]
  },
  {
   "cell_type": "markdown",
   "id": "07e46ae0-2b2f-466d-86ed-67e3738f4b68",
   "metadata": {
    "tags": []
   },
   "source": [
    "## Monte carlo simulation"
   ]
  },
  {
   "cell_type": "markdown",
   "id": "c9479534-7486-4f50-8a34-8b1d937d68fe",
   "metadata": {
    "tags": []
   },
   "source": [
    "### Equations:\n",
    "<br>\n",
    "\n",
    "- **Portfolio Return**:\n",
    "<br>\n",
    "$$ \\large R_P = {\\omega}^T \\cdot R $$\n",
    "<br>\n",
    "with $R_P$ being the return of the portfolio, $\\omega$ the weights and $R$ the returns of the assets. Each one are given by:\n",
    "<br><br>\n",
    "\n",
    "<table>\n",
    "  <tr>\n",
    "    <td>\n",
    "      $$\n",
    "        \\large{\\omega} = \\small \\begin{bmatrix}\n",
    "                {\\omega}_A \\\\\n",
    "                {\\omega}_B \\\\\n",
    "                {\\omega}_C \\\\\n",
    "        \\end{bmatrix},\n",
    "      $$\n",
    "    </td>\n",
    "    <td>\n",
    "      and\n",
    "    </td>\n",
    "    <td>\n",
    "    $$\n",
    "        \\large{R} = \\small \\begin{bmatrix}\n",
    "                R_A \\\\\n",
    "                R_B \\\\\n",
    "                R_C \\\\\n",
    "        \\end{bmatrix}.\n",
    "    $$\n",
    "    </td>\n",
    "  </tr>\n",
    "</table>\n",
    "\n",
    "<br>\n",
    "\n",
    "- **Portfolio Risk**: \n",
    "<br>\n",
    "$$ \\large{{\\sigma}^2_P} = {\\omega}^T \\cdot \\Sigma \\cdot \\omega $$\n",
    "<br>\n",
    "in wich ${{\\sigma}^2_P}$ is the variance of the portfolio and $\\Sigma$ is the covariance matrix of the assets. The covariance matrix is given by:\n",
    "<br>\n",
    "<br>\n",
    "$$ \\large{\\Sigma} = \\small \\begin{bmatrix}\n",
    "                {{\\sigma}^2_A} & cov(A,B) & cov(A,C) \\\\\n",
    "                cov(A,B) & {{\\sigma}^2_B} & cov(B,C) \\\\\n",
    "                cov(A,C) & cov(B,C) & {{\\sigma}^2_C} \\\\\n",
    "            \\end{bmatrix}.\n",
    "$$\n",
    "<br>\n",
    "<br>\n",
    "The weight matrix ${\\omega}$ have dimensios of $({n}_{stocks}, {n}_{samples})$, with ${n}_{stocks}$ being the number of stocks in the portfolio and ${n}_{samples}$ the number of samples for data simulation. So, the weight matrix is defined as:\n",
    "<br>\n",
    "<br>\n",
    "$$ \\large{\\omega} = \\small \\begin{bmatrix}\n",
    "                                {{\\omega}^{(1)}_1} & {{\\omega}^{(1)}_2} & {{\\omega}^{(1)}_3} & \\cdot \\cdot \\cdot & {{\\omega}^{(1)}_{n_{samples}}} \\\\\n",
    "                                {{\\omega}^{(2)}_1} & {{\\omega}^{(2)}_2} & {{\\omega}^{(2)}_3} & \\cdot \\cdot \\cdot & {{\\omega}^{(2)}_{n_{samples}}} \\\\\n",
    "                                {{\\omega}^{(3)}_1} & {{\\omega}^{(3)}_2} & {{\\omega}^{(3)}_3} & \\cdot \\cdot \\cdot & {{\\omega}^{(3)}_{n_{samples}}} \\\\\n",
    "                                \\cdot              &      \\cdot         &         \\cdot      &         \\cdot     &            \\cdot                \\\\\n",
    "                                {{\\omega}^{(n_{stocks})}_1} & {{\\omega}^{(n_{stocks})}_2} & {{\\omega}^{(n_{stocks})}_3} & \\cdot \\cdot \\cdot & {{\\omega}^{(n_{stocks})}_{n_{samples}}} \\\\\n",
    "                    \\end{bmatrix}.\n",
    "$$\n",
    "<br>\n",
    "\n"
   ]
  },
  {
   "cell_type": "markdown",
   "id": "3a4dd00b-332a-4ad0-9325-6edfe4b6fc0f",
   "metadata": {
    "jp-MarkdownHeadingCollapsed": true,
    "tags": []
   },
   "source": [
    "#### Generate asset weights"
   ]
  },
  {
   "cell_type": "code",
   "execution_count": 3,
   "id": "972e1d1e-f2fd-4b95-8f07-bf4d43e4e14b",
   "metadata": {},
   "outputs": [],
   "source": [
    "def make_wight_matrix(n_tickers, n_samples=1000):\n",
    "    rand_values = uniform.rvs(size= int(n_tickers * n_samples)).reshape((n_tickers, n_samples))\n",
    "    normalized_values = rand_values / rand_values.sum(axis=0, keepdims=True)\n",
    "    return normalized_values\n"
   ]
  },
  {
   "cell_type": "code",
   "execution_count": 4,
   "id": "2420032a-e17b-4f91-b85e-46d356e1e358",
   "metadata": {},
   "outputs": [
    {
     "data": {
      "text/plain": [
       "array([[0.59586689, 0.29976143, 0.49025142, 0.9931    , 0.32988634],\n",
       "       [0.40413311, 0.70023857, 0.50974858, 0.0069    , 0.67011366]])"
      ]
     },
     "execution_count": 4,
     "metadata": {},
     "output_type": "execute_result"
    }
   ],
   "source": [
    "num_samples = 5\n",
    "\n",
    "# Matrix of the weights\n",
    "weight_matrix = make_wight_matrix(len(tickers), num_samples)\n",
    "weight_matrix"
   ]
  },
  {
   "cell_type": "markdown",
   "id": "f2778cbb-d4fc-4a67-a319-bb3587427cd1",
   "metadata": {
    "tags": []
   },
   "source": [
    "#### Build final array"
   ]
  },
  {
   "cell_type": "code",
   "execution_count": 13,
   "id": "a6f909e0-3449-49fd-8daa-998760a244df",
   "metadata": {},
   "outputs": [],
   "source": [
    "AA = np.dot( np.dot( weight_matrix.T, np.random.rand(num_samples, len(tickers), len(tickers)) ),  weight_matrix)\n",
    "\n",
    "# Assuming AA is your numpy matrix of shape (n, n, n)\n",
    "n = AA.shape[0]\n",
    "\n",
    "# Initialize BB with zeros of shape (n, n)\n",
    "BB = np.zeros((n, n))\n",
    "\n",
    "# Loop through the indices and assign values from AA to BB\n",
    "for i in range(n):\n",
    "    BB[:, i] = AA[i, :, i]\n",
    "\n"
   ]
  },
  {
   "cell_type": "code",
   "execution_count": null,
   "id": "be73aaed-3d9e-4191-aea8-470cce4a8287",
   "metadata": {},
   "outputs": [],
   "source": []
  }
 ],
 "metadata": {
  "kernelspec": {
   "display_name": "Python 3 (ipykernel)",
   "language": "python",
   "name": "python3"
  },
  "language_info": {
   "codemirror_mode": {
    "name": "ipython",
    "version": 3
   },
   "file_extension": ".py",
   "mimetype": "text/x-python",
   "name": "python",
   "nbconvert_exporter": "python",
   "pygments_lexer": "ipython3",
   "version": "3.11.5"
  },
  "toc-showtags": false
 },
 "nbformat": 4,
 "nbformat_minor": 5
}
