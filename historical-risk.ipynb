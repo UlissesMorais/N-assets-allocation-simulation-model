{
 "cells": [
  {
   "cell_type": "markdown",
   "id": "99812ce1",
   "metadata": {
    "jp-MarkdownHeadingCollapsed": true,
    "tags": []
   },
   "source": [
    "## Import libraries"
   ]
  },
  {
   "cell_type": "code",
   "execution_count": 1,
   "id": "45cb3566",
   "metadata": {},
   "outputs": [],
   "source": [
    "import pandas as pd\n",
    "import numpy as np\n",
    "import matplotlib.pyplot as plt\n",
    "import seaborn as sns\n",
    "import yfinance as yf\n",
    "from scipy.stats import norm, lognorm, uniform\n",
    "\n",
    "import warnings\n",
    "# warnings.filterwarnings('ignore')"
   ]
  },
  {
   "cell_type": "code",
   "execution_count": 2,
   "id": "9b15e74b",
   "metadata": {},
   "outputs": [
    {
     "name": "stdout",
     "output_type": "stream",
     "text": [
      "Yfinance version:  0.2.37\n"
     ]
    }
   ],
   "source": [
    "print(\"Yfinance version: \" , yf.__version__)"
   ]
  },
  {
   "cell_type": "code",
   "execution_count": 3,
   "id": "a2172057-48b5-4a35-a2e1-d74bde21f569",
   "metadata": {
    "tags": []
   },
   "outputs": [],
   "source": [
    "# Set default parameters for plt.title()\n",
    "plt.rcParams['axes.titlepad'] = 12  # Set padding around the title\n",
    "plt.rcParams['axes.titleweight'] = 'normal'  # Set title font size\n",
    "plt.rcParams['axes.titlesize'] = 9  # Set title font size"
   ]
  },
  {
   "cell_type": "markdown",
   "id": "90a60dac",
   "metadata": {
    "jp-MarkdownHeadingCollapsed": true,
    "tags": []
   },
   "source": [
    "## Fetch data"
   ]
  },
  {
   "cell_type": "code",
   "execution_count": 4,
   "id": "2be220cb",
   "metadata": {},
   "outputs": [],
   "source": [
    "def fetch_stock_data(tickers, start_date, end_date, interval):\n",
    "    data = yf.download(tickers, start=start_date, end=end_date, interval=interval)\n",
    "    return data"
   ]
  },
  {
   "cell_type": "code",
   "execution_count": 5,
   "id": "b158dd00",
   "metadata": {},
   "outputs": [
    {
     "name": "stderr",
     "output_type": "stream",
     "text": [
      "[*********************100%%**********************]  8 of 8 completed\n"
     ]
    },
    {
     "data": {
      "text/html": [
       "<div>\n",
       "<style scoped>\n",
       "    .dataframe tbody tr th:only-of-type {\n",
       "        vertical-align: middle;\n",
       "    }\n",
       "\n",
       "    .dataframe tbody tr th {\n",
       "        vertical-align: top;\n",
       "    }\n",
       "\n",
       "    .dataframe thead tr th {\n",
       "        text-align: left;\n",
       "    }\n",
       "\n",
       "    .dataframe thead tr:last-of-type th {\n",
       "        text-align: right;\n",
       "    }\n",
       "</style>\n",
       "<table border=\"1\" class=\"dataframe\">\n",
       "  <thead>\n",
       "    <tr>\n",
       "      <th>Price</th>\n",
       "      <th colspan=\"8\" halign=\"left\">Adj Close</th>\n",
       "      <th colspan=\"2\" halign=\"left\">Close</th>\n",
       "      <th>...</th>\n",
       "      <th colspan=\"2\" halign=\"left\">Open</th>\n",
       "      <th colspan=\"8\" halign=\"left\">Volume</th>\n",
       "    </tr>\n",
       "    <tr>\n",
       "      <th>Ticker</th>\n",
       "      <th>BRK-B</th>\n",
       "      <th>DG</th>\n",
       "      <th>DIS</th>\n",
       "      <th>GOOG</th>\n",
       "      <th>IAU</th>\n",
       "      <th>JNJ</th>\n",
       "      <th>KO</th>\n",
       "      <th>MSFT</th>\n",
       "      <th>BRK-B</th>\n",
       "      <th>DG</th>\n",
       "      <th>...</th>\n",
       "      <th>KO</th>\n",
       "      <th>MSFT</th>\n",
       "      <th>BRK-B</th>\n",
       "      <th>DG</th>\n",
       "      <th>DIS</th>\n",
       "      <th>GOOG</th>\n",
       "      <th>IAU</th>\n",
       "      <th>JNJ</th>\n",
       "      <th>KO</th>\n",
       "      <th>MSFT</th>\n",
       "    </tr>\n",
       "    <tr>\n",
       "      <th>Date</th>\n",
       "      <th></th>\n",
       "      <th></th>\n",
       "      <th></th>\n",
       "      <th></th>\n",
       "      <th></th>\n",
       "      <th></th>\n",
       "      <th></th>\n",
       "      <th></th>\n",
       "      <th></th>\n",
       "      <th></th>\n",
       "      <th></th>\n",
       "      <th></th>\n",
       "      <th></th>\n",
       "      <th></th>\n",
       "      <th></th>\n",
       "      <th></th>\n",
       "      <th></th>\n",
       "      <th></th>\n",
       "      <th></th>\n",
       "      <th></th>\n",
       "      <th></th>\n",
       "    </tr>\n",
       "  </thead>\n",
       "  <tbody>\n",
       "    <tr>\n",
       "      <th>2010-01-04</th>\n",
       "      <td>66.220001</td>\n",
       "      <td>20.905287</td>\n",
       "      <td>27.843176</td>\n",
       "      <td>15.610239</td>\n",
       "      <td>21.978001</td>\n",
       "      <td>42.650639</td>\n",
       "      <td>18.498016</td>\n",
       "      <td>23.431591</td>\n",
       "      <td>66.220001</td>\n",
       "      <td>23.080000</td>\n",
       "      <td>...</td>\n",
       "      <td>28.580000</td>\n",
       "      <td>30.620001</td>\n",
       "      <td>1575000</td>\n",
       "      <td>437200</td>\n",
       "      <td>13700400</td>\n",
       "      <td>78541293</td>\n",
       "      <td>1185000</td>\n",
       "      <td>9506200</td>\n",
       "      <td>13870400</td>\n",
       "      <td>38409100</td>\n",
       "    </tr>\n",
       "    <tr>\n",
       "      <th>2010-01-05</th>\n",
       "      <td>66.540001</td>\n",
       "      <td>21.068327</td>\n",
       "      <td>27.773722</td>\n",
       "      <td>15.541497</td>\n",
       "      <td>21.954000</td>\n",
       "      <td>42.156075</td>\n",
       "      <td>18.274250</td>\n",
       "      <td>23.439157</td>\n",
       "      <td>66.540001</td>\n",
       "      <td>23.260000</td>\n",
       "      <td>...</td>\n",
       "      <td>28.424999</td>\n",
       "      <td>30.850000</td>\n",
       "      <td>1310000</td>\n",
       "      <td>283600</td>\n",
       "      <td>10307700</td>\n",
       "      <td>120638494</td>\n",
       "      <td>936000</td>\n",
       "      <td>10673100</td>\n",
       "      <td>23172400</td>\n",
       "      <td>49749600</td>\n",
       "    </tr>\n",
       "    <tr>\n",
       "      <th>2010-01-06</th>\n",
       "      <td>66.199997</td>\n",
       "      <td>21.358166</td>\n",
       "      <td>27.626127</td>\n",
       "      <td>15.149715</td>\n",
       "      <td>22.326000</td>\n",
       "      <td>42.498966</td>\n",
       "      <td>18.267767</td>\n",
       "      <td>23.295319</td>\n",
       "      <td>66.199997</td>\n",
       "      <td>23.580000</td>\n",
       "      <td>...</td>\n",
       "      <td>28.174999</td>\n",
       "      <td>30.879999</td>\n",
       "      <td>1760000</td>\n",
       "      <td>968100</td>\n",
       "      <td>10709500</td>\n",
       "      <td>159744526</td>\n",
       "      <td>1091000</td>\n",
       "      <td>13171500</td>\n",
       "      <td>19264600</td>\n",
       "      <td>58182400</td>\n",
       "    </tr>\n",
       "    <tr>\n",
       "      <th>2010-01-07</th>\n",
       "      <td>66.459999</td>\n",
       "      <td>21.503098</td>\n",
       "      <td>27.634811</td>\n",
       "      <td>14.797037</td>\n",
       "      <td>22.181999</td>\n",
       "      <td>42.195641</td>\n",
       "      <td>18.222361</td>\n",
       "      <td>23.053055</td>\n",
       "      <td>66.459999</td>\n",
       "      <td>23.740000</td>\n",
       "      <td>...</td>\n",
       "      <td>28.165001</td>\n",
       "      <td>30.629999</td>\n",
       "      <td>1505000</td>\n",
       "      <td>360700</td>\n",
       "      <td>8202100</td>\n",
       "      <td>257533695</td>\n",
       "      <td>811500</td>\n",
       "      <td>10901600</td>\n",
       "      <td>13234600</td>\n",
       "      <td>50559700</td>\n",
       "    </tr>\n",
       "    <tr>\n",
       "      <th>2010-01-08</th>\n",
       "      <td>66.440002</td>\n",
       "      <td>21.620844</td>\n",
       "      <td>27.678221</td>\n",
       "      <td>14.994298</td>\n",
       "      <td>22.290001</td>\n",
       "      <td>42.340706</td>\n",
       "      <td>17.885094</td>\n",
       "      <td>23.212046</td>\n",
       "      <td>66.440002</td>\n",
       "      <td>23.870001</td>\n",
       "      <td>...</td>\n",
       "      <td>27.730000</td>\n",
       "      <td>30.280001</td>\n",
       "      <td>1500000</td>\n",
       "      <td>967300</td>\n",
       "      <td>7657500</td>\n",
       "      <td>189680313</td>\n",
       "      <td>737000</td>\n",
       "      <td>7898000</td>\n",
       "      <td>28712400</td>\n",
       "      <td>51197400</td>\n",
       "    </tr>\n",
       "    <tr>\n",
       "      <th>...</th>\n",
       "      <td>...</td>\n",
       "      <td>...</td>\n",
       "      <td>...</td>\n",
       "      <td>...</td>\n",
       "      <td>...</td>\n",
       "      <td>...</td>\n",
       "      <td>...</td>\n",
       "      <td>...</td>\n",
       "      <td>...</td>\n",
       "      <td>...</td>\n",
       "      <td>...</td>\n",
       "      <td>...</td>\n",
       "      <td>...</td>\n",
       "      <td>...</td>\n",
       "      <td>...</td>\n",
       "      <td>...</td>\n",
       "      <td>...</td>\n",
       "      <td>...</td>\n",
       "      <td>...</td>\n",
       "      <td>...</td>\n",
       "      <td>...</td>\n",
       "    </tr>\n",
       "    <tr>\n",
       "      <th>2024-01-25</th>\n",
       "      <td>380.850006</td>\n",
       "      <td>132.880005</td>\n",
       "      <td>94.860001</td>\n",
       "      <td>153.639999</td>\n",
       "      <td>38.230000</td>\n",
       "      <td>158.357635</td>\n",
       "      <td>59.160000</td>\n",
       "      <td>404.122681</td>\n",
       "      <td>380.850006</td>\n",
       "      <td>132.880005</td>\n",
       "      <td>...</td>\n",
       "      <td>59.009998</td>\n",
       "      <td>404.320007</td>\n",
       "      <td>4055800</td>\n",
       "      <td>2097700</td>\n",
       "      <td>8661600</td>\n",
       "      <td>21495100</td>\n",
       "      <td>4637800</td>\n",
       "      <td>5478900</td>\n",
       "      <td>14899700</td>\n",
       "      <td>21021200</td>\n",
       "    </tr>\n",
       "    <tr>\n",
       "      <th>2024-01-26</th>\n",
       "      <td>385.399994</td>\n",
       "      <td>133.449997</td>\n",
       "      <td>95.360001</td>\n",
       "      <td>153.789993</td>\n",
       "      <td>38.180000</td>\n",
       "      <td>158.298096</td>\n",
       "      <td>59.369999</td>\n",
       "      <td>403.184418</td>\n",
       "      <td>385.399994</td>\n",
       "      <td>133.449997</td>\n",
       "      <td>...</td>\n",
       "      <td>59.250000</td>\n",
       "      <td>404.369995</td>\n",
       "      <td>3621400</td>\n",
       "      <td>1384200</td>\n",
       "      <td>7812800</td>\n",
       "      <td>19494500</td>\n",
       "      <td>3288100</td>\n",
       "      <td>5591900</td>\n",
       "      <td>13025100</td>\n",
       "      <td>17803300</td>\n",
       "    </tr>\n",
       "    <tr>\n",
       "      <th>2024-01-29</th>\n",
       "      <td>383.179993</td>\n",
       "      <td>133.690002</td>\n",
       "      <td>97.489998</td>\n",
       "      <td>154.839996</td>\n",
       "      <td>38.459999</td>\n",
       "      <td>158.159149</td>\n",
       "      <td>59.730000</td>\n",
       "      <td>408.963715</td>\n",
       "      <td>383.179993</td>\n",
       "      <td>133.690002</td>\n",
       "      <td>...</td>\n",
       "      <td>59.340000</td>\n",
       "      <td>406.059998</td>\n",
       "      <td>3797400</td>\n",
       "      <td>2488600</td>\n",
       "      <td>13422200</td>\n",
       "      <td>20909300</td>\n",
       "      <td>3503900</td>\n",
       "      <td>6483200</td>\n",
       "      <td>14547100</td>\n",
       "      <td>24510200</td>\n",
       "    </tr>\n",
       "    <tr>\n",
       "      <th>2024-01-30</th>\n",
       "      <td>387.149994</td>\n",
       "      <td>131.919998</td>\n",
       "      <td>96.940002</td>\n",
       "      <td>153.050003</td>\n",
       "      <td>38.509998</td>\n",
       "      <td>157.573593</td>\n",
       "      <td>59.900002</td>\n",
       "      <td>407.835815</td>\n",
       "      <td>387.149994</td>\n",
       "      <td>131.919998</td>\n",
       "      <td>...</td>\n",
       "      <td>59.849998</td>\n",
       "      <td>412.260010</td>\n",
       "      <td>3090900</td>\n",
       "      <td>2799300</td>\n",
       "      <td>9139600</td>\n",
       "      <td>26578900</td>\n",
       "      <td>4125600</td>\n",
       "      <td>7200500</td>\n",
       "      <td>22061500</td>\n",
       "      <td>33477600</td>\n",
       "    </tr>\n",
       "    <tr>\n",
       "      <th>2024-01-31</th>\n",
       "      <td>383.739990</td>\n",
       "      <td>132.070007</td>\n",
       "      <td>96.050003</td>\n",
       "      <td>141.800003</td>\n",
       "      <td>38.490002</td>\n",
       "      <td>157.702606</td>\n",
       "      <td>59.490002</td>\n",
       "      <td>396.846130</td>\n",
       "      <td>383.739990</td>\n",
       "      <td>132.070007</td>\n",
       "      <td>...</td>\n",
       "      <td>60.099998</td>\n",
       "      <td>406.959991</td>\n",
       "      <td>3856400</td>\n",
       "      <td>1803700</td>\n",
       "      <td>9592300</td>\n",
       "      <td>43908600</td>\n",
       "      <td>9428800</td>\n",
       "      <td>8256800</td>\n",
       "      <td>22837000</td>\n",
       "      <td>47871100</td>\n",
       "    </tr>\n",
       "  </tbody>\n",
       "</table>\n",
       "<p>3543 rows × 48 columns</p>\n",
       "</div>"
      ],
      "text/plain": [
       "Price        Adj Close                                                \\\n",
       "Ticker           BRK-B          DG        DIS        GOOG        IAU   \n",
       "Date                                                                   \n",
       "2010-01-04   66.220001   20.905287  27.843176   15.610239  21.978001   \n",
       "2010-01-05   66.540001   21.068327  27.773722   15.541497  21.954000   \n",
       "2010-01-06   66.199997   21.358166  27.626127   15.149715  22.326000   \n",
       "2010-01-07   66.459999   21.503098  27.634811   14.797037  22.181999   \n",
       "2010-01-08   66.440002   21.620844  27.678221   14.994298  22.290001   \n",
       "...                ...         ...        ...         ...        ...   \n",
       "2024-01-25  380.850006  132.880005  94.860001  153.639999  38.230000   \n",
       "2024-01-26  385.399994  133.449997  95.360001  153.789993  38.180000   \n",
       "2024-01-29  383.179993  133.690002  97.489998  154.839996  38.459999   \n",
       "2024-01-30  387.149994  131.919998  96.940002  153.050003  38.509998   \n",
       "2024-01-31  383.739990  132.070007  96.050003  141.800003  38.490002   \n",
       "\n",
       "Price                                               Close              ...  \\\n",
       "Ticker             JNJ         KO        MSFT       BRK-B          DG  ...   \n",
       "Date                                                                   ...   \n",
       "2010-01-04   42.650639  18.498016   23.431591   66.220001   23.080000  ...   \n",
       "2010-01-05   42.156075  18.274250   23.439157   66.540001   23.260000  ...   \n",
       "2010-01-06   42.498966  18.267767   23.295319   66.199997   23.580000  ...   \n",
       "2010-01-07   42.195641  18.222361   23.053055   66.459999   23.740000  ...   \n",
       "2010-01-08   42.340706  17.885094   23.212046   66.440002   23.870001  ...   \n",
       "...                ...        ...         ...         ...         ...  ...   \n",
       "2024-01-25  158.357635  59.160000  404.122681  380.850006  132.880005  ...   \n",
       "2024-01-26  158.298096  59.369999  403.184418  385.399994  133.449997  ...   \n",
       "2024-01-29  158.159149  59.730000  408.963715  383.179993  133.690002  ...   \n",
       "2024-01-30  157.573593  59.900002  407.835815  387.149994  131.919998  ...   \n",
       "2024-01-31  157.702606  59.490002  396.846130  383.739990  132.070007  ...   \n",
       "\n",
       "Price            Open               Volume                                \\\n",
       "Ticker             KO        MSFT    BRK-B       DG       DIS       GOOG   \n",
       "Date                                                                       \n",
       "2010-01-04  28.580000   30.620001  1575000   437200  13700400   78541293   \n",
       "2010-01-05  28.424999   30.850000  1310000   283600  10307700  120638494   \n",
       "2010-01-06  28.174999   30.879999  1760000   968100  10709500  159744526   \n",
       "2010-01-07  28.165001   30.629999  1505000   360700   8202100  257533695   \n",
       "2010-01-08  27.730000   30.280001  1500000   967300   7657500  189680313   \n",
       "...               ...         ...      ...      ...       ...        ...   \n",
       "2024-01-25  59.009998  404.320007  4055800  2097700   8661600   21495100   \n",
       "2024-01-26  59.250000  404.369995  3621400  1384200   7812800   19494500   \n",
       "2024-01-29  59.340000  406.059998  3797400  2488600  13422200   20909300   \n",
       "2024-01-30  59.849998  412.260010  3090900  2799300   9139600   26578900   \n",
       "2024-01-31  60.099998  406.959991  3856400  1803700   9592300   43908600   \n",
       "\n",
       "Price                                              \n",
       "Ticker          IAU       JNJ        KO      MSFT  \n",
       "Date                                               \n",
       "2010-01-04  1185000   9506200  13870400  38409100  \n",
       "2010-01-05   936000  10673100  23172400  49749600  \n",
       "2010-01-06  1091000  13171500  19264600  58182400  \n",
       "2010-01-07   811500  10901600  13234600  50559700  \n",
       "2010-01-08   737000   7898000  28712400  51197400  \n",
       "...             ...       ...       ...       ...  \n",
       "2024-01-25  4637800   5478900  14899700  21021200  \n",
       "2024-01-26  3288100   5591900  13025100  17803300  \n",
       "2024-01-29  3503900   6483200  14547100  24510200  \n",
       "2024-01-30  4125600   7200500  22061500  33477600  \n",
       "2024-01-31  9428800   8256800  22837000  47871100  \n",
       "\n",
       "[3543 rows x 48 columns]"
      ]
     },
     "metadata": {},
     "output_type": "display_data"
    }
   ],
   "source": [
    "# select tickers\n",
    "tickers = [\"IAU\", \"GOOG\", \"MSFT\", \"BRK-B\", \"KO\", \"JNJ\", \"DG\", \"DIS\"] #, \"BRK-B\", \"IAU\", \"GOOG\", \"AMZN\", \"AAPL\", \"TSM\", \"BAC\", \"WFC\"]  #VALE, KO, JNJ, DG, DIS, SPY \n",
    "\n",
    "# date format YYYY-MM-DD\n",
    "start_date = \"2010-01-01\"\n",
    "end_date = \"2024-02-01\"\n",
    "\n",
    "# time interval to take the cotations, in this case monthly\n",
    "interval= \"1d\"\n",
    "\n",
    "stock_data = fetch_stock_data(tickers, start_date, end_date, interval)\n",
    "\n",
    "display(stock_data)"
   ]
  },
  {
   "cell_type": "code",
   "execution_count": 6,
   "id": "0d4cb0d2",
   "metadata": {},
   "outputs": [
    {
     "data": {
      "text/html": [
       "<div>\n",
       "<style scoped>\n",
       "    .dataframe tbody tr th:only-of-type {\n",
       "        vertical-align: middle;\n",
       "    }\n",
       "\n",
       "    .dataframe tbody tr th {\n",
       "        vertical-align: top;\n",
       "    }\n",
       "\n",
       "    .dataframe thead th {\n",
       "        text-align: right;\n",
       "    }\n",
       "</style>\n",
       "<table border=\"1\" class=\"dataframe\">\n",
       "  <thead>\n",
       "    <tr style=\"text-align: right;\">\n",
       "      <th>Ticker</th>\n",
       "      <th>BRK-B</th>\n",
       "      <th>DG</th>\n",
       "      <th>DIS</th>\n",
       "      <th>GOOG</th>\n",
       "      <th>IAU</th>\n",
       "      <th>JNJ</th>\n",
       "      <th>KO</th>\n",
       "      <th>MSFT</th>\n",
       "    </tr>\n",
       "    <tr>\n",
       "      <th>Date</th>\n",
       "      <th></th>\n",
       "      <th></th>\n",
       "      <th></th>\n",
       "      <th></th>\n",
       "      <th></th>\n",
       "      <th></th>\n",
       "      <th></th>\n",
       "      <th></th>\n",
       "    </tr>\n",
       "  </thead>\n",
       "  <tbody>\n",
       "    <tr>\n",
       "      <th>2010-01-04</th>\n",
       "      <td>66.220001</td>\n",
       "      <td>23.08</td>\n",
       "      <td>32.07</td>\n",
       "      <td>15.610239</td>\n",
       "      <td>21.978001</td>\n",
       "      <td>64.680000</td>\n",
       "      <td>28.520000</td>\n",
       "      <td>30.950001</td>\n",
       "    </tr>\n",
       "    <tr>\n",
       "      <th>2010-01-05</th>\n",
       "      <td>66.540001</td>\n",
       "      <td>23.26</td>\n",
       "      <td>31.99</td>\n",
       "      <td>15.541497</td>\n",
       "      <td>21.954000</td>\n",
       "      <td>63.930000</td>\n",
       "      <td>28.174999</td>\n",
       "      <td>30.959999</td>\n",
       "    </tr>\n",
       "    <tr>\n",
       "      <th>2010-01-06</th>\n",
       "      <td>66.199997</td>\n",
       "      <td>23.58</td>\n",
       "      <td>31.82</td>\n",
       "      <td>15.149715</td>\n",
       "      <td>22.326000</td>\n",
       "      <td>64.449997</td>\n",
       "      <td>28.165001</td>\n",
       "      <td>30.770000</td>\n",
       "    </tr>\n",
       "  </tbody>\n",
       "</table>\n",
       "</div>"
      ],
      "text/plain": [
       "Ticker          BRK-B     DG    DIS       GOOG        IAU        JNJ  \\\n",
       "Date                                                                   \n",
       "2010-01-04  66.220001  23.08  32.07  15.610239  21.978001  64.680000   \n",
       "2010-01-05  66.540001  23.26  31.99  15.541497  21.954000  63.930000   \n",
       "2010-01-06  66.199997  23.58  31.82  15.149715  22.326000  64.449997   \n",
       "\n",
       "Ticker             KO       MSFT  \n",
       "Date                              \n",
       "2010-01-04  28.520000  30.950001  \n",
       "2010-01-05  28.174999  30.959999  \n",
       "2010-01-06  28.165001  30.770000  "
      ]
     },
     "execution_count": 6,
     "metadata": {},
     "output_type": "execute_result"
    }
   ],
   "source": [
    "# select only the closing price\n",
    "df_close = stock_data.Close.copy()\n",
    "# df_close.info()\n",
    "df_close.head(3)"
   ]
  },
  {
   "cell_type": "code",
   "execution_count": 7,
   "id": "dadf058f-2f1f-4c8f-b105-5271ed5ef870",
   "metadata": {
    "tags": []
   },
   "outputs": [
    {
     "data": {
      "text/html": [
       "<div>\n",
       "<style scoped>\n",
       "    .dataframe tbody tr th:only-of-type {\n",
       "        vertical-align: middle;\n",
       "    }\n",
       "\n",
       "    .dataframe tbody tr th {\n",
       "        vertical-align: top;\n",
       "    }\n",
       "\n",
       "    .dataframe thead th {\n",
       "        text-align: right;\n",
       "    }\n",
       "</style>\n",
       "<table border=\"1\" class=\"dataframe\">\n",
       "  <thead>\n",
       "    <tr style=\"text-align: right;\">\n",
       "      <th>Ticker</th>\n",
       "      <th>BRK-B</th>\n",
       "      <th>DG</th>\n",
       "      <th>DIS</th>\n",
       "      <th>GOOG</th>\n",
       "      <th>IAU</th>\n",
       "      <th>JNJ</th>\n",
       "      <th>KO</th>\n",
       "      <th>MSFT</th>\n",
       "    </tr>\n",
       "    <tr>\n",
       "      <th>Date</th>\n",
       "      <th></th>\n",
       "      <th></th>\n",
       "      <th></th>\n",
       "      <th></th>\n",
       "      <th></th>\n",
       "      <th></th>\n",
       "      <th></th>\n",
       "      <th></th>\n",
       "    </tr>\n",
       "  </thead>\n",
       "  <tbody>\n",
       "    <tr>\n",
       "      <th>2010-01-05</th>\n",
       "      <td>0.004832</td>\n",
       "      <td>0.007799</td>\n",
       "      <td>-0.002495</td>\n",
       "      <td>-0.004404</td>\n",
       "      <td>-0.001092</td>\n",
       "      <td>-0.011596</td>\n",
       "      <td>-0.012097</td>\n",
       "      <td>0.000323</td>\n",
       "    </tr>\n",
       "    <tr>\n",
       "      <th>2010-01-06</th>\n",
       "      <td>-0.005110</td>\n",
       "      <td>0.013758</td>\n",
       "      <td>-0.005314</td>\n",
       "      <td>-0.025209</td>\n",
       "      <td>0.016945</td>\n",
       "      <td>0.008134</td>\n",
       "      <td>-0.000355</td>\n",
       "      <td>-0.006137</td>\n",
       "    </tr>\n",
       "    <tr>\n",
       "      <th>2010-01-07</th>\n",
       "      <td>0.003928</td>\n",
       "      <td>0.006785</td>\n",
       "      <td>0.000314</td>\n",
       "      <td>-0.023280</td>\n",
       "      <td>-0.006450</td>\n",
       "      <td>-0.007137</td>\n",
       "      <td>-0.002485</td>\n",
       "      <td>-0.010400</td>\n",
       "    </tr>\n",
       "  </tbody>\n",
       "</table>\n",
       "</div>"
      ],
      "text/plain": [
       "Ticker         BRK-B        DG       DIS      GOOG       IAU       JNJ  \\\n",
       "Date                                                                     \n",
       "2010-01-05  0.004832  0.007799 -0.002495 -0.004404 -0.001092 -0.011596   \n",
       "2010-01-06 -0.005110  0.013758 -0.005314 -0.025209  0.016945  0.008134   \n",
       "2010-01-07  0.003928  0.006785  0.000314 -0.023280 -0.006450 -0.007137   \n",
       "\n",
       "Ticker            KO      MSFT  \n",
       "Date                            \n",
       "2010-01-05 -0.012097  0.000323  \n",
       "2010-01-06 -0.000355 -0.006137  \n",
       "2010-01-07 -0.002485 -0.010400  "
      ]
     },
     "execution_count": 7,
     "metadata": {},
     "output_type": "execute_result"
    }
   ],
   "source": [
    "# find the \n",
    "df_daily_return = (df_close\n",
    "                   .copy()\n",
    "                   .pct_change(periods=1)\n",
    "                   .dropna()\n",
    ")\n",
    "\n",
    "# display(cov_yoy.describe())\n",
    "df_daily_return.head(3)"
   ]
  },
  {
   "cell_type": "markdown",
   "id": "0c0d9c7f",
   "metadata": {
    "tags": []
   },
   "source": [
    "## Covariance"
   ]
  },
  {
   "cell_type": "markdown",
   "id": "4d9bea34",
   "metadata": {
    "jp-MarkdownHeadingCollapsed": true,
    "tags": []
   },
   "source": [
    "### Calculation (YoY)"
   ]
  },
  {
   "cell_type": "code",
   "execution_count": 8,
   "id": "b236660f-c117-4dc2-9735-6ee28a1f37ae",
   "metadata": {
    "tags": []
   },
   "outputs": [
    {
     "data": {
      "text/html": [
       "<div>\n",
       "<style scoped>\n",
       "    .dataframe tbody tr th:only-of-type {\n",
       "        vertical-align: middle;\n",
       "    }\n",
       "\n",
       "    .dataframe tbody tr th {\n",
       "        vertical-align: top;\n",
       "    }\n",
       "\n",
       "    .dataframe thead th {\n",
       "        text-align: right;\n",
       "    }\n",
       "</style>\n",
       "<table border=\"1\" class=\"dataframe\">\n",
       "  <thead>\n",
       "    <tr style=\"text-align: right;\">\n",
       "      <th></th>\n",
       "      <th>Ticker</th>\n",
       "      <th>BRK-B</th>\n",
       "      <th>DG</th>\n",
       "      <th>DIS</th>\n",
       "      <th>GOOG</th>\n",
       "      <th>IAU</th>\n",
       "      <th>JNJ</th>\n",
       "      <th>KO</th>\n",
       "      <th>MSFT</th>\n",
       "    </tr>\n",
       "    <tr>\n",
       "      <th>Date</th>\n",
       "      <th>Ticker</th>\n",
       "      <th></th>\n",
       "      <th></th>\n",
       "      <th></th>\n",
       "      <th></th>\n",
       "      <th></th>\n",
       "      <th></th>\n",
       "      <th></th>\n",
       "      <th></th>\n",
       "    </tr>\n",
       "  </thead>\n",
       "  <tbody>\n",
       "    <tr>\n",
       "      <th rowspan=\"5\" valign=\"top\">2011-01-03</th>\n",
       "      <th>BRK-B</th>\n",
       "      <td>0.053128</td>\n",
       "      <td>0.012544</td>\n",
       "      <td>0.029982</td>\n",
       "      <td>0.027957</td>\n",
       "      <td>0.001466</td>\n",
       "      <td>0.013038</td>\n",
       "      <td>0.013916</td>\n",
       "      <td>0.019899</td>\n",
       "    </tr>\n",
       "    <tr>\n",
       "      <th>DG</th>\n",
       "      <td>0.012544</td>\n",
       "      <td>0.080593</td>\n",
       "      <td>0.014508</td>\n",
       "      <td>0.009423</td>\n",
       "      <td>0.005088</td>\n",
       "      <td>0.008483</td>\n",
       "      <td>0.010182</td>\n",
       "      <td>0.013281</td>\n",
       "    </tr>\n",
       "    <tr>\n",
       "      <th>DIS</th>\n",
       "      <td>0.029982</td>\n",
       "      <td>0.014508</td>\n",
       "      <td>0.054604</td>\n",
       "      <td>0.034958</td>\n",
       "      <td>0.003176</td>\n",
       "      <td>0.015460</td>\n",
       "      <td>0.017042</td>\n",
       "      <td>0.027623</td>\n",
       "    </tr>\n",
       "    <tr>\n",
       "      <th>GOOG</th>\n",
       "      <td>0.027957</td>\n",
       "      <td>0.009423</td>\n",
       "      <td>0.034958</td>\n",
       "      <td>0.077881</td>\n",
       "      <td>0.004517</td>\n",
       "      <td>0.015215</td>\n",
       "      <td>0.015855</td>\n",
       "      <td>0.031771</td>\n",
       "    </tr>\n",
       "    <tr>\n",
       "      <th>IAU</th>\n",
       "      <td>0.001466</td>\n",
       "      <td>0.005088</td>\n",
       "      <td>0.003176</td>\n",
       "      <td>0.004517</td>\n",
       "      <td>0.027043</td>\n",
       "      <td>0.002342</td>\n",
       "      <td>-0.000165</td>\n",
       "      <td>0.003060</td>\n",
       "    </tr>\n",
       "    <tr>\n",
       "      <th>...</th>\n",
       "      <th>...</th>\n",
       "      <td>...</td>\n",
       "      <td>...</td>\n",
       "      <td>...</td>\n",
       "      <td>...</td>\n",
       "      <td>...</td>\n",
       "      <td>...</td>\n",
       "      <td>...</td>\n",
       "      <td>...</td>\n",
       "    </tr>\n",
       "    <tr>\n",
       "      <th rowspan=\"5\" valign=\"top\">2024-01-31</th>\n",
       "      <th>GOOG</th>\n",
       "      <td>0.013296</td>\n",
       "      <td>-0.008520</td>\n",
       "      <td>0.020701</td>\n",
       "      <td>0.092002</td>\n",
       "      <td>-0.000423</td>\n",
       "      <td>0.002943</td>\n",
       "      <td>0.003500</td>\n",
       "      <td>0.037240</td>\n",
       "    </tr>\n",
       "    <tr>\n",
       "      <th>IAU</th>\n",
       "      <td>-0.002003</td>\n",
       "      <td>0.003991</td>\n",
       "      <td>0.000245</td>\n",
       "      <td>-0.000423</td>\n",
       "      <td>0.017211</td>\n",
       "      <td>0.000608</td>\n",
       "      <td>0.001323</td>\n",
       "      <td>0.000893</td>\n",
       "    </tr>\n",
       "    <tr>\n",
       "      <th>JNJ</th>\n",
       "      <td>0.007474</td>\n",
       "      <td>0.009506</td>\n",
       "      <td>0.003181</td>\n",
       "      <td>0.002943</td>\n",
       "      <td>0.000608</td>\n",
       "      <td>0.025120</td>\n",
       "      <td>0.007478</td>\n",
       "      <td>0.000647</td>\n",
       "    </tr>\n",
       "    <tr>\n",
       "      <th>KO</th>\n",
       "      <td>0.005884</td>\n",
       "      <td>0.010705</td>\n",
       "      <td>0.001811</td>\n",
       "      <td>0.003500</td>\n",
       "      <td>0.001323</td>\n",
       "      <td>0.007478</td>\n",
       "      <td>0.016468</td>\n",
       "      <td>0.003397</td>\n",
       "    </tr>\n",
       "    <tr>\n",
       "      <th>MSFT</th>\n",
       "      <td>0.007122</td>\n",
       "      <td>-0.003099</td>\n",
       "      <td>0.015533</td>\n",
       "      <td>0.037240</td>\n",
       "      <td>0.000893</td>\n",
       "      <td>0.000647</td>\n",
       "      <td>0.003397</td>\n",
       "      <td>0.057112</td>\n",
       "    </tr>\n",
       "  </tbody>\n",
       "</table>\n",
       "<p>26328 rows × 8 columns</p>\n",
       "</div>"
      ],
      "text/plain": [
       "Ticker                BRK-B        DG       DIS      GOOG       IAU       JNJ  \\\n",
       "Date       Ticker                                                               \n",
       "2011-01-03 BRK-B   0.053128  0.012544  0.029982  0.027957  0.001466  0.013038   \n",
       "           DG      0.012544  0.080593  0.014508  0.009423  0.005088  0.008483   \n",
       "           DIS     0.029982  0.014508  0.054604  0.034958  0.003176  0.015460   \n",
       "           GOOG    0.027957  0.009423  0.034958  0.077881  0.004517  0.015215   \n",
       "           IAU     0.001466  0.005088  0.003176  0.004517  0.027043  0.002342   \n",
       "...                     ...       ...       ...       ...       ...       ...   \n",
       "2024-01-31 GOOG    0.013296 -0.008520  0.020701  0.092002 -0.000423  0.002943   \n",
       "           IAU    -0.002003  0.003991  0.000245 -0.000423  0.017211  0.000608   \n",
       "           JNJ     0.007474  0.009506  0.003181  0.002943  0.000608  0.025120   \n",
       "           KO      0.005884  0.010705  0.001811  0.003500  0.001323  0.007478   \n",
       "           MSFT    0.007122 -0.003099  0.015533  0.037240  0.000893  0.000647   \n",
       "\n",
       "Ticker                   KO      MSFT  \n",
       "Date       Ticker                      \n",
       "2011-01-03 BRK-B   0.013916  0.019899  \n",
       "           DG      0.010182  0.013281  \n",
       "           DIS     0.017042  0.027623  \n",
       "           GOOG    0.015855  0.031771  \n",
       "           IAU    -0.000165  0.003060  \n",
       "...                     ...       ...  \n",
       "2024-01-31 GOOG    0.003500  0.037240  \n",
       "           IAU     0.001323  0.000893  \n",
       "           JNJ     0.007478  0.000647  \n",
       "           KO      0.016468  0.003397  \n",
       "           MSFT    0.003397  0.057112  \n",
       "\n",
       "[26328 rows x 8 columns]"
      ]
     },
     "execution_count": 8,
     "metadata": {},
     "output_type": "execute_result"
    }
   ],
   "source": [
    "# find the \n",
    "cov_yoy = (df_close\n",
    "             .copy()\n",
    "             .pct_change(periods=1)\n",
    "             .dropna()\n",
    "             .rolling(window=252)\n",
    "             .cov()\n",
    "             .dropna()\n",
    "             .apply(lambda x: 252 * x)\n",
    ")\n",
    "\n",
    "# display(cov_yoy.describe())\n",
    "cov_yoy"
   ]
  },
  {
   "cell_type": "code",
   "execution_count": 9,
   "id": "5859a792-117d-4162-9c7b-5a2ba6ee1e6b",
   "metadata": {
    "tags": []
   },
   "outputs": [
    {
     "data": {
      "text/html": [
       "<div>\n",
       "<style scoped>\n",
       "    .dataframe tbody tr th:only-of-type {\n",
       "        vertical-align: middle;\n",
       "    }\n",
       "\n",
       "    .dataframe tbody tr th {\n",
       "        vertical-align: top;\n",
       "    }\n",
       "\n",
       "    .dataframe thead th {\n",
       "        text-align: right;\n",
       "    }\n",
       "</style>\n",
       "<table border=\"1\" class=\"dataframe\">\n",
       "  <thead>\n",
       "    <tr style=\"text-align: right;\">\n",
       "      <th></th>\n",
       "      <th>Ticker</th>\n",
       "      <th>BRK-B</th>\n",
       "      <th>DG</th>\n",
       "      <th>DIS</th>\n",
       "      <th>GOOG</th>\n",
       "      <th>IAU</th>\n",
       "      <th>JNJ</th>\n",
       "      <th>KO</th>\n",
       "      <th>MSFT</th>\n",
       "    </tr>\n",
       "    <tr>\n",
       "      <th>Date</th>\n",
       "      <th>Ticker</th>\n",
       "      <th></th>\n",
       "      <th></th>\n",
       "      <th></th>\n",
       "      <th></th>\n",
       "      <th></th>\n",
       "      <th></th>\n",
       "      <th></th>\n",
       "      <th></th>\n",
       "    </tr>\n",
       "  </thead>\n",
       "  <tbody>\n",
       "    <tr>\n",
       "      <th>2011-01-03</th>\n",
       "      <th>IAU</th>\n",
       "      <td>0.001466</td>\n",
       "      <td>0.005088</td>\n",
       "      <td>0.003176</td>\n",
       "      <td>0.004517</td>\n",
       "      <td>0.027043</td>\n",
       "      <td>0.002342</td>\n",
       "      <td>-0.000165</td>\n",
       "      <td>0.003060</td>\n",
       "    </tr>\n",
       "    <tr>\n",
       "      <th>2011-01-04</th>\n",
       "      <th>IAU</th>\n",
       "      <td>0.001567</td>\n",
       "      <td>0.005234</td>\n",
       "      <td>0.002442</td>\n",
       "      <td>0.004598</td>\n",
       "      <td>0.027621</td>\n",
       "      <td>0.002114</td>\n",
       "      <td>0.000324</td>\n",
       "      <td>0.002959</td>\n",
       "    </tr>\n",
       "    <tr>\n",
       "      <th>2011-01-05</th>\n",
       "      <th>IAU</th>\n",
       "      <td>0.001632</td>\n",
       "      <td>0.005091</td>\n",
       "      <td>0.002452</td>\n",
       "      <td>0.004963</td>\n",
       "      <td>0.027375</td>\n",
       "      <td>0.001984</td>\n",
       "      <td>0.000363</td>\n",
       "      <td>0.003065</td>\n",
       "    </tr>\n",
       "  </tbody>\n",
       "</table>\n",
       "</div>"
      ],
      "text/plain": [
       "Ticker                BRK-B        DG       DIS      GOOG       IAU       JNJ  \\\n",
       "Date       Ticker                                                               \n",
       "2011-01-03 IAU     0.001466  0.005088  0.003176  0.004517  0.027043  0.002342   \n",
       "2011-01-04 IAU     0.001567  0.005234  0.002442  0.004598  0.027621  0.002114   \n",
       "2011-01-05 IAU     0.001632  0.005091  0.002452  0.004963  0.027375  0.001984   \n",
       "\n",
       "Ticker                   KO      MSFT  \n",
       "Date       Ticker                      \n",
       "2011-01-03 IAU    -0.000165  0.003060  \n",
       "2011-01-04 IAU     0.000324  0.002959  \n",
       "2011-01-05 IAU     0.000363  0.003065  "
      ]
     },
     "execution_count": 9,
     "metadata": {},
     "output_type": "execute_result"
    }
   ],
   "source": [
    "cov_yoy[(cov_yoy.index.get_level_values('Ticker') == tickers[0])].head(3)"
   ]
  },
  {
   "cell_type": "code",
   "execution_count": 10,
   "id": "533743c3-0691-47b5-96bd-b46c2018a786",
   "metadata": {
    "tags": []
   },
   "outputs": [],
   "source": [
    "cov11 = cov_yoy[(cov_yoy.index.get_level_values('Ticker') == tickers[0])][tickers[0]].values\n",
    "cov12 = cov_yoy[(cov_yoy.index.get_level_values('Ticker') == tickers[0])][tickers[1]].values\n",
    "# cov21 = cov12\n",
    "cov22 = cov_yoy[(cov_yoy.index.get_level_values('Ticker') == tickers[1])][tickers[1]].values"
   ]
  },
  {
   "cell_type": "code",
   "execution_count": null,
   "id": "df98ed8f-80b3-4056-b4eb-636a9e8fbab0",
   "metadata": {},
   "outputs": [],
   "source": []
  },
  {
   "cell_type": "markdown",
   "id": "11a8fd18-d984-4adf-a76c-6e0c23a68dae",
   "metadata": {
    "tags": []
   },
   "source": [
    "### Plots"
   ]
  },
  {
   "cell_type": "markdown",
   "id": "6302bb2a",
   "metadata": {
    "jp-MarkdownHeadingCollapsed": true,
    "tags": []
   },
   "source": [
    "#### Normal:"
   ]
  },
  {
   "cell_type": "code",
   "execution_count": 11,
   "id": "d6f24714",
   "metadata": {},
   "outputs": [
    {
     "data": {
      "image/png": "[encoded data removed]",
      "text/plain": [
       "<Figure size 1000x400 with 3 Axes>"
      ]
     },
     "metadata": {},
     "output_type": "display_data"
    }
   ],
   "source": [
    "# Plot the histogram of the returns_daily along with the fitted Gaussian distribution\n",
    "fig, axes = plt.subplots(nrows=1, ncols=3, figsize=(10, 4))\n",
    "\n",
    "# Fit a Gaussian distribution to the YoY covariance\n",
    "plt.subplot(1, 3, 1)\n",
    "mu, std = norm.fit(cov11)\n",
    "sns.histplot(data= cov11, bins=30, stat=\"density\", kde=True, color='lightgreen', edgecolor='red')\n",
    "\n",
    "xmin, xmax = plt.xlim()\n",
    "x = np.linspace(xmin, xmax, 100)\n",
    "p = norm.pdf(x, mu, std)\n",
    "\n",
    "plt.plot(x, p, 'k', label=\"fit-normal\", linewidth=1)\n",
    "plt.title(f\"cov({tickers[0]},{tickers[0]}) --> Fit results: mu = %.2f,  std = %.2f\" % (mu, std))\n",
    "plt.ylabel(\"Probability density function\")\n",
    "plt.xlabel(\"covariance [YoY]\")\n",
    "plt.legend()\n",
    "\n",
    "# Fit a Gaussian distribution to the YoY covariance\n",
    "plt.subplot(1, 3, 2)\n",
    "mu, std = norm.fit(cov12)\n",
    "sns.histplot(data= cov12, bins=30, stat=\"density\", kde=True, color='lightgreen', edgecolor='red')\n",
    "\n",
    "xmin, xmax = plt.xlim()\n",
    "x = np.linspace(xmin, xmax, 100)\n",
    "p = norm.pdf(x, mu, std)\n",
    "\n",
    "plt.plot(x, p, 'k', label=\"fit-normal\", linewidth=1)\n",
    "plt.title(f\"cov({tickers[0]},{tickers[1]}) --> Fit results: mu = %.2f,  std = %.2f\" % (mu, std))\n",
    "plt.ylabel(\"Probability density function\")\n",
    "plt.xlabel(\"covariance [YoY]\")\n",
    "plt.legend()\n",
    "\n",
    "# Fit a Gaussian distribution to the YoY covariance\n",
    "plt.subplot(1, 3, 3)\n",
    "mu, std = norm.fit(cov22)\n",
    "sns.histplot(data= cov22, bins=30, stat=\"density\", kde=True, color='lightgreen', edgecolor='red')\n",
    "\n",
    "xmin, xmax = plt.xlim()\n",
    "x = np.linspace(xmin, xmax, 100)\n",
    "p = norm.pdf(x, mu, std)\n",
    "\n",
    "plt.plot(x, p, 'k', label=\"fit-normal\", linewidth=1)\n",
    "plt.title(f\"cov({tickers[1]},{tickers[1]}) --> Fit results: mu = %.2f,  std = %.2f\" % (mu, std))\n",
    "plt.ylabel(\"Probability density function\")\n",
    "plt.xlabel(\"covariance [YoY]\")\n",
    "plt.legend()\n",
    "\n",
    "fig.tight_layout()\n",
    "fig.subplots_adjust(wspace=0.5)\n",
    "plt.show()"
   ]
  },
  {
   "cell_type": "markdown",
   "id": "83fe44ef",
   "metadata": {
    "jp-MarkdownHeadingCollapsed": true,
    "tags": []
   },
   "source": [
    "#### Lognormal:"
   ]
  },
  {
   "cell_type": "code",
   "execution_count": 12,
   "id": "093e78a0",
   "metadata": {},
   "outputs": [
    {
     "name": "stderr",
     "output_type": "stream",
     "text": [
      "C:\\Users\\DELL\\anaconda3\\Lib\\site-packages\\scipy\\stats\\_continuous_distns.py:6111: RuntimeWarning: invalid value encountered in log\n",
      "  lndata = np.log(data - loc)\n"
     ]
    },
    {
     "data": {
      "image/png": "[encoded data removed]",
      "text/plain": [
       "<Figure size 1000x400 with 3 Axes>"
      ]
     },
     "metadata": {},
     "output_type": "display_data"
    }
   ],
   "source": [
    "# Plot the histogram of the returns_daily along with the fitted Gaussian distribution\n",
    "fig, axes = plt.subplots(nrows=1, ncols=3, figsize=(10, 4))\n",
    "\n",
    "# Fit a Lognormal distribution to theYoY covariance\n",
    "plt.subplot(1, 3, 1)\n",
    "sigma, loc, scale = lognorm.fit(cov11)\n",
    "\n",
    "sns.histplot(data= cov11, bins=30, stat=\"density\", kde=True, color='lightgreen', edgecolor='red')\n",
    "xmin, xmax = plt.xlim()\n",
    "x = np.linspace(xmin, xmax, 1000)\n",
    "pdf = lognorm.pdf(x, sigma, loc= loc, scale= scale)\n",
    "\n",
    "plt.plot(x, pdf, 'k', label=\"lognormal\", linewidth=2)\n",
    "plt.title(f\"cov({tickers[0]},{tickers[0]}) --> Fit results: sigma = %.2f,  loc = %.2f, scale = %.2f\" % (sigma, loc, scale))\n",
    "plt.ylabel(\"Probability density function\")\n",
    "plt.xlabel(\"risk² [a.a.]\")\n",
    "plt.legend()\n",
    "\n",
    "\n",
    "# Fit a Lognormal distribution to theYoY covariance\n",
    "plt.subplot(1, 3, 2)\n",
    "sigma, loc, scale = lognorm.fit(cov12)\n",
    "\n",
    "sns.histplot(data= cov12, bins=30, stat=\"density\", kde=True, color='lightgreen', edgecolor='red')\n",
    "xmin, xmax = plt.xlim()\n",
    "x = np.linspace(xmin, xmax, 1000)\n",
    "pdf = lognorm.pdf(x, sigma, loc= loc, scale= scale)\n",
    "\n",
    "plt.plot(x, pdf, 'k', label=\"fit-lognormal\", linewidth=2)\n",
    "plt.title(f\"cov({tickers[0]},{tickers[1]}) --> Fit results: sigma = %.2f,  loc = %.2f, scale = %.2f\" % (sigma, loc, scale))\n",
    "plt.ylabel(\"Probability density function\")\n",
    "plt.xlabel(\"risk² [a.a.]\")\n",
    "plt.legend()\n",
    "\n",
    "# Fit a Lognormal distribution to theYoY covariance\n",
    "plt.subplot(1, 3, 3)\n",
    "sigma, loc, scale = lognorm.fit(cov22)\n",
    "\n",
    "sns.histplot(data= cov22, bins=30, stat=\"density\", kde=True, color='lightgreen', edgecolor='red')\n",
    "xmin, xmax = plt.xlim()\n",
    "x = np.linspace(xmin, xmax, 1000)\n",
    "pdf = lognorm.pdf(x, sigma, loc= loc, scale= scale)\n",
    "\n",
    "plt.plot(x, pdf, 'k', label=\"fit-lognormal\", linewidth=2)\n",
    "plt.title(f\"cov({tickers[1]},{tickers[1]}) --> Fit results: sigma = %.2f,  loc = %.2f, scale = %.2f\" % (sigma, loc, scale))\n",
    "plt.ylabel(\"Probability density function\")\n",
    "plt.xlabel(\"risk² [a.a.]\")\n",
    "plt.legend()\n",
    "\n",
    "fig.tight_layout()\n",
    "fig.subplots_adjust(wspace=0.5)\n",
    "plt.show()"
   ]
  },
  {
   "cell_type": "markdown",
   "id": "bbb59ad7-0b5c-4dab-bf87-d5b5905c9fe4",
   "metadata": {
    "jp-MarkdownHeadingCollapsed": true,
    "tags": []
   },
   "source": [
    "## Correlation"
   ]
  },
  {
   "cell_type": "markdown",
   "id": "96cf2954-4ce9-45e6-b0f8-014e9a2915f9",
   "metadata": {
    "jp-MarkdownHeadingCollapsed": true,
    "tags": []
   },
   "source": [
    "### Calculation (YoY)"
   ]
  },
  {
   "cell_type": "code",
   "execution_count": 13,
   "id": "d0041b85-4e9a-4519-8378-718c62510a04",
   "metadata": {
    "tags": []
   },
   "outputs": [
    {
     "data": {
      "text/html": [
       "<div>\n",
       "<style scoped>\n",
       "    .dataframe tbody tr th:only-of-type {\n",
       "        vertical-align: middle;\n",
       "    }\n",
       "\n",
       "    .dataframe tbody tr th {\n",
       "        vertical-align: top;\n",
       "    }\n",
       "\n",
       "    .dataframe thead th {\n",
       "        text-align: right;\n",
       "    }\n",
       "</style>\n",
       "<table border=\"1\" class=\"dataframe\">\n",
       "  <thead>\n",
       "    <tr style=\"text-align: right;\">\n",
       "      <th></th>\n",
       "      <th>Ticker</th>\n",
       "      <th>BRK-B</th>\n",
       "      <th>DG</th>\n",
       "      <th>DIS</th>\n",
       "      <th>GOOG</th>\n",
       "      <th>IAU</th>\n",
       "      <th>JNJ</th>\n",
       "      <th>KO</th>\n",
       "      <th>MSFT</th>\n",
       "    </tr>\n",
       "    <tr>\n",
       "      <th>Date</th>\n",
       "      <th>Ticker</th>\n",
       "      <th></th>\n",
       "      <th></th>\n",
       "      <th></th>\n",
       "      <th></th>\n",
       "      <th></th>\n",
       "      <th></th>\n",
       "      <th></th>\n",
       "      <th></th>\n",
       "    </tr>\n",
       "  </thead>\n",
       "  <tbody>\n",
       "    <tr>\n",
       "      <th rowspan=\"5\" valign=\"top\">2011-01-03</th>\n",
       "      <th>BRK-B</th>\n",
       "      <td>1.000000</td>\n",
       "      <td>0.191704</td>\n",
       "      <td>0.556662</td>\n",
       "      <td>0.434621</td>\n",
       "      <td>0.038690</td>\n",
       "      <td>0.433429</td>\n",
       "      <td>0.383968</td>\n",
       "      <td>0.394278</td>\n",
       "    </tr>\n",
       "    <tr>\n",
       "      <th>DG</th>\n",
       "      <td>0.191704</td>\n",
       "      <td>1.000000</td>\n",
       "      <td>0.218693</td>\n",
       "      <td>0.118943</td>\n",
       "      <td>0.108992</td>\n",
       "      <td>0.228975</td>\n",
       "      <td>0.228104</td>\n",
       "      <td>0.213655</td>\n",
       "    </tr>\n",
       "    <tr>\n",
       "      <th>DIS</th>\n",
       "      <td>0.556662</td>\n",
       "      <td>0.218693</td>\n",
       "      <td>1.000000</td>\n",
       "      <td>0.536069</td>\n",
       "      <td>0.082663</td>\n",
       "      <td>0.506942</td>\n",
       "      <td>0.463798</td>\n",
       "      <td>0.539873</td>\n",
       "    </tr>\n",
       "    <tr>\n",
       "      <th>GOOG</th>\n",
       "      <td>0.434621</td>\n",
       "      <td>0.118943</td>\n",
       "      <td>0.536069</td>\n",
       "      <td>1.000000</td>\n",
       "      <td>0.098425</td>\n",
       "      <td>0.417764</td>\n",
       "      <td>0.361309</td>\n",
       "      <td>0.519934</td>\n",
       "    </tr>\n",
       "    <tr>\n",
       "      <th>IAU</th>\n",
       "      <td>0.038690</td>\n",
       "      <td>0.108992</td>\n",
       "      <td>0.082663</td>\n",
       "      <td>0.098425</td>\n",
       "      <td>1.000000</td>\n",
       "      <td>0.109126</td>\n",
       "      <td>-0.006367</td>\n",
       "      <td>0.084990</td>\n",
       "    </tr>\n",
       "    <tr>\n",
       "      <th>...</th>\n",
       "      <th>...</th>\n",
       "      <td>...</td>\n",
       "      <td>...</td>\n",
       "      <td>...</td>\n",
       "      <td>...</td>\n",
       "      <td>...</td>\n",
       "      <td>...</td>\n",
       "      <td>...</td>\n",
       "      <td>...</td>\n",
       "    </tr>\n",
       "    <tr>\n",
       "      <th rowspan=\"5\" valign=\"top\">2024-01-31</th>\n",
       "      <th>GOOG</th>\n",
       "      <td>0.324003</td>\n",
       "      <td>-0.078945</td>\n",
       "      <td>0.263680</td>\n",
       "      <td>1.000000</td>\n",
       "      <td>-0.010624</td>\n",
       "      <td>0.061216</td>\n",
       "      <td>0.089911</td>\n",
       "      <td>0.513741</td>\n",
       "    </tr>\n",
       "    <tr>\n",
       "      <th>IAU</th>\n",
       "      <td>-0.112832</td>\n",
       "      <td>0.085500</td>\n",
       "      <td>0.007213</td>\n",
       "      <td>-0.010624</td>\n",
       "      <td>1.000000</td>\n",
       "      <td>0.029220</td>\n",
       "      <td>0.078600</td>\n",
       "      <td>0.028471</td>\n",
       "    </tr>\n",
       "    <tr>\n",
       "      <th>JNJ</th>\n",
       "      <td>0.348548</td>\n",
       "      <td>0.168565</td>\n",
       "      <td>0.077533</td>\n",
       "      <td>0.061216</td>\n",
       "      <td>0.029220</td>\n",
       "      <td>1.000000</td>\n",
       "      <td>0.367681</td>\n",
       "      <td>0.017070</td>\n",
       "    </tr>\n",
       "    <tr>\n",
       "      <th>KO</th>\n",
       "      <td>0.338923</td>\n",
       "      <td>0.234465</td>\n",
       "      <td>0.054513</td>\n",
       "      <td>0.089911</td>\n",
       "      <td>0.078600</td>\n",
       "      <td>0.367681</td>\n",
       "      <td>1.000000</td>\n",
       "      <td>0.110778</td>\n",
       "    </tr>\n",
       "    <tr>\n",
       "      <th>MSFT</th>\n",
       "      <td>0.220287</td>\n",
       "      <td>-0.036451</td>\n",
       "      <td>0.251108</td>\n",
       "      <td>0.513741</td>\n",
       "      <td>0.028471</td>\n",
       "      <td>0.017070</td>\n",
       "      <td>0.110778</td>\n",
       "      <td>1.000000</td>\n",
       "    </tr>\n",
       "  </tbody>\n",
       "</table>\n",
       "<p>26328 rows × 8 columns</p>\n",
       "</div>"
      ],
      "text/plain": [
       "Ticker                BRK-B        DG       DIS      GOOG       IAU       JNJ  \\\n",
       "Date       Ticker                                                               \n",
       "2011-01-03 BRK-B   1.000000  0.191704  0.556662  0.434621  0.038690  0.433429   \n",
       "           DG      0.191704  1.000000  0.218693  0.118943  0.108992  0.228975   \n",
       "           DIS     0.556662  0.218693  1.000000  0.536069  0.082663  0.506942   \n",
       "           GOOG    0.434621  0.118943  0.536069  1.000000  0.098425  0.417764   \n",
       "           IAU     0.038690  0.108992  0.082663  0.098425  1.000000  0.109126   \n",
       "...                     ...       ...       ...       ...       ...       ...   \n",
       "2024-01-31 GOOG    0.324003 -0.078945  0.263680  1.000000 -0.010624  0.061216   \n",
       "           IAU    -0.112832  0.085500  0.007213 -0.010624  1.000000  0.029220   \n",
       "           JNJ     0.348548  0.168565  0.077533  0.061216  0.029220  1.000000   \n",
       "           KO      0.338923  0.234465  0.054513  0.089911  0.078600  0.367681   \n",
       "           MSFT    0.220287 -0.036451  0.251108  0.513741  0.028471  0.017070   \n",
       "\n",
       "Ticker                   KO      MSFT  \n",
       "Date       Ticker                      \n",
       "2011-01-03 BRK-B   0.383968  0.394278  \n",
       "           DG      0.228104  0.213655  \n",
       "           DIS     0.463798  0.539873  \n",
       "           GOOG    0.361309  0.519934  \n",
       "           IAU    -0.006367  0.084990  \n",
       "...                     ...       ...  \n",
       "2024-01-31 GOOG    0.089911  0.513741  \n",
       "           IAU     0.078600  0.028471  \n",
       "           JNJ     0.367681  0.017070  \n",
       "           KO      1.000000  0.110778  \n",
       "           MSFT    0.110778  1.000000  \n",
       "\n",
       "[26328 rows x 8 columns]"
      ]
     },
     "execution_count": 13,
     "metadata": {},
     "output_type": "execute_result"
    }
   ],
   "source": [
    "# find the covelation yoy\n",
    "corr_yoy = (df_close\n",
    "            .copy()\n",
    "            .pct_change(periods=1)\n",
    "            .dropna()\n",
    "            .rolling(window=252)\n",
    "            .corr()\n",
    "            .dropna()\n",
    "            # .apply(lambda x: x + 1.0)\n",
    ")\n",
    "\n",
    "# display(cov_yoy.describe())\n",
    "corr_yoy"
   ]
  },
  {
   "cell_type": "code",
   "execution_count": 14,
   "id": "4797e0e4-d87d-41c5-a526-d94b553085bb",
   "metadata": {
    "tags": []
   },
   "outputs": [
    {
     "data": {
      "text/html": [
       "<div>\n",
       "<style scoped>\n",
       "    .dataframe tbody tr th:only-of-type {\n",
       "        vertical-align: middle;\n",
       "    }\n",
       "\n",
       "    .dataframe tbody tr th {\n",
       "        vertical-align: top;\n",
       "    }\n",
       "\n",
       "    .dataframe thead th {\n",
       "        text-align: right;\n",
       "    }\n",
       "</style>\n",
       "<table border=\"1\" class=\"dataframe\">\n",
       "  <thead>\n",
       "    <tr style=\"text-align: right;\">\n",
       "      <th></th>\n",
       "      <th>Ticker</th>\n",
       "      <th>BRK-B</th>\n",
       "      <th>DG</th>\n",
       "      <th>DIS</th>\n",
       "      <th>GOOG</th>\n",
       "      <th>IAU</th>\n",
       "      <th>JNJ</th>\n",
       "      <th>KO</th>\n",
       "      <th>MSFT</th>\n",
       "    </tr>\n",
       "    <tr>\n",
       "      <th>Date</th>\n",
       "      <th>Ticker</th>\n",
       "      <th></th>\n",
       "      <th></th>\n",
       "      <th></th>\n",
       "      <th></th>\n",
       "      <th></th>\n",
       "      <th></th>\n",
       "      <th></th>\n",
       "      <th></th>\n",
       "    </tr>\n",
       "  </thead>\n",
       "  <tbody>\n",
       "    <tr>\n",
       "      <th>2011-01-03</th>\n",
       "      <th>IAU</th>\n",
       "      <td>0.038690</td>\n",
       "      <td>0.108992</td>\n",
       "      <td>0.082663</td>\n",
       "      <td>0.098425</td>\n",
       "      <td>1.0</td>\n",
       "      <td>0.109126</td>\n",
       "      <td>-0.006367</td>\n",
       "      <td>0.084990</td>\n",
       "    </tr>\n",
       "    <tr>\n",
       "      <th>2011-01-04</th>\n",
       "      <th>IAU</th>\n",
       "      <td>0.040918</td>\n",
       "      <td>0.110954</td>\n",
       "      <td>0.062371</td>\n",
       "      <td>0.099130</td>\n",
       "      <td>1.0</td>\n",
       "      <td>0.097631</td>\n",
       "      <td>0.012315</td>\n",
       "      <td>0.081307</td>\n",
       "    </tr>\n",
       "    <tr>\n",
       "      <th>2011-01-05</th>\n",
       "      <th>IAU</th>\n",
       "      <td>0.042789</td>\n",
       "      <td>0.108331</td>\n",
       "      <td>0.062609</td>\n",
       "      <td>0.107841</td>\n",
       "      <td>1.0</td>\n",
       "      <td>0.092239</td>\n",
       "      <td>0.013854</td>\n",
       "      <td>0.084613</td>\n",
       "    </tr>\n",
       "  </tbody>\n",
       "</table>\n",
       "</div>"
      ],
      "text/plain": [
       "Ticker                BRK-B        DG       DIS      GOOG  IAU       JNJ  \\\n",
       "Date       Ticker                                                          \n",
       "2011-01-03 IAU     0.038690  0.108992  0.082663  0.098425  1.0  0.109126   \n",
       "2011-01-04 IAU     0.040918  0.110954  0.062371  0.099130  1.0  0.097631   \n",
       "2011-01-05 IAU     0.042789  0.108331  0.062609  0.107841  1.0  0.092239   \n",
       "\n",
       "Ticker                   KO      MSFT  \n",
       "Date       Ticker                      \n",
       "2011-01-03 IAU    -0.006367  0.084990  \n",
       "2011-01-04 IAU     0.012315  0.081307  \n",
       "2011-01-05 IAU     0.013854  0.084613  "
      ]
     },
     "execution_count": 14,
     "metadata": {},
     "output_type": "execute_result"
    }
   ],
   "source": [
    "corr_yoy[(corr_yoy.index.get_level_values('Ticker') == tickers[0])].head(3)"
   ]
  },
  {
   "cell_type": "code",
   "execution_count": 15,
   "id": "a208e5b7-04a0-43f0-8540-b9d3932c0cf9",
   "metadata": {
    "tags": []
   },
   "outputs": [],
   "source": [
    "corr11 = corr_yoy[(corr_yoy.index.get_level_values('Ticker') == tickers[0])][tickers[0]].values\n",
    "corr12 = corr_yoy[(corr_yoy.index.get_level_values('Ticker') == tickers[0])][tickers[1]].values\n",
    "# corr21 = corr12\n",
    "corr22 = corr_yoy[(corr_yoy.index.get_level_values('Ticker') == tickers[1])][tickers[1]].values"
   ]
  },
  {
   "cell_type": "markdown",
   "id": "6e6ec42e-6b4a-4651-80b3-d3a2f013d21a",
   "metadata": {},
   "source": [
    "### Plots"
   ]
  },
  {
   "cell_type": "markdown",
   "id": "027d9d8f-48e6-4010-a24b-16b8232e7a82",
   "metadata": {
    "jp-MarkdownHeadingCollapsed": true,
    "tags": []
   },
   "source": [
    "#### Normal:"
   ]
  },
  {
   "cell_type": "code",
   "execution_count": 16,
   "id": "4a89e28e-27ed-4424-bd4e-af29fb34f297",
   "metadata": {
    "tags": []
   },
   "outputs": [
    {
     "data": {
      "image/png": "[encoded data removed]",
      "text/plain": [
       "<Figure size 1000x400 with 3 Axes>"
      ]
     },
     "metadata": {},
     "output_type": "display_data"
    }
   ],
   "source": [
    "# Plot the histogram of the returns_daily along with the fitted Gaussian distribution\n",
    "fig, axes = plt.subplots(nrows=1, ncols=3, figsize=(10, 4))\n",
    "\n",
    "# Fit a Gaussian distribution to the YoY corrariance\n",
    "plt.subplot(1, 3, 1)\n",
    "# mu, std = norm.fit(corr11)\n",
    "# sns.histplot(data= corr11, bins=30, stat=\"density\", kde=True, color='lightgreen', edgecolor='red')\n",
    "\n",
    "# xmin, xmax = plt.xlim()\n",
    "# x = np.linspace(xmin, xmax, 100)\n",
    "# p = norm.pdf(x, mu, std)\n",
    "\n",
    "# plt.plot(x, p, 'k', label=\"fit-normal\", linewidth=1)\n",
    "# plt.title(f\"corr({tickers[0]},{tickers[0]}) --> Fit results: mu = %.2f,  std = %.2f\" % (mu, std))\n",
    "# plt.ylabel(\"Probability density function\")\n",
    "# plt.xlabel(\"correlation [YoY]\")\n",
    "# plt.legend()\n",
    "\n",
    "# Fit a Gaussian distribution to the YoY corrariance\n",
    "plt.subplot(1, 3, 2)\n",
    "mu, std = norm.fit(corr12)\n",
    "sns.histplot(data= corr12, bins=30, stat=\"density\", kde=True, color='lightgreen', edgecolor='red')\n",
    "\n",
    "xmin, xmax = plt.xlim()\n",
    "x = np.linspace(xmin, xmax, 100)\n",
    "p = norm.pdf(x, mu, std)\n",
    "\n",
    "plt.plot(x, p, 'k', label=\"fit-normal\", linewidth=1)\n",
    "plt.title(f\"corr({tickers[0]},{tickers[1]}) --> Fit results: mu = %.2f,  std = %.2f\" % (mu, std))\n",
    "plt.ylabel(\"Probability density function\")\n",
    "plt.xlabel(\"correlation [YoY]\")\n",
    "plt.legend()\n",
    "\n",
    "# Fit a Gaussian distribution to the YoY corrariance\n",
    "plt.subplot(1, 3, 3)\n",
    "# mu, std = norm.fit(corr22)\n",
    "# sns.histplot(data= corr22, bins=30, stat=\"density\", kde=True, color='lightgreen', edgecolor='red')\n",
    "\n",
    "# xmin, xmax = plt.xlim()\n",
    "# x = np.linspace(xmin, xmax, 100)\n",
    "# p = norm.pdf(x, mu, std)\n",
    "\n",
    "# plt.plot(x, p, 'k', label=\"fit-normal\", linewidth=1)\n",
    "# plt.title(f\"corr({tickers[1]},{tickers[1]}) --> Fit results: mu = %.2f,  std = %.2f\" % (mu, std))\n",
    "# plt.ylabel(\"Probability density function\")\n",
    "# plt.xlabel(\"correlation [YoY]\")\n",
    "# plt.legend()\n",
    "\n",
    "fig.tight_layout()\n",
    "fig.subplots_adjust(wspace=0.5)\n",
    "plt.show()"
   ]
  },
  {
   "cell_type": "markdown",
   "id": "0167e130-0cee-42f6-b09f-ce3f33fbf1ff",
   "metadata": {
    "jp-MarkdownHeadingCollapsed": true,
    "tags": []
   },
   "source": [
    "#### Lognormal:"
   ]
  },
  {
   "cell_type": "code",
   "execution_count": 17,
   "id": "405261ac-47a9-4299-9eee-eb3e9c6a7fad",
   "metadata": {
    "tags": []
   },
   "outputs": [
    {
     "name": "stderr",
     "output_type": "stream",
     "text": [
      "C:\\Users\\DELL\\anaconda3\\Lib\\site-packages\\scipy\\stats\\_continuous_distns.py:6111: RuntimeWarning: invalid value encountered in log\n",
      "  lndata = np.log(data - loc)\n"
     ]
    },
    {
     "data": {
      "image/png": "[encoded data removed]",
      "text/plain": [
       "<Figure size 1000x400 with 3 Axes>"
      ]
     },
     "metadata": {},
     "output_type": "display_data"
    }
   ],
   "source": [
    "# Plot the histogram of the returns_daily along with the fitted Gaussian distribution\n",
    "fig, axes = plt.subplots(nrows=1, ncols=3, figsize=(10, 4))\n",
    "\n",
    "# Fit a Lognormal distribution to theYoY corrariance\n",
    "plt.subplot(1, 3, 1)\n",
    "# sigma, loc, scale = lognorm.fit(corr11)\n",
    "\n",
    "# sns.histplot(data= corr11, bins=30, stat=\"density\", kde=True, color='lightgreen', edgecolor='red')\n",
    "# xmin, xmax = plt.xlim()\n",
    "# x = np.linspace(xmin, xmax, 1000)\n",
    "# pdf = lognorm.pdf(x, sigma, loc= loc, scale= scale)\n",
    "\n",
    "# plt.plot(x, pdf, 'k', label=\"lognormal\", linewidth=2)\n",
    "# plt.title(f\"corr({tickers[0]},{tickers[0]}) --> Fit results: sigma = %.2f,  loc = %.2f, scale = %.2f\" % (sigma, loc, scale))\n",
    "# plt.ylabel(\"Probability density function\")\n",
    "# plt.xlabel(\"correlation [YoY]\")\n",
    "# plt.legend()\n",
    "\n",
    "\n",
    "# Fit a Lognormal distribution to theYoY corrariance\n",
    "plt.subplot(1, 3, 2)\n",
    "sigma, loc, scale = lognorm.fit(corr12)\n",
    "\n",
    "sns.histplot(data= corr12, bins=30, stat=\"density\", kde=True, color='lightgreen', edgecolor='red')\n",
    "xmin, xmax = plt.xlim()\n",
    "x = np.linspace(xmin, xmax, 1000)\n",
    "pdf = lognorm.pdf(x, sigma, loc= loc, scale= scale)\n",
    "\n",
    "plt.plot(x, pdf, 'k', label=\"fit-lognormal\", linewidth=2)\n",
    "plt.title(f\"corr({tickers[0]},{tickers[1]}) --> Fit results: sigma = %.2f,  loc = %.2f, scale = %.2f\" % (sigma, loc, scale))\n",
    "plt.ylabel(\"Probability density function\")\n",
    "plt.xlabel(\"correlation [YoY]\")\n",
    "plt.legend()\n",
    "\n",
    "# Fit a Lognormal distribution to theYoY corrariance\n",
    "plt.subplot(1, 3, 3)\n",
    "# sigma, loc, scale = lognorm.fit(corr22)\n",
    "\n",
    "# sns.histplot(data= corr22, bins=30, stat=\"density\", kde=True, color='lightgreen', edgecolor='red')\n",
    "# xmin, xmax = plt.xlim()\n",
    "# x = np.linspace(xmin, xmax, 1000)\n",
    "# pdf = lognorm.pdf(x, sigma, loc= loc, scale= scale)\n",
    "\n",
    "# plt.plot(x, pdf, 'k', label=\"fit-lognormal\", linewidth=2)\n",
    "# plt.title(f\"corr({tickers[1]},{tickers[1]}) --> Fit results: sigma = %.2f,  loc = %.2f, scale = %.2f\" % (sigma, loc, scale))\n",
    "# plt.ylabel(\"Probability density function\")\n",
    "# plt.xlabel(\"correlation [YoY]\")\n",
    "# plt.legend()\n",
    "\n",
    "fig.tight_layout()\n",
    "fig.subplots_adjust(wspace=0.5)\n",
    "plt.show()"
   ]
  },
  {
   "cell_type": "code",
   "execution_count": null,
   "id": "eb375563-0652-4c75-9bf8-89832134be47",
   "metadata": {},
   "outputs": [],
   "source": []
  },
  {
   "cell_type": "code",
   "execution_count": null,
   "id": "6a2eaa03-3b7f-4b85-90ee-2e505a32917b",
   "metadata": {},
   "outputs": [],
   "source": []
  },
  {
   "cell_type": "markdown",
   "id": "07e46ae0-2b2f-466d-86ed-67e3738f4b68",
   "metadata": {
    "tags": []
   },
   "source": [
    "## Monte carlo simulation"
   ]
  },
  {
   "cell_type": "markdown",
   "id": "c9479534-7486-4f50-8a34-8b1d937d68fe",
   "metadata": {
    "tags": []
   },
   "source": [
    "### Equations:\n",
    "<br>\n",
    "\n",
    "- **Portfolio Return**:\n",
    "<br>\n",
    "$$ \\large R_P = {\\omega}^T \\cdot R $$\n",
    "<br>\n",
    "with $R_P$ being the return of the portfolio, $\\omega$ the weights and $R$ the returns of the assets. Each one are given by:\n",
    "<br><br>\n",
    "\n",
    "<table>\n",
    "  <tr>\n",
    "    <td>\n",
    "      $$\n",
    "        \\large{\\omega} = \\small \\begin{bmatrix}\n",
    "                {\\omega}_A \\\\\n",
    "                {\\omega}_B \\\\\n",
    "                {\\omega}_C \\\\\n",
    "        \\end{bmatrix},\n",
    "      $$\n",
    "    </td>\n",
    "    <td>\n",
    "      and\n",
    "    </td>\n",
    "    <td>\n",
    "    $$\n",
    "        \\large{R} = \\small \\begin{bmatrix}\n",
    "                R_A \\\\\n",
    "                R_B \\\\\n",
    "                R_C \\\\\n",
    "        \\end{bmatrix}.\n",
    "    $$\n",
    "    </td>\n",
    "  </tr>\n",
    "</table>\n",
    "\n",
    "<br>\n",
    "\n",
    "- **Portfolio Risk**: \n",
    "<br>\n",
    "$$ \\large{{\\sigma}^2_P} = {\\omega}^T \\cdot \\Sigma \\cdot \\omega $$\n",
    "<br>\n",
    "in wich ${{\\sigma}^2_P}$ is the variance of the portfolio and $\\Sigma$ is the covariance matrix of the assets. The covariance matrix is given by:\n",
    "<br>\n",
    "<br>\n",
    "$$ \\large{\\Sigma} = \\small \\begin{bmatrix}\n",
    "                {{\\sigma}^2_A} & cov(A,B) & cov(A,C) \\\\\n",
    "                cov(A,B) & {{\\sigma}^2_B} & cov(B,C) \\\\\n",
    "                cov(A,C) & cov(B,C) & {{\\sigma}^2_C} \\\\\n",
    "            \\end{bmatrix}.\n",
    "$$\n",
    "<br>\n",
    "<br>\n",
    "The weight matrix ${\\omega}$ have dimensios of $({n}_{stocks}, {n}_{samples})$, with ${n}_{stocks}$ being the number of stocks in the portfolio and ${n}_{samples}$ the number of samples for data simulation. So, the weight matrix is defined as:\n",
    "<br>\n",
    "<br>\n",
    "$$ \\large{\\omega} = \\small \\begin{bmatrix}\n",
    "                                {{\\omega}^{(1)}_1} & {{\\omega}^{(1)}_2} & {{\\omega}^{(1)}_3} & \\cdot \\cdot \\cdot & {{\\omega}^{(1)}_{n_{samples}}} \\\\\n",
    "                                {{\\omega}^{(2)}_1} & {{\\omega}^{(2)}_2} & {{\\omega}^{(2)}_3} & \\cdot \\cdot \\cdot & {{\\omega}^{(2)}_{n_{samples}}} \\\\\n",
    "                                {{\\omega}^{(3)}_1} & {{\\omega}^{(3)}_2} & {{\\omega}^{(3)}_3} & \\cdot \\cdot \\cdot & {{\\omega}^{(3)}_{n_{samples}}} \\\\\n",
    "                                \\cdot              &      \\cdot         &         \\cdot      &         \\cdot     &            \\cdot                \\\\\n",
    "                                {{\\omega}^{(n_{stocks})}_1} & {{\\omega}^{(n_{stocks})}_2} & {{\\omega}^{(n_{stocks})}_3} & \\cdot \\cdot \\cdot & {{\\omega}^{(n_{stocks})}_{n_{samples}}} \\\\\n",
    "                    \\end{bmatrix}.\n",
    "$$\n",
    "<br>\n"
   ]
  },
  {
   "cell_type": "markdown",
   "id": "4fd36a0e-f3c9-4597-bad2-134ebbd1cd64",
   "metadata": {},
   "source": [
    "## Generate samples from distributions models - Covariance"
   ]
  },
  {
   "cell_type": "markdown",
   "id": "14717870-b7c7-412b-9c79-3b23b46c0be4",
   "metadata": {
    "jp-MarkdownHeadingCollapsed": true,
    "tags": []
   },
   "source": [
    "#### Cov pairs"
   ]
  },
  {
   "cell_type": "code",
   "execution_count": 18,
   "id": "840f91ba-8fc3-486c-b1f1-02ecd0d17c40",
   "metadata": {
    "tags": []
   },
   "outputs": [],
   "source": [
    "# Number of samples\n",
    "num_samples = 1_000"
   ]
  },
  {
   "cell_type": "code",
   "execution_count": 19,
   "id": "9487e4c9-9f9f-4149-9cb7-cb3d2a485725",
   "metadata": {
    "tags": []
   },
   "outputs": [],
   "source": [
    "# Generate all pairs of assets for covariance matrix\n",
    "def generate_cov_pairs():    \n",
    "    ticker_pairs1 = [(tickers[i], tickers[j]) for i in range(len(tickers)) for j in range(i, len(tickers))]\n",
    "    ticker_pairs2 = [(j,i) for i,j in ticker_pairs1]\n",
    "    pairs = set(ticker_pairs1).union(set(ticker_pairs2))\n",
    "    \n",
    "    ticker_map = dict(zip(tickers, range(0, len(tickers))))\n",
    "    \n",
    "    return pairs, ticker_map\n",
    "\n",
    "cov_pairs, ticker_map = generate_cov_pairs()"
   ]
  },
  {
   "cell_type": "markdown",
   "id": "38b21f7f-f0f8-46f5-a9b9-c4863f2871cb",
   "metadata": {
    "jp-MarkdownHeadingCollapsed": true,
    "tags": []
   },
   "source": [
    "#### Cov fitting params"
   ]
  },
  {
   "cell_type": "code",
   "execution_count": 20,
   "id": "51797b0d-431b-41a7-aa8d-e06cf98840b0",
   "metadata": {},
   "outputs": [
    {
     "name": "stderr",
     "output_type": "stream",
     "text": [
      "C:\\Users\\DELL\\anaconda3\\Lib\\site-packages\\scipy\\stats\\_continuous_distns.py:6111: RuntimeWarning: invalid value encountered in log\n",
      "  lndata = np.log(data - loc)\n",
      "C:\\Users\\DELL\\anaconda3\\Lib\\site-packages\\scipy\\stats\\_continuous_distns.py:6111: RuntimeWarning: invalid value encountered in log\n",
      "  lndata = np.log(data - loc)\n",
      "C:\\Users\\DELL\\anaconda3\\Lib\\site-packages\\scipy\\stats\\_continuous_distns.py:6111: RuntimeWarning: invalid value encountered in log\n",
      "  lndata = np.log(data - loc)\n",
      "C:\\Users\\DELL\\anaconda3\\Lib\\site-packages\\scipy\\stats\\_continuous_distns.py:6111: RuntimeWarning: invalid value encountered in log\n",
      "  lndata = np.log(data - loc)\n",
      "C:\\Users\\DELL\\anaconda3\\Lib\\site-packages\\scipy\\stats\\_continuous_distns.py:6111: RuntimeWarning: invalid value encountered in log\n",
      "  lndata = np.log(data - loc)\n",
      "C:\\Users\\DELL\\anaconda3\\Lib\\site-packages\\scipy\\stats\\_continuous_distns.py:6111: RuntimeWarning: invalid value encountered in log\n",
      "  lndata = np.log(data - loc)\n",
      "C:\\Users\\DELL\\anaconda3\\Lib\\site-packages\\scipy\\stats\\_continuous_distns.py:6111: RuntimeWarning: invalid value encountered in log\n",
      "  lndata = np.log(data - loc)\n",
      "C:\\Users\\DELL\\anaconda3\\Lib\\site-packages\\scipy\\stats\\_continuous_distns.py:6111: RuntimeWarning: invalid value encountered in log\n",
      "  lndata = np.log(data - loc)\n",
      "C:\\Users\\DELL\\anaconda3\\Lib\\site-packages\\scipy\\stats\\_continuous_distns.py:6111: RuntimeWarning: invalid value encountered in log\n",
      "  lndata = np.log(data - loc)\n",
      "C:\\Users\\DELL\\anaconda3\\Lib\\site-packages\\scipy\\stats\\_continuous_distns.py:6111: RuntimeWarning: invalid value encountered in log\n",
      "  lndata = np.log(data - loc)\n",
      "C:\\Users\\DELL\\anaconda3\\Lib\\site-packages\\scipy\\stats\\_continuous_distns.py:6111: RuntimeWarning: invalid value encountered in log\n",
      "  lndata = np.log(data - loc)\n",
      "C:\\Users\\DELL\\anaconda3\\Lib\\site-packages\\scipy\\stats\\_continuous_distns.py:6111: RuntimeWarning: invalid value encountered in log\n",
      "  lndata = np.log(data - loc)\n",
      "C:\\Users\\DELL\\anaconda3\\Lib\\site-packages\\scipy\\stats\\_continuous_distns.py:6111: RuntimeWarning: invalid value encountered in log\n",
      "  lndata = np.log(data - loc)\n",
      "C:\\Users\\DELL\\anaconda3\\Lib\\site-packages\\scipy\\stats\\_continuous_distns.py:6111: RuntimeWarning: invalid value encountered in log\n",
      "  lndata = np.log(data - loc)\n",
      "C:\\Users\\DELL\\anaconda3\\Lib\\site-packages\\scipy\\stats\\_continuous_distns.py:6111: RuntimeWarning: invalid value encountered in log\n",
      "  lndata = np.log(data - loc)\n",
      "C:\\Users\\DELL\\anaconda3\\Lib\\site-packages\\scipy\\stats\\_continuous_distns.py:6111: RuntimeWarning: invalid value encountered in log\n",
      "  lndata = np.log(data - loc)\n",
      "C:\\Users\\DELL\\anaconda3\\Lib\\site-packages\\scipy\\stats\\_continuous_distns.py:6111: RuntimeWarning: invalid value encountered in log\n",
      "  lndata = np.log(data - loc)\n",
      "C:\\Users\\DELL\\anaconda3\\Lib\\site-packages\\scipy\\stats\\_continuous_distns.py:6111: RuntimeWarning: invalid value encountered in log\n",
      "  lndata = np.log(data - loc)\n",
      "C:\\Users\\DELL\\anaconda3\\Lib\\site-packages\\scipy\\stats\\_continuous_distns.py:6111: RuntimeWarning: invalid value encountered in log\n",
      "  lndata = np.log(data - loc)\n",
      "C:\\Users\\DELL\\anaconda3\\Lib\\site-packages\\scipy\\stats\\_continuous_distns.py:6111: RuntimeWarning: invalid value encountered in log\n",
      "  lndata = np.log(data - loc)\n",
      "C:\\Users\\DELL\\anaconda3\\Lib\\site-packages\\scipy\\stats\\_continuous_distns.py:6111: RuntimeWarning: invalid value encountered in log\n",
      "  lndata = np.log(data - loc)\n",
      "C:\\Users\\DELL\\anaconda3\\Lib\\site-packages\\scipy\\stats\\_continuous_distns.py:6111: RuntimeWarning: invalid value encountered in log\n",
      "  lndata = np.log(data - loc)\n",
      "C:\\Users\\DELL\\anaconda3\\Lib\\site-packages\\scipy\\stats\\_continuous_distns.py:6111: RuntimeWarning: invalid value encountered in log\n",
      "  lndata = np.log(data - loc)\n",
      "C:\\Users\\DELL\\anaconda3\\Lib\\site-packages\\scipy\\stats\\_continuous_distns.py:6111: RuntimeWarning: invalid value encountered in log\n",
      "  lndata = np.log(data - loc)\n",
      "C:\\Users\\DELL\\anaconda3\\Lib\\site-packages\\scipy\\stats\\_continuous_distns.py:6111: RuntimeWarning: invalid value encountered in log\n",
      "  lndata = np.log(data - loc)\n",
      "C:\\Users\\DELL\\anaconda3\\Lib\\site-packages\\scipy\\stats\\_continuous_distns.py:6111: RuntimeWarning: invalid value encountered in log\n",
      "  lndata = np.log(data - loc)\n",
      "C:\\Users\\DELL\\anaconda3\\Lib\\site-packages\\scipy\\stats\\_continuous_distns.py:6111: RuntimeWarning: invalid value encountered in log\n",
      "  lndata = np.log(data - loc)\n",
      "C:\\Users\\DELL\\anaconda3\\Lib\\site-packages\\scipy\\stats\\_continuous_distns.py:6111: RuntimeWarning: invalid value encountered in log\n",
      "  lndata = np.log(data - loc)\n",
      "C:\\Users\\DELL\\anaconda3\\Lib\\site-packages\\scipy\\stats\\_continuous_distns.py:6111: RuntimeWarning: invalid value encountered in log\n",
      "  lndata = np.log(data - loc)\n",
      "C:\\Users\\DELL\\anaconda3\\Lib\\site-packages\\scipy\\stats\\_continuous_distns.py:6111: RuntimeWarning: invalid value encountered in log\n",
      "  lndata = np.log(data - loc)\n",
      "C:\\Users\\DELL\\anaconda3\\Lib\\site-packages\\scipy\\stats\\_continuous_distns.py:6111: RuntimeWarning: invalid value encountered in log\n",
      "  lndata = np.log(data - loc)\n",
      "C:\\Users\\DELL\\anaconda3\\Lib\\site-packages\\scipy\\stats\\_continuous_distns.py:6111: RuntimeWarning: invalid value encountered in log\n",
      "  lndata = np.log(data - loc)\n"
     ]
    }
   ],
   "source": [
    "# Empty dict to receive the parameters\n",
    "cov_fitting_params = {}\n",
    "\n",
    "for i, j in cov_pairs:\n",
    "\n",
    "    if i == j:\n",
    "        \n",
    "        df = (df_daily_return[[i]]\n",
    "              .copy()\n",
    "              .rolling(window=252)\n",
    "              .var()\n",
    "              .dropna()\n",
    "              .apply(lambda x: 252 * x)\n",
    "            )\n",
    "        \n",
    "        sigma, loc, scale = lognorm.fit(df)\n",
    "        cov_fitting_params[(i,j)] = {\"sigma\": sigma, \"loc\": loc, \"scale\": scale}\n",
    "\n",
    "    else:\n",
    "        \n",
    "        df = (df_daily_return[[i,j]]\n",
    "              .copy()\n",
    "              .rolling(window=252)\n",
    "              .cov()\n",
    "              .dropna()\n",
    "              .apply(lambda x: 252 * x)\n",
    "            )\n",
    "    \n",
    "        cov_ij = df[(df.index.get_level_values('Ticker') == i)][j]\n",
    "    \n",
    "        sigma, loc, scale = lognorm.fit(cov_ij)    \n",
    "        cov_fitting_params[(i,j)] = {\"sigma\": sigma, \"loc\": loc, \"scale\": scale}\n",
    "    \n",
    "# cov_fitting_params\n"
   ]
  },
  {
   "cell_type": "markdown",
   "id": "4881362b-c3a8-438a-abc4-80d67c0cf5f5",
   "metadata": {
    "jp-MarkdownHeadingCollapsed": true,
    "tags": []
   },
   "source": [
    "#### Cov samples"
   ]
  },
  {
   "cell_type": "code",
   "execution_count": 21,
   "id": "f620185d-4b33-4811-80a5-a60bb7f48a09",
   "metadata": {},
   "outputs": [],
   "source": [
    "def calculate_cov_samples(cvp, num_samples=1_000):\n",
    "    sigma   = cov_fitting_params[cvp][\"sigma\"]\n",
    "    loc     = cov_fitting_params[cvp][\"loc\"]\n",
    "    scale   = cov_fitting_params[cvp][\"scale\"]\n",
    "    samples = lognorm.rvs(sigma, loc=loc, scale=scale, size=num_samples, random_state=42)\n",
    "    return samples"
   ]
  },
  {
   "cell_type": "code",
   "execution_count": 22,
   "id": "89efe5a9-9e01-46ba-bb11-7f01810503ca",
   "metadata": {},
   "outputs": [],
   "source": [
    "# Defining return dict to receive the samples from distributions models builted with their respective parameters\n",
    "cov_samples_lognormal = { cvp: calculate_cov_samples(cvp, num_samples) for cvp in cov_pairs }\n",
    "\n",
    "# Reshaping from (num_samples,) --> (num_samples, 1, 1)\n",
    "cov_samples_reshaped  = { cvp: cov_samples_lognormal[cvp].reshape(num_samples, 1, 1) for cvp in cov_samples_lognormal.keys() }\n",
    "\n",
    "# Indexes index array to keys with respective samples, ex.: (BRK-B, IAU) --> (0, 1) \n",
    "cov_samples_mapped     = {(ticker_map[i], ticker_map[j]): cov_samples_reshaped[(i,j)] for i, j in cov_samples_reshaped.keys() } \n"
   ]
  },
  {
   "cell_type": "markdown",
   "id": "d4cca2ff-43ca-4a59-8ba1-e3a05fd643a9",
   "metadata": {
    "tags": []
   },
   "source": [
    "## Build Cov matrix"
   ]
  },
  {
   "cell_type": "code",
   "execution_count": 23,
   "id": "3ffa37bb-63db-43e1-ac2f-38bb70aca5d9",
   "metadata": {
    "tags": []
   },
   "outputs": [],
   "source": [
    "# Create empty array with the final shape\n",
    "cov_matrix = np.zeros((num_samples, len(tickers), len(tickers)), dtype=np.float64)\n",
    "\n",
    "# Map the values in the dictionary to the new array\n",
    "for (i, j), arr in cov_samples_mapped.items():    \n",
    "    cov_matrix[:, i, j] = arr[:, 0, 0]\n"
   ]
  },
  {
   "cell_type": "code",
   "execution_count": 24,
   "id": "0036890e-44c6-4852-97d9-f86237e81d86",
   "metadata": {},
   "outputs": [
    {
     "data": {
      "text/plain": [
       "(1000, 8, 8)"
      ]
     },
     "execution_count": 24,
     "metadata": {},
     "output_type": "execute_result"
    }
   ],
   "source": [
    "cov_matrix.shape"
   ]
  },
  {
   "cell_type": "markdown",
   "id": "548a126c-8e7f-4e2a-a1e8-77f19e7dec82",
   "metadata": {
    "jp-MarkdownHeadingCollapsed": true,
    "tags": []
   },
   "source": [
    "## Generate weights"
   ]
  },
  {
   "cell_type": "code",
   "execution_count": 25,
   "id": "7ba4a792-7c4e-4dd1-b363-fe3762fa8d28",
   "metadata": {},
   "outputs": [],
   "source": [
    "def make_wight_matrix(n_tickers, n_samples=1000):\n",
    "    rand_values = uniform.rvs(size= int(n_tickers * n_samples)).reshape((n_tickers, n_samples))\n",
    "    normalized_values = rand_values / rand_values.sum(axis=0, keepdims=True)\n",
    "    return normalized_values\n",
    "\n",
    "# Matrix of the weights\n",
    "weight_matrix = make_wight_matrix(len(tickers), num_samples)\n"
   ]
  },
  {
   "cell_type": "code",
   "execution_count": 26,
   "id": "77701b60-42e7-4abb-a3dc-7ca29fce411c",
   "metadata": {},
   "outputs": [
    {
     "data": {
      "text/plain": [
       "(8, 1000)"
      ]
     },
     "execution_count": 26,
     "metadata": {},
     "output_type": "execute_result"
    }
   ],
   "source": [
    "weight_matrix.shape"
   ]
  },
  {
   "cell_type": "markdown",
   "id": "c56d8da8-128b-4340-9043-ee4c6184baac",
   "metadata": {
    "jp-MarkdownHeadingCollapsed": true,
    "tags": []
   },
   "source": [
    "## Build Risk Matrix"
   ]
  },
  {
   "cell_type": "code",
   "execution_count": 27,
   "id": "e8e0f18d-3c75-42dc-b4b2-8906fc67fa38",
   "metadata": {},
   "outputs": [
    {
     "name": "stdout",
     "output_type": "stream",
     "text": [
      "CPU times: total: 43.7 s\n",
      "Wall time: 1min 4s\n"
     ]
    }
   ],
   "source": [
    "%time risk_total_matrix = np.dot( np.dot( weight_matrix.T, cov_matrix),  weight_matrix)\n",
    "\n",
    "# Initialize risk_matrix with zeros of shape (num_samples, num_samples)\n",
    "risk_matrix = np.zeros((num_samples, num_samples))\n",
    "\n",
    "# Filter only columns with the risks os Markowitz\n",
    "for i in range(num_samples):\n",
    "    risk_matrix[:, i] = risk_total_matrix[i, :, i]\n"
   ]
  },
  {
   "cell_type": "code",
   "execution_count": 28,
   "id": "b23ac11d-a7c1-4d1c-8b27-a36922627145",
   "metadata": {},
   "outputs": [
    {
     "data": {
      "text/plain": [
       "(1000, 1000)"
      ]
     },
     "execution_count": 28,
     "metadata": {},
     "output_type": "execute_result"
    }
   ],
   "source": [
    "risk_matrix.shape"
   ]
  },
  {
   "cell_type": "markdown",
   "id": "295e0bc6-33c8-402e-bc8d-d1528f5b8378",
   "metadata": {},
   "source": [
    "## Analise Results"
   ]
  },
  {
   "cell_type": "code",
   "execution_count": 30,
   "id": "d44a8c5e-5c91-465e-86f0-440edb445c67",
   "metadata": {
    "tags": []
   },
   "outputs": [
    {
     "data": {
      "image/png": "[encoded data removed]",
      "text/plain": [
       "<Figure size 640x480 with 1 Axes>"
      ]
     },
     "metadata": {},
     "output_type": "display_data"
    }
   ],
   "source": [
    "# Fit a Lognormal distribution to the returns_daily (actually, the pricing ratio Pn+12/Pn)\n",
    "risk_reshaped = risk_matrix.reshape(-1)\n",
    "data = np.sqrt(risk_reshaped[risk_reshaped >= 0])\n",
    "# sigma, loc, scale = lognorm.fit(data)\n",
    "\n",
    "sns.histplot(data= data, bins=50, stat=\"density\", kde=True, color='lightgreen', edgecolor='red', label=f\"Assets: {tickers}\")\n",
    "# xmin, xmax = plt.xlim()\n",
    "# x = np.linspace(xmin, xmax, 1000)\n",
    "# pdf = lognorm.pdf(x, sigma, loc= loc, scale= scale)\n",
    "\n",
    "# plt.plot(x, pdf, 'k', label=\"lognormal\", linewidth=2)\n",
    "# plt.title(f\"Portfolio {tickers} --> Fit results: sigma = %.2f,  loc = %.2f, scale = %.2f\" % (sigma, loc, scale))\n",
    "threshold = 0.2\n",
    "risk_threshold = np.count_nonzero(data > threshold) / np.max(data.shape)\n",
    "\n",
    "plt.title(f\"Portfolio Risk - Prob(risk >= {threshold}) = {int(100 * risk_threshold)}.0%\")\n",
    "plt.ylabel(\"Probability density function\")\n",
    "plt.xlabel(\"risk [a.a.]\")\n",
    "plt.legend()\n",
    "plt.show()"
   ]
  },
  {
   "cell_type": "markdown",
   "id": "863eca7b-966d-4a49-b0f0-2b5c6f7cc424",
   "metadata": {
    "tags": []
   },
   "source": [
    "#### Analise results"
   ]
  },
  {
   "cell_type": "code",
   "execution_count": 31,
   "id": "af0223f3-107a-4a79-864d-a023285aff93",
   "metadata": {
    "tags": []
   },
   "outputs": [],
   "source": [
    "## MAP the final values to source values in their respective arrays:\n",
    "# risk_matrix[i, j] == risk_total_matrix[j, i, j]\n",
    "# risk_total_matrix[j, i, j] == interm_matrix[j, i, :]  *  weight_matrix[:, j]\n",
    "# interm_matrix[j, i, :] == weight_matrix.T[j, :]  *  cov_matrix[ i, :, :]"
   ]
  },
  {
   "cell_type": "code",
   "execution_count": 32,
   "id": "9ca52c6d-549f-4c87-aee5-cb7f71f512e1",
   "metadata": {
    "tags": []
   },
   "outputs": [
    {
     "name": "stdout",
     "output_type": "stream",
     "text": [
      "Coordinates of the minimum value: 262 622\n",
      "Minimum value:  -0.0033993947872472353\n"
     ]
    }
   ],
   "source": [
    "# Find the coordinates (indices) of the minimum value\n",
    "i, j = np.unravel_index(np.argmin(risk_matrix), risk_matrix.shape)\n",
    "\n",
    "# Print the coordinates\n",
    "print(\"Coordinates of the minimum value:\", i, j)\n",
    "print(\"Minimum value: \", risk_total_matrix[j, i, j])\n",
    "del risk_total_matrix"
   ]
  },
  {
   "cell_type": "code",
   "execution_count": 34,
   "id": "248a2177-d01a-4fad-a0fa-17895b8de4fd",
   "metadata": {
    "tags": []
   },
   "outputs": [
    {
     "data": {
      "text/plain": [
       "array([[0.4133975 , 0.15449677, 0.13627856, 0.06930843, 0.12566497,\n",
       "        0.01440595, 0.02479828, 0.06164955]])"
      ]
     },
     "execution_count": 34,
     "metadata": {},
     "output_type": "execute_result"
    }
   ],
   "source": [
    "w_T = weight_matrix.T[j, :].reshape(1, len(tickers))\n",
    "w_T"
   ]
  },
  {
   "cell_type": "code",
   "execution_count": 35,
   "id": "d22363cd-b86f-47ff-bce5-f226ea0e9c37",
   "metadata": {
    "tags": []
   },
   "outputs": [
    {
     "data": {
      "text/plain": [
       "array([[ 2.43570401e-03, -1.26574065e-02, -1.47302616e-02,\n",
       "        -1.12652854e-02, -4.36395777e-03, -5.17337229e-03,\n",
       "        -5.48331378e-03, -8.90424535e-03],\n",
       "       [-1.26574065e-02,  1.08894622e-02,  8.65656426e-03,\n",
       "         6.00433341e-04,  8.88293985e-04,  1.70950397e-03,\n",
       "        -6.35585359e-03, -1.88651005e-03],\n",
       "       [-1.47302616e-02,  8.65656426e-03,  1.55557122e-02,\n",
       "         2.35391949e-03,  6.45403315e-04,  1.10564347e-03,\n",
       "        -2.23668427e-03, -1.92672965e-03],\n",
       "       [-1.12652854e-02,  6.00433341e-04,  2.35391949e-03,\n",
       "         1.12631345e-02, -2.46598736e-04,  1.74246535e-03,\n",
       "         2.87816524e-03,  3.26537884e-03],\n",
       "       [-4.36395777e-03,  8.88293985e-04,  6.45403315e-04,\n",
       "        -2.46598736e-04,  8.17601213e-03,  1.55233147e-04,\n",
       "         1.07246751e-03, -5.55467524e-05],\n",
       "       [-5.17337229e-03,  1.70950397e-03,  1.10564347e-03,\n",
       "         1.74246535e-03,  1.55233147e-04,  8.59485565e-03,\n",
       "        -2.42424744e-03, -1.89816356e-03],\n",
       "       [-5.48331378e-03, -6.35585359e-03, -2.23668427e-03,\n",
       "         2.87816524e-03,  1.07246751e-03, -2.42424744e-03,\n",
       "         3.42104515e-02, -1.96827999e-03],\n",
       "       [-8.90424535e-03, -1.88651005e-03, -1.92672965e-03,\n",
       "         3.26537884e-03, -5.55467524e-05, -1.89816356e-03,\n",
       "        -1.96827999e-03,  1.11524118e-02]])"
      ]
     },
     "execution_count": 35,
     "metadata": {},
     "output_type": "execute_result"
    }
   ],
   "source": [
    "cov = cov_matrix[ i, :, :].reshape(len(tickers), len(tickers))\n",
    "cov"
   ]
  },
  {
   "cell_type": "code",
   "execution_count": 36,
   "id": "d4b5342e-7303-43d5-98eb-154e63eb3dce",
   "metadata": {
    "tags": []
   },
   "outputs": [
    {
     "data": {
      "text/plain": [
       "array([[-0.00504466, -0.0024665 , -0.0025462 , -0.00319606, -0.0005431 ,\n",
       "        -0.00163692, -0.00252721, -0.0034043 ]])"
      ]
     },
     "execution_count": 36,
     "metadata": {},
     "output_type": "execute_result"
    }
   ],
   "source": [
    "int_matrix = w_T.dot(cov)\n",
    "int_matrix"
   ]
  },
  {
   "cell_type": "code",
   "execution_count": 37,
   "id": "9d0c6e43-22f6-4252-b3fb-0e88c9f97261",
   "metadata": {
    "tags": []
   },
   "outputs": [
    {
     "data": {
      "text/plain": [
       "array([[0.4133975 ],\n",
       "       [0.15449677],\n",
       "       [0.13627856],\n",
       "       [0.06930843],\n",
       "       [0.12566497],\n",
       "       [0.01440595],\n",
       "       [0.02479828],\n",
       "       [0.06164955]])"
      ]
     },
     "execution_count": 37,
     "metadata": {},
     "output_type": "execute_result"
    }
   ],
   "source": [
    "w = weight_matrix[:, j].reshape(len(tickers), 1)\n",
    "w"
   ]
  },
  {
   "cell_type": "code",
   "execution_count": 38,
   "id": "8dbefba3-d9b8-4bca-9bf3-585aa7a4199b",
   "metadata": {
    "tags": []
   },
   "outputs": [
    {
     "data": {
      "text/plain": [
       "array([[-0.00339939]])"
      ]
     },
     "execution_count": 38,
     "metadata": {},
     "output_type": "execute_result"
    }
   ],
   "source": [
    "risk_final = int_matrix.dot(w)\n",
    "risk_final"
   ]
  },
  {
   "cell_type": "code",
   "execution_count": null,
   "id": "5e471689-54b5-4fb2-9c23-14a60dd01c9c",
   "metadata": {},
   "outputs": [],
   "source": []
  },
  {
   "cell_type": "code",
   "execution_count": null,
   "id": "345da523-cc48-4ef9-8318-af2707208878",
   "metadata": {},
   "outputs": [],
   "source": []
  },
  {
   "cell_type": "code",
   "execution_count": null,
   "id": "71f76298-14f5-46ac-ae73-4fe6e353bf49",
   "metadata": {},
   "outputs": [],
   "source": []
  },
  {
   "cell_type": "code",
   "execution_count": null,
   "id": "098e6ba5-501f-480a-add2-0d2b2dfee55b",
   "metadata": {},
   "outputs": [],
   "source": []
  }
 ],
 "metadata": {
  "kernelspec": {
   "display_name": "Python 3 (ipykernel)",
   "language": "python",
   "name": "python3"
  },
  "language_info": {
   "codemirror_mode": {
    "name": "ipython",
    "version": 3
   },
   "file_extension": ".py",
   "mimetype": "text/x-python",
   "name": "python",
   "nbconvert_exporter": "python",
   "pygments_lexer": "ipython3",
   "version": "3.11.5"
  },
  "toc-showtags": false
 },
 "nbformat": 4,
 "nbformat_minor": 5
}
