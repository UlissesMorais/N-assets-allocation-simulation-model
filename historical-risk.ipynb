{
 "cells": [
  {
   "cell_type": "markdown",
   "id": "99812ce1",
   "metadata": {
    "jp-MarkdownHeadingCollapsed": true,
    "tags": []
   },
   "source": [
    "## Import libraries"
   ]
  },
  {
   "cell_type": "code",
   "execution_count": 1,
   "id": "45cb3566",
   "metadata": {},
   "outputs": [],
   "source": [
    "import pandas as pd\n",
    "import numpy as np\n",
    "import matplotlib.pyplot as plt\n",
    "import seaborn as sns\n",
    "import yfinance as yf\n",
    "from scipy.stats import norm, lognorm, uniform\n",
    "\n",
    "import warnings\n",
    "# warnings.filterwarnings('ignore')"
   ]
  },
  {
   "cell_type": "code",
   "execution_count": 2,
   "id": "9b15e74b",
   "metadata": {},
   "outputs": [
    {
     "name": "stdout",
     "output_type": "stream",
     "text": [
      "Yfinance version:  0.2.37\n"
     ]
    }
   ],
   "source": [
    "print(\"Yfinance version: \" , yf.__version__)"
   ]
  },
  {
   "cell_type": "code",
   "execution_count": 3,
   "id": "a2172057-48b5-4a35-a2e1-d74bde21f569",
   "metadata": {
    "tags": []
   },
   "outputs": [],
   "source": [
    "# Set default parameters for plt.title()\n",
    "plt.rcParams['axes.titlepad'] = 12  # Set padding around the title\n",
    "plt.rcParams['axes.titleweight'] = 'normal'  # Set title font size\n",
    "plt.rcParams['axes.titlesize'] = 9  # Set title font size"
   ]
  },
  {
   "cell_type": "markdown",
   "id": "90a60dac",
   "metadata": {
    "jp-MarkdownHeadingCollapsed": true,
    "tags": []
   },
   "source": [
    "## Fetch data"
   ]
  },
  {
   "cell_type": "code",
   "execution_count": 4,
   "id": "2be220cb",
   "metadata": {},
   "outputs": [],
   "source": [
    "def fetch_stock_data(tickers, start_date, end_date, interval):\n",
    "    data = yf.download(tickers, start=start_date, end=end_date, interval=interval)\n",
    "    return data"
   ]
  },
  {
   "cell_type": "code",
   "execution_count": 5,
   "id": "b158dd00",
   "metadata": {},
   "outputs": [
    {
     "name": "stderr",
     "output_type": "stream",
     "text": [
      "[*********************100%%**********************]  4 of 4 completed\n"
     ]
    },
    {
     "data": {
      "text/html": [
       "<div>\n",
       "<style scoped>\n",
       "    .dataframe tbody tr th:only-of-type {\n",
       "        vertical-align: middle;\n",
       "    }\n",
       "\n",
       "    .dataframe tbody tr th {\n",
       "        vertical-align: top;\n",
       "    }\n",
       "\n",
       "    .dataframe thead tr th {\n",
       "        text-align: left;\n",
       "    }\n",
       "\n",
       "    .dataframe thead tr:last-of-type th {\n",
       "        text-align: right;\n",
       "    }\n",
       "</style>\n",
       "<table border=\"1\" class=\"dataframe\">\n",
       "  <thead>\n",
       "    <tr>\n",
       "      <th>Price</th>\n",
       "      <th colspan=\"4\" halign=\"left\">Adj Close</th>\n",
       "      <th colspan=\"4\" halign=\"left\">Close</th>\n",
       "      <th colspan=\"2\" halign=\"left\">High</th>\n",
       "      <th>...</th>\n",
       "      <th colspan=\"2\" halign=\"left\">Low</th>\n",
       "      <th colspan=\"4\" halign=\"left\">Open</th>\n",
       "      <th colspan=\"4\" halign=\"left\">Volume</th>\n",
       "    </tr>\n",
       "    <tr>\n",
       "      <th>Ticker</th>\n",
       "      <th>AMZN</th>\n",
       "      <th>GOOG</th>\n",
       "      <th>META</th>\n",
       "      <th>MSFT</th>\n",
       "      <th>AMZN</th>\n",
       "      <th>GOOG</th>\n",
       "      <th>META</th>\n",
       "      <th>MSFT</th>\n",
       "      <th>AMZN</th>\n",
       "      <th>GOOG</th>\n",
       "      <th>...</th>\n",
       "      <th>META</th>\n",
       "      <th>MSFT</th>\n",
       "      <th>AMZN</th>\n",
       "      <th>GOOG</th>\n",
       "      <th>META</th>\n",
       "      <th>MSFT</th>\n",
       "      <th>AMZN</th>\n",
       "      <th>GOOG</th>\n",
       "      <th>META</th>\n",
       "      <th>MSFT</th>\n",
       "    </tr>\n",
       "    <tr>\n",
       "      <th>Date</th>\n",
       "      <th></th>\n",
       "      <th></th>\n",
       "      <th></th>\n",
       "      <th></th>\n",
       "      <th></th>\n",
       "      <th></th>\n",
       "      <th></th>\n",
       "      <th></th>\n",
       "      <th></th>\n",
       "      <th></th>\n",
       "      <th></th>\n",
       "      <th></th>\n",
       "      <th></th>\n",
       "      <th></th>\n",
       "      <th></th>\n",
       "      <th></th>\n",
       "      <th></th>\n",
       "      <th></th>\n",
       "      <th></th>\n",
       "      <th></th>\n",
       "      <th></th>\n",
       "    </tr>\n",
       "  </thead>\n",
       "  <tbody>\n",
       "    <tr>\n",
       "      <th>2010-01-04</th>\n",
       "      <td>6.695000</td>\n",
       "      <td>15.610239</td>\n",
       "      <td>NaN</td>\n",
       "      <td>23.431595</td>\n",
       "      <td>6.695000</td>\n",
       "      <td>15.610239</td>\n",
       "      <td>NaN</td>\n",
       "      <td>30.950001</td>\n",
       "      <td>6.830500</td>\n",
       "      <td>15.678981</td>\n",
       "      <td>...</td>\n",
       "      <td>NaN</td>\n",
       "      <td>30.590000</td>\n",
       "      <td>6.812500</td>\n",
       "      <td>15.615220</td>\n",
       "      <td>NaN</td>\n",
       "      <td>30.620001</td>\n",
       "      <td>151998000</td>\n",
       "      <td>78541293</td>\n",
       "      <td>NaN</td>\n",
       "      <td>38409100</td>\n",
       "    </tr>\n",
       "    <tr>\n",
       "      <th>2010-01-05</th>\n",
       "      <td>6.734500</td>\n",
       "      <td>15.541497</td>\n",
       "      <td>NaN</td>\n",
       "      <td>23.439159</td>\n",
       "      <td>6.734500</td>\n",
       "      <td>15.541497</td>\n",
       "      <td>NaN</td>\n",
       "      <td>30.959999</td>\n",
       "      <td>6.774000</td>\n",
       "      <td>15.637387</td>\n",
       "      <td>...</td>\n",
       "      <td>NaN</td>\n",
       "      <td>30.639999</td>\n",
       "      <td>6.671500</td>\n",
       "      <td>15.620949</td>\n",
       "      <td>NaN</td>\n",
       "      <td>30.850000</td>\n",
       "      <td>177038000</td>\n",
       "      <td>120638494</td>\n",
       "      <td>NaN</td>\n",
       "      <td>49749600</td>\n",
       "    </tr>\n",
       "    <tr>\n",
       "      <th>2010-01-06</th>\n",
       "      <td>6.612500</td>\n",
       "      <td>15.149715</td>\n",
       "      <td>NaN</td>\n",
       "      <td>23.295309</td>\n",
       "      <td>6.612500</td>\n",
       "      <td>15.149715</td>\n",
       "      <td>NaN</td>\n",
       "      <td>30.770000</td>\n",
       "      <td>6.736500</td>\n",
       "      <td>15.588072</td>\n",
       "      <td>...</td>\n",
       "      <td>NaN</td>\n",
       "      <td>30.520000</td>\n",
       "      <td>6.730000</td>\n",
       "      <td>15.588072</td>\n",
       "      <td>NaN</td>\n",
       "      <td>30.879999</td>\n",
       "      <td>143576000</td>\n",
       "      <td>159744526</td>\n",
       "      <td>NaN</td>\n",
       "      <td>58182400</td>\n",
       "    </tr>\n",
       "    <tr>\n",
       "      <th>2010-01-07</th>\n",
       "      <td>6.500000</td>\n",
       "      <td>14.797037</td>\n",
       "      <td>NaN</td>\n",
       "      <td>23.053049</td>\n",
       "      <td>6.500000</td>\n",
       "      <td>14.797037</td>\n",
       "      <td>NaN</td>\n",
       "      <td>30.450001</td>\n",
       "      <td>6.616000</td>\n",
       "      <td>15.193053</td>\n",
       "      <td>...</td>\n",
       "      <td>NaN</td>\n",
       "      <td>30.190001</td>\n",
       "      <td>6.600500</td>\n",
       "      <td>15.178109</td>\n",
       "      <td>NaN</td>\n",
       "      <td>30.629999</td>\n",
       "      <td>220604000</td>\n",
       "      <td>257533695</td>\n",
       "      <td>NaN</td>\n",
       "      <td>50559700</td>\n",
       "    </tr>\n",
       "    <tr>\n",
       "      <th>2010-01-08</th>\n",
       "      <td>6.676000</td>\n",
       "      <td>14.994298</td>\n",
       "      <td>NaN</td>\n",
       "      <td>23.212036</td>\n",
       "      <td>6.676000</td>\n",
       "      <td>14.994298</td>\n",
       "      <td>NaN</td>\n",
       "      <td>30.660000</td>\n",
       "      <td>6.684000</td>\n",
       "      <td>15.024933</td>\n",
       "      <td>...</td>\n",
       "      <td>NaN</td>\n",
       "      <td>30.240000</td>\n",
       "      <td>6.528000</td>\n",
       "      <td>14.744733</td>\n",
       "      <td>NaN</td>\n",
       "      <td>30.280001</td>\n",
       "      <td>196610000</td>\n",
       "      <td>189680313</td>\n",
       "      <td>NaN</td>\n",
       "      <td>51197400</td>\n",
       "    </tr>\n",
       "    <tr>\n",
       "      <th>...</th>\n",
       "      <td>...</td>\n",
       "      <td>...</td>\n",
       "      <td>...</td>\n",
       "      <td>...</td>\n",
       "      <td>...</td>\n",
       "      <td>...</td>\n",
       "      <td>...</td>\n",
       "      <td>...</td>\n",
       "      <td>...</td>\n",
       "      <td>...</td>\n",
       "      <td>...</td>\n",
       "      <td>...</td>\n",
       "      <td>...</td>\n",
       "      <td>...</td>\n",
       "      <td>...</td>\n",
       "      <td>...</td>\n",
       "      <td>...</td>\n",
       "      <td>...</td>\n",
       "      <td>...</td>\n",
       "      <td>...</td>\n",
       "      <td>...</td>\n",
       "    </tr>\n",
       "    <tr>\n",
       "      <th>2024-01-25</th>\n",
       "      <td>157.750000</td>\n",
       "      <td>153.639999</td>\n",
       "      <td>392.763275</td>\n",
       "      <td>404.122681</td>\n",
       "      <td>157.750000</td>\n",
       "      <td>153.639999</td>\n",
       "      <td>393.179993</td>\n",
       "      <td>404.869995</td>\n",
       "      <td>158.509995</td>\n",
       "      <td>154.759995</td>\n",
       "      <td>...</td>\n",
       "      <td>385.660004</td>\n",
       "      <td>402.529999</td>\n",
       "      <td>156.949997</td>\n",
       "      <td>151.740005</td>\n",
       "      <td>390.170013</td>\n",
       "      <td>404.320007</td>\n",
       "      <td>43638600</td>\n",
       "      <td>21495100</td>\n",
       "      <td>15091100.0</td>\n",
       "      <td>21021200</td>\n",
       "    </tr>\n",
       "    <tr>\n",
       "      <th>2024-01-26</th>\n",
       "      <td>159.119995</td>\n",
       "      <td>153.789993</td>\n",
       "      <td>393.722260</td>\n",
       "      <td>403.184418</td>\n",
       "      <td>159.119995</td>\n",
       "      <td>153.789993</td>\n",
       "      <td>394.140015</td>\n",
       "      <td>403.929993</td>\n",
       "      <td>160.720001</td>\n",
       "      <td>154.110001</td>\n",
       "      <td>...</td>\n",
       "      <td>391.589996</td>\n",
       "      <td>402.429993</td>\n",
       "      <td>158.419998</td>\n",
       "      <td>152.869995</td>\n",
       "      <td>394.350006</td>\n",
       "      <td>404.369995</td>\n",
       "      <td>51047400</td>\n",
       "      <td>19494500</td>\n",
       "      <td>13163700.0</td>\n",
       "      <td>17803300</td>\n",
       "    </tr>\n",
       "    <tr>\n",
       "      <th>2024-01-29</th>\n",
       "      <td>161.259995</td>\n",
       "      <td>154.839996</td>\n",
       "      <td>400.594940</td>\n",
       "      <td>408.963715</td>\n",
       "      <td>161.259995</td>\n",
       "      <td>154.839996</td>\n",
       "      <td>401.019989</td>\n",
       "      <td>409.720001</td>\n",
       "      <td>161.289993</td>\n",
       "      <td>155.199997</td>\n",
       "      <td>...</td>\n",
       "      <td>393.100006</td>\n",
       "      <td>404.329987</td>\n",
       "      <td>159.339996</td>\n",
       "      <td>153.639999</td>\n",
       "      <td>394.989990</td>\n",
       "      <td>406.059998</td>\n",
       "      <td>45270400</td>\n",
       "      <td>20909300</td>\n",
       "      <td>18742400.0</td>\n",
       "      <td>24510200</td>\n",
       "    </tr>\n",
       "    <tr>\n",
       "      <th>2024-01-30</th>\n",
       "      <td>159.000000</td>\n",
       "      <td>153.050003</td>\n",
       "      <td>399.635986</td>\n",
       "      <td>407.835815</td>\n",
       "      <td>159.000000</td>\n",
       "      <td>153.050003</td>\n",
       "      <td>400.059998</td>\n",
       "      <td>408.589996</td>\n",
       "      <td>161.729996</td>\n",
       "      <td>155.039993</td>\n",
       "      <td>...</td>\n",
       "      <td>399.570007</td>\n",
       "      <td>406.450012</td>\n",
       "      <td>160.699997</td>\n",
       "      <td>154.009995</td>\n",
       "      <td>403.589996</td>\n",
       "      <td>412.260010</td>\n",
       "      <td>45207400</td>\n",
       "      <td>26578900</td>\n",
       "      <td>18614700.0</td>\n",
       "      <td>33477600</td>\n",
       "    </tr>\n",
       "    <tr>\n",
       "      <th>2024-01-31</th>\n",
       "      <td>155.199997</td>\n",
       "      <td>141.800003</td>\n",
       "      <td>389.726501</td>\n",
       "      <td>396.846130</td>\n",
       "      <td>155.199997</td>\n",
       "      <td>141.800003</td>\n",
       "      <td>390.140015</td>\n",
       "      <td>397.579987</td>\n",
       "      <td>159.009995</td>\n",
       "      <td>145.589996</td>\n",
       "      <td>...</td>\n",
       "      <td>387.100006</td>\n",
       "      <td>397.209991</td>\n",
       "      <td>157.000000</td>\n",
       "      <td>145.389999</td>\n",
       "      <td>389.000000</td>\n",
       "      <td>406.959991</td>\n",
       "      <td>50284400</td>\n",
       "      <td>43908600</td>\n",
       "      <td>20180800.0</td>\n",
       "      <td>47871100</td>\n",
       "    </tr>\n",
       "  </tbody>\n",
       "</table>\n",
       "<p>3543 rows × 24 columns</p>\n",
       "</div>"
      ],
      "text/plain": [
       "Price        Adj Close                                           Close  \\\n",
       "Ticker            AMZN        GOOG        META        MSFT        AMZN   \n",
       "Date                                                                     \n",
       "2010-01-04    6.695000   15.610239         NaN   23.431595    6.695000   \n",
       "2010-01-05    6.734500   15.541497         NaN   23.439159    6.734500   \n",
       "2010-01-06    6.612500   15.149715         NaN   23.295309    6.612500   \n",
       "2010-01-07    6.500000   14.797037         NaN   23.053049    6.500000   \n",
       "2010-01-08    6.676000   14.994298         NaN   23.212036    6.676000   \n",
       "...                ...         ...         ...         ...         ...   \n",
       "2024-01-25  157.750000  153.639999  392.763275  404.122681  157.750000   \n",
       "2024-01-26  159.119995  153.789993  393.722260  403.184418  159.119995   \n",
       "2024-01-29  161.259995  154.839996  400.594940  408.963715  161.259995   \n",
       "2024-01-30  159.000000  153.050003  399.635986  407.835815  159.000000   \n",
       "2024-01-31  155.199997  141.800003  389.726501  396.846130  155.199997   \n",
       "\n",
       "Price                                                 High              ...  \\\n",
       "Ticker            GOOG        META        MSFT        AMZN        GOOG  ...   \n",
       "Date                                                                    ...   \n",
       "2010-01-04   15.610239         NaN   30.950001    6.830500   15.678981  ...   \n",
       "2010-01-05   15.541497         NaN   30.959999    6.774000   15.637387  ...   \n",
       "2010-01-06   15.149715         NaN   30.770000    6.736500   15.588072  ...   \n",
       "2010-01-07   14.797037         NaN   30.450001    6.616000   15.193053  ...   \n",
       "2010-01-08   14.994298         NaN   30.660000    6.684000   15.024933  ...   \n",
       "...                ...         ...         ...         ...         ...  ...   \n",
       "2024-01-25  153.639999  393.179993  404.869995  158.509995  154.759995  ...   \n",
       "2024-01-26  153.789993  394.140015  403.929993  160.720001  154.110001  ...   \n",
       "2024-01-29  154.839996  401.019989  409.720001  161.289993  155.199997  ...   \n",
       "2024-01-30  153.050003  400.059998  408.589996  161.729996  155.039993  ...   \n",
       "2024-01-31  141.800003  390.140015  397.579987  159.009995  145.589996  ...   \n",
       "\n",
       "Price              Low                    Open                          \\\n",
       "Ticker            META        MSFT        AMZN        GOOG        META   \n",
       "Date                                                                     \n",
       "2010-01-04         NaN   30.590000    6.812500   15.615220         NaN   \n",
       "2010-01-05         NaN   30.639999    6.671500   15.620949         NaN   \n",
       "2010-01-06         NaN   30.520000    6.730000   15.588072         NaN   \n",
       "2010-01-07         NaN   30.190001    6.600500   15.178109         NaN   \n",
       "2010-01-08         NaN   30.240000    6.528000   14.744733         NaN   \n",
       "...                ...         ...         ...         ...         ...   \n",
       "2024-01-25  385.660004  402.529999  156.949997  151.740005  390.170013   \n",
       "2024-01-26  391.589996  402.429993  158.419998  152.869995  394.350006   \n",
       "2024-01-29  393.100006  404.329987  159.339996  153.639999  394.989990   \n",
       "2024-01-30  399.570007  406.450012  160.699997  154.009995  403.589996   \n",
       "2024-01-31  387.100006  397.209991  157.000000  145.389999  389.000000   \n",
       "\n",
       "Price                      Volume                                   \n",
       "Ticker            MSFT       AMZN       GOOG        META      MSFT  \n",
       "Date                                                                \n",
       "2010-01-04   30.620001  151998000   78541293         NaN  38409100  \n",
       "2010-01-05   30.850000  177038000  120638494         NaN  49749600  \n",
       "2010-01-06   30.879999  143576000  159744526         NaN  58182400  \n",
       "2010-01-07   30.629999  220604000  257533695         NaN  50559700  \n",
       "2010-01-08   30.280001  196610000  189680313         NaN  51197400  \n",
       "...                ...        ...        ...         ...       ...  \n",
       "2024-01-25  404.320007   43638600   21495100  15091100.0  21021200  \n",
       "2024-01-26  404.369995   51047400   19494500  13163700.0  17803300  \n",
       "2024-01-29  406.059998   45270400   20909300  18742400.0  24510200  \n",
       "2024-01-30  412.260010   45207400   26578900  18614700.0  33477600  \n",
       "2024-01-31  406.959991   50284400   43908600  20180800.0  47871100  \n",
       "\n",
       "[3543 rows x 24 columns]"
      ]
     },
     "metadata": {},
     "output_type": "display_data"
    }
   ],
   "source": [
    "# select tickers\n",
    "tickers = [\"GOOG\", \"AMZN\", \"MSFT\", \"META\"] #, \"BRK-B\", \"IAU\", \"GOOG\", \"AMZN\", \"AAPL\", \"TSM\", \"BAC\", \"WFC\"]  #VALE, KO, JNJ, DG, DIS, SPY \n",
    "\n",
    "# date format YYYY-MM-DD\n",
    "start_date = \"2010-01-01\"\n",
    "end_date = \"2024-02-01\"\n",
    "\n",
    "# time interval to take the cotations, in this case monthly\n",
    "interval= \"1d\"\n",
    "\n",
    "stock_data = fetch_stock_data(tickers, start_date, end_date, interval)\n",
    "\n",
    "display(stock_data)"
   ]
  },
  {
   "cell_type": "code",
   "execution_count": 6,
   "id": "0d4cb0d2",
   "metadata": {},
   "outputs": [
    {
     "data": {
      "text/html": [
       "<div>\n",
       "<style scoped>\n",
       "    .dataframe tbody tr th:only-of-type {\n",
       "        vertical-align: middle;\n",
       "    }\n",
       "\n",
       "    .dataframe tbody tr th {\n",
       "        vertical-align: top;\n",
       "    }\n",
       "\n",
       "    .dataframe thead th {\n",
       "        text-align: right;\n",
       "    }\n",
       "</style>\n",
       "<table border=\"1\" class=\"dataframe\">\n",
       "  <thead>\n",
       "    <tr style=\"text-align: right;\">\n",
       "      <th>Ticker</th>\n",
       "      <th>AMZN</th>\n",
       "      <th>GOOG</th>\n",
       "      <th>META</th>\n",
       "      <th>MSFT</th>\n",
       "    </tr>\n",
       "    <tr>\n",
       "      <th>Date</th>\n",
       "      <th></th>\n",
       "      <th></th>\n",
       "      <th></th>\n",
       "      <th></th>\n",
       "    </tr>\n",
       "  </thead>\n",
       "  <tbody>\n",
       "    <tr>\n",
       "      <th>2010-01-04</th>\n",
       "      <td>6.6950</td>\n",
       "      <td>15.610239</td>\n",
       "      <td>NaN</td>\n",
       "      <td>30.950001</td>\n",
       "    </tr>\n",
       "    <tr>\n",
       "      <th>2010-01-05</th>\n",
       "      <td>6.7345</td>\n",
       "      <td>15.541497</td>\n",
       "      <td>NaN</td>\n",
       "      <td>30.959999</td>\n",
       "    </tr>\n",
       "    <tr>\n",
       "      <th>2010-01-06</th>\n",
       "      <td>6.6125</td>\n",
       "      <td>15.149715</td>\n",
       "      <td>NaN</td>\n",
       "      <td>30.770000</td>\n",
       "    </tr>\n",
       "  </tbody>\n",
       "</table>\n",
       "</div>"
      ],
      "text/plain": [
       "Ticker        AMZN       GOOG  META       MSFT\n",
       "Date                                          \n",
       "2010-01-04  6.6950  15.610239   NaN  30.950001\n",
       "2010-01-05  6.7345  15.541497   NaN  30.959999\n",
       "2010-01-06  6.6125  15.149715   NaN  30.770000"
      ]
     },
     "execution_count": 6,
     "metadata": {},
     "output_type": "execute_result"
    }
   ],
   "source": [
    "# select only the closing price\n",
    "df_close = stock_data.Close.copy()\n",
    "# df_close.info()\n",
    "df_close.head(3)"
   ]
  },
  {
   "cell_type": "code",
   "execution_count": 7,
   "id": "dadf058f-2f1f-4c8f-b105-5271ed5ef870",
   "metadata": {
    "tags": []
   },
   "outputs": [
    {
     "data": {
      "text/html": [
       "<div>\n",
       "<style scoped>\n",
       "    .dataframe tbody tr th:only-of-type {\n",
       "        vertical-align: middle;\n",
       "    }\n",
       "\n",
       "    .dataframe tbody tr th {\n",
       "        vertical-align: top;\n",
       "    }\n",
       "\n",
       "    .dataframe thead th {\n",
       "        text-align: right;\n",
       "    }\n",
       "</style>\n",
       "<table border=\"1\" class=\"dataframe\">\n",
       "  <thead>\n",
       "    <tr style=\"text-align: right;\">\n",
       "      <th>Ticker</th>\n",
       "      <th>AMZN</th>\n",
       "      <th>GOOG</th>\n",
       "      <th>META</th>\n",
       "      <th>MSFT</th>\n",
       "    </tr>\n",
       "    <tr>\n",
       "      <th>Date</th>\n",
       "      <th></th>\n",
       "      <th></th>\n",
       "      <th></th>\n",
       "      <th></th>\n",
       "    </tr>\n",
       "  </thead>\n",
       "  <tbody>\n",
       "    <tr>\n",
       "      <th>2012-05-21</th>\n",
       "      <td>0.019921</td>\n",
       "      <td>0.022835</td>\n",
       "      <td>-0.109861</td>\n",
       "      <td>0.016399</td>\n",
       "    </tr>\n",
       "    <tr>\n",
       "      <th>2012-05-22</th>\n",
       "      <td>-0.012746</td>\n",
       "      <td>-0.021674</td>\n",
       "      <td>-0.089039</td>\n",
       "      <td>0.000336</td>\n",
       "    </tr>\n",
       "    <tr>\n",
       "      <th>2012-05-23</th>\n",
       "      <td>0.009056</td>\n",
       "      <td>0.014414</td>\n",
       "      <td>0.032258</td>\n",
       "      <td>-0.021841</td>\n",
       "    </tr>\n",
       "  </tbody>\n",
       "</table>\n",
       "</div>"
      ],
      "text/plain": [
       "Ticker          AMZN      GOOG      META      MSFT\n",
       "Date                                              \n",
       "2012-05-21  0.019921  0.022835 -0.109861  0.016399\n",
       "2012-05-22 -0.012746 -0.021674 -0.089039  0.000336\n",
       "2012-05-23  0.009056  0.014414  0.032258 -0.021841"
      ]
     },
     "execution_count": 7,
     "metadata": {},
     "output_type": "execute_result"
    }
   ],
   "source": [
    "# find the \n",
    "df_daily_return = (df_close\n",
    "                   .copy()\n",
    "                   .pct_change(periods=1)\n",
    "                   .dropna()\n",
    ")\n",
    "\n",
    "# display(cov_yoy.describe())\n",
    "df_daily_return.head(3)"
   ]
  },
  {
   "cell_type": "markdown",
   "id": "0c0d9c7f",
   "metadata": {
    "tags": []
   },
   "source": [
    "## Covariance"
   ]
  },
  {
   "cell_type": "markdown",
   "id": "4d9bea34",
   "metadata": {
    "jp-MarkdownHeadingCollapsed": true,
    "tags": []
   },
   "source": [
    "### Calculation (YoY)"
   ]
  },
  {
   "cell_type": "code",
   "execution_count": 8,
   "id": "b236660f-c117-4dc2-9735-6ee28a1f37ae",
   "metadata": {
    "tags": []
   },
   "outputs": [
    {
     "data": {
      "text/html": [
       "<div>\n",
       "<style scoped>\n",
       "    .dataframe tbody tr th:only-of-type {\n",
       "        vertical-align: middle;\n",
       "    }\n",
       "\n",
       "    .dataframe tbody tr th {\n",
       "        vertical-align: top;\n",
       "    }\n",
       "\n",
       "    .dataframe thead th {\n",
       "        text-align: right;\n",
       "    }\n",
       "</style>\n",
       "<table border=\"1\" class=\"dataframe\">\n",
       "  <thead>\n",
       "    <tr style=\"text-align: right;\">\n",
       "      <th></th>\n",
       "      <th>Ticker</th>\n",
       "      <th>AMZN</th>\n",
       "      <th>GOOG</th>\n",
       "      <th>META</th>\n",
       "      <th>MSFT</th>\n",
       "    </tr>\n",
       "    <tr>\n",
       "      <th>Date</th>\n",
       "      <th>Ticker</th>\n",
       "      <th></th>\n",
       "      <th></th>\n",
       "      <th></th>\n",
       "      <th></th>\n",
       "    </tr>\n",
       "  </thead>\n",
       "  <tbody>\n",
       "    <tr>\n",
       "      <th rowspan=\"4\" valign=\"top\">2013-05-22</th>\n",
       "      <th>AMZN</th>\n",
       "      <td>0.076734</td>\n",
       "      <td>0.022707</td>\n",
       "      <td>0.011182</td>\n",
       "      <td>0.020326</td>\n",
       "    </tr>\n",
       "    <tr>\n",
       "      <th>GOOG</th>\n",
       "      <td>0.022707</td>\n",
       "      <td>0.045191</td>\n",
       "      <td>0.007205</td>\n",
       "      <td>0.018177</td>\n",
       "    </tr>\n",
       "    <tr>\n",
       "      <th>META</th>\n",
       "      <td>0.011182</td>\n",
       "      <td>0.007205</td>\n",
       "      <td>0.302401</td>\n",
       "      <td>0.002140</td>\n",
       "    </tr>\n",
       "    <tr>\n",
       "      <th>MSFT</th>\n",
       "      <td>0.020326</td>\n",
       "      <td>0.018177</td>\n",
       "      <td>0.002140</td>\n",
       "      <td>0.043017</td>\n",
       "    </tr>\n",
       "    <tr>\n",
       "      <th>2013-05-23</th>\n",
       "      <th>AMZN</th>\n",
       "      <td>0.076400</td>\n",
       "      <td>0.022351</td>\n",
       "      <td>0.013278</td>\n",
       "      <td>0.020101</td>\n",
       "    </tr>\n",
       "    <tr>\n",
       "      <th>...</th>\n",
       "      <th>...</th>\n",
       "      <td>...</td>\n",
       "      <td>...</td>\n",
       "      <td>...</td>\n",
       "      <td>...</td>\n",
       "    </tr>\n",
       "    <tr>\n",
       "      <th>2024-01-30</th>\n",
       "      <th>MSFT</th>\n",
       "      <td>0.043180</td>\n",
       "      <td>0.035750</td>\n",
       "      <td>0.052678</td>\n",
       "      <td>0.056846</td>\n",
       "    </tr>\n",
       "    <tr>\n",
       "      <th rowspan=\"4\" valign=\"top\">2024-01-31</th>\n",
       "      <th>AMZN</th>\n",
       "      <td>0.100898</td>\n",
       "      <td>0.058659</td>\n",
       "      <td>0.074353</td>\n",
       "      <td>0.043487</td>\n",
       "    </tr>\n",
       "    <tr>\n",
       "      <th>GOOG</th>\n",
       "      <td>0.058659</td>\n",
       "      <td>0.092002</td>\n",
       "      <td>0.072361</td>\n",
       "      <td>0.037240</td>\n",
       "    </tr>\n",
       "    <tr>\n",
       "      <th>META</th>\n",
       "      <td>0.074353</td>\n",
       "      <td>0.072361</td>\n",
       "      <td>0.153828</td>\n",
       "      <td>0.052677</td>\n",
       "    </tr>\n",
       "    <tr>\n",
       "      <th>MSFT</th>\n",
       "      <td>0.043487</td>\n",
       "      <td>0.037240</td>\n",
       "      <td>0.052677</td>\n",
       "      <td>0.057112</td>\n",
       "    </tr>\n",
       "  </tbody>\n",
       "</table>\n",
       "<p>10768 rows × 4 columns</p>\n",
       "</div>"
      ],
      "text/plain": [
       "Ticker                 AMZN      GOOG      META      MSFT\n",
       "Date       Ticker                                        \n",
       "2013-05-22 AMZN    0.076734  0.022707  0.011182  0.020326\n",
       "           GOOG    0.022707  0.045191  0.007205  0.018177\n",
       "           META    0.011182  0.007205  0.302401  0.002140\n",
       "           MSFT    0.020326  0.018177  0.002140  0.043017\n",
       "2013-05-23 AMZN    0.076400  0.022351  0.013278  0.020101\n",
       "...                     ...       ...       ...       ...\n",
       "2024-01-30 MSFT    0.043180  0.035750  0.052678  0.056846\n",
       "2024-01-31 AMZN    0.100898  0.058659  0.074353  0.043487\n",
       "           GOOG    0.058659  0.092002  0.072361  0.037240\n",
       "           META    0.074353  0.072361  0.153828  0.052677\n",
       "           MSFT    0.043487  0.037240  0.052677  0.057112\n",
       "\n",
       "[10768 rows x 4 columns]"
      ]
     },
     "execution_count": 8,
     "metadata": {},
     "output_type": "execute_result"
    }
   ],
   "source": [
    "# find the \n",
    "cov_yoy = (df_close\n",
    "             .copy()\n",
    "             .pct_change(periods=1)\n",
    "             .dropna()\n",
    "             .rolling(window=252)\n",
    "             .cov()\n",
    "             .dropna()\n",
    "             .apply(lambda x: 252 * x)\n",
    ")\n",
    "\n",
    "# display(cov_yoy.describe())\n",
    "cov_yoy"
   ]
  },
  {
   "cell_type": "code",
   "execution_count": 9,
   "id": "5859a792-117d-4162-9c7b-5a2ba6ee1e6b",
   "metadata": {
    "tags": []
   },
   "outputs": [
    {
     "data": {
      "text/html": [
       "<div>\n",
       "<style scoped>\n",
       "    .dataframe tbody tr th:only-of-type {\n",
       "        vertical-align: middle;\n",
       "    }\n",
       "\n",
       "    .dataframe tbody tr th {\n",
       "        vertical-align: top;\n",
       "    }\n",
       "\n",
       "    .dataframe thead th {\n",
       "        text-align: right;\n",
       "    }\n",
       "</style>\n",
       "<table border=\"1\" class=\"dataframe\">\n",
       "  <thead>\n",
       "    <tr style=\"text-align: right;\">\n",
       "      <th></th>\n",
       "      <th>Ticker</th>\n",
       "      <th>AMZN</th>\n",
       "      <th>GOOG</th>\n",
       "      <th>META</th>\n",
       "      <th>MSFT</th>\n",
       "    </tr>\n",
       "    <tr>\n",
       "      <th>Date</th>\n",
       "      <th>Ticker</th>\n",
       "      <th></th>\n",
       "      <th></th>\n",
       "      <th></th>\n",
       "      <th></th>\n",
       "    </tr>\n",
       "  </thead>\n",
       "  <tbody>\n",
       "    <tr>\n",
       "      <th>2013-05-22</th>\n",
       "      <th>GOOG</th>\n",
       "      <td>0.022707</td>\n",
       "      <td>0.045191</td>\n",
       "      <td>0.007205</td>\n",
       "      <td>0.018177</td>\n",
       "    </tr>\n",
       "    <tr>\n",
       "      <th>2013-05-23</th>\n",
       "      <th>GOOG</th>\n",
       "      <td>0.022351</td>\n",
       "      <td>0.044820</td>\n",
       "      <td>0.009558</td>\n",
       "      <td>0.017969</td>\n",
       "    </tr>\n",
       "    <tr>\n",
       "      <th>2013-05-24</th>\n",
       "      <th>GOOG</th>\n",
       "      <td>0.022046</td>\n",
       "      <td>0.044430</td>\n",
       "      <td>0.007857</td>\n",
       "      <td>0.017927</td>\n",
       "    </tr>\n",
       "  </tbody>\n",
       "</table>\n",
       "</div>"
      ],
      "text/plain": [
       "Ticker                 AMZN      GOOG      META      MSFT\n",
       "Date       Ticker                                        \n",
       "2013-05-22 GOOG    0.022707  0.045191  0.007205  0.018177\n",
       "2013-05-23 GOOG    0.022351  0.044820  0.009558  0.017969\n",
       "2013-05-24 GOOG    0.022046  0.044430  0.007857  0.017927"
      ]
     },
     "execution_count": 9,
     "metadata": {},
     "output_type": "execute_result"
    }
   ],
   "source": [
    "cov_yoy[(cov_yoy.index.get_level_values('Ticker') == tickers[0])].head(3)"
   ]
  },
  {
   "cell_type": "code",
   "execution_count": 10,
   "id": "533743c3-0691-47b5-96bd-b46c2018a786",
   "metadata": {
    "tags": []
   },
   "outputs": [],
   "source": [
    "cov11 = cov_yoy[(cov_yoy.index.get_level_values('Ticker') == tickers[0])][tickers[0]].values\n",
    "cov12 = cov_yoy[(cov_yoy.index.get_level_values('Ticker') == tickers[0])][tickers[1]].values\n",
    "# cov21 = cov12\n",
    "cov22 = cov_yoy[(cov_yoy.index.get_level_values('Ticker') == tickers[1])][tickers[1]].values"
   ]
  },
  {
   "cell_type": "code",
   "execution_count": null,
   "id": "df98ed8f-80b3-4056-b4eb-636a9e8fbab0",
   "metadata": {},
   "outputs": [],
   "source": []
  },
  {
   "cell_type": "markdown",
   "id": "11a8fd18-d984-4adf-a76c-6e0c23a68dae",
   "metadata": {
    "tags": []
   },
   "source": [
    "### Plots"
   ]
  },
  {
   "cell_type": "markdown",
   "id": "6302bb2a",
   "metadata": {
    "jp-MarkdownHeadingCollapsed": true,
    "tags": []
   },
   "source": [
    "#### Normal:"
   ]
  },
  {
   "cell_type": "code",
   "execution_count": 11,
   "id": "d6f24714",
   "metadata": {},
   "outputs": [
    {
     "data": {
      "image/png": "[encoded data removed]",
      "text/plain": [
       "<Figure size 1000x400 with 3 Axes>"
      ]
     },
     "metadata": {},
     "output_type": "display_data"
    }
   ],
   "source": [
    "# Plot the histogram of the returns_daily along with the fitted Gaussian distribution\n",
    "fig, axes = plt.subplots(nrows=1, ncols=3, figsize=(10, 4))\n",
    "\n",
    "# Fit a Gaussian distribution to the YoY covariance\n",
    "plt.subplot(1, 3, 1)\n",
    "mu, std = norm.fit(cov11)\n",
    "sns.histplot(data= cov11, bins=30, stat=\"density\", kde=True, color='lightgreen', edgecolor='red')\n",
    "\n",
    "xmin, xmax = plt.xlim()\n",
    "x = np.linspace(xmin, xmax, 100)\n",
    "p = norm.pdf(x, mu, std)\n",
    "\n",
    "plt.plot(x, p, 'k', label=\"fit-normal\", linewidth=1)\n",
    "plt.title(f\"cov({tickers[0]},{tickers[0]}) --> Fit results: mu = %.2f,  std = %.2f\" % (mu, std))\n",
    "plt.ylabel(\"Probability density function\")\n",
    "plt.xlabel(\"covariance [YoY]\")\n",
    "plt.legend()\n",
    "\n",
    "# Fit a Gaussian distribution to the YoY covariance\n",
    "plt.subplot(1, 3, 2)\n",
    "mu, std = norm.fit(cov12)\n",
    "sns.histplot(data= cov12, bins=30, stat=\"density\", kde=True, color='lightgreen', edgecolor='red')\n",
    "\n",
    "xmin, xmax = plt.xlim()\n",
    "x = np.linspace(xmin, xmax, 100)\n",
    "p = norm.pdf(x, mu, std)\n",
    "\n",
    "plt.plot(x, p, 'k', label=\"fit-normal\", linewidth=1)\n",
    "plt.title(f\"cov({tickers[0]},{tickers[1]}) --> Fit results: mu = %.2f,  std = %.2f\" % (mu, std))\n",
    "plt.ylabel(\"Probability density function\")\n",
    "plt.xlabel(\"covariance [YoY]\")\n",
    "plt.legend()\n",
    "\n",
    "# Fit a Gaussian distribution to the YoY covariance\n",
    "plt.subplot(1, 3, 3)\n",
    "mu, std = norm.fit(cov22)\n",
    "sns.histplot(data= cov22, bins=30, stat=\"density\", kde=True, color='lightgreen', edgecolor='red')\n",
    "\n",
    "xmin, xmax = plt.xlim()\n",
    "x = np.linspace(xmin, xmax, 100)\n",
    "p = norm.pdf(x, mu, std)\n",
    "\n",
    "plt.plot(x, p, 'k', label=\"fit-normal\", linewidth=1)\n",
    "plt.title(f\"cov({tickers[1]},{tickers[1]}) --> Fit results: mu = %.2f,  std = %.2f\" % (mu, std))\n",
    "plt.ylabel(\"Probability density function\")\n",
    "plt.xlabel(\"covariance [YoY]\")\n",
    "plt.legend()\n",
    "\n",
    "fig.tight_layout()\n",
    "fig.subplots_adjust(wspace=0.5)\n",
    "plt.show()"
   ]
  },
  {
   "cell_type": "markdown",
   "id": "83fe44ef",
   "metadata": {
    "jp-MarkdownHeadingCollapsed": true,
    "tags": []
   },
   "source": [
    "#### Lognormal:"
   ]
  },
  {
   "cell_type": "code",
   "execution_count": 12,
   "id": "093e78a0",
   "metadata": {},
   "outputs": [
    {
     "data": {
      "image/png": "[encoded data removed]",
      "text/plain": [
       "<Figure size 1000x400 with 3 Axes>"
      ]
     },
     "metadata": {},
     "output_type": "display_data"
    }
   ],
   "source": [
    "# Plot the histogram of the returns_daily along with the fitted Gaussian distribution\n",
    "fig, axes = plt.subplots(nrows=1, ncols=3, figsize=(10, 4))\n",
    "\n",
    "# Fit a Lognormal distribution to theYoY covariance\n",
    "plt.subplot(1, 3, 1)\n",
    "sigma, loc, scale = lognorm.fit(cov11)\n",
    "\n",
    "sns.histplot(data= cov11, bins=30, stat=\"density\", kde=True, color='lightgreen', edgecolor='red')\n",
    "xmin, xmax = plt.xlim()\n",
    "x = np.linspace(xmin, xmax, 1000)\n",
    "pdf = lognorm.pdf(x, sigma, loc= loc, scale= scale)\n",
    "\n",
    "plt.plot(x, pdf, 'k', label=\"lognormal\", linewidth=2)\n",
    "plt.title(f\"cov({tickers[0]},{tickers[0]}) --> Fit results: sigma = %.2f,  loc = %.2f, scale = %.2f\" % (sigma, loc, scale))\n",
    "plt.ylabel(\"Probability density function\")\n",
    "plt.xlabel(\"risk² [a.a.]\")\n",
    "plt.legend()\n",
    "\n",
    "\n",
    "# Fit a Lognormal distribution to theYoY covariance\n",
    "plt.subplot(1, 3, 2)\n",
    "sigma, loc, scale = lognorm.fit(cov12)\n",
    "\n",
    "sns.histplot(data= cov12, bins=30, stat=\"density\", kde=True, color='lightgreen', edgecolor='red')\n",
    "xmin, xmax = plt.xlim()\n",
    "x = np.linspace(xmin, xmax, 1000)\n",
    "pdf = lognorm.pdf(x, sigma, loc= loc, scale= scale)\n",
    "\n",
    "plt.plot(x, pdf, 'k', label=\"fit-lognormal\", linewidth=2)\n",
    "plt.title(f\"cov({tickers[0]},{tickers[1]}) --> Fit results: sigma = %.2f,  loc = %.2f, scale = %.2f\" % (sigma, loc, scale))\n",
    "plt.ylabel(\"Probability density function\")\n",
    "plt.xlabel(\"risk² [a.a.]\")\n",
    "plt.legend()\n",
    "\n",
    "# Fit a Lognormal distribution to theYoY covariance\n",
    "plt.subplot(1, 3, 3)\n",
    "sigma, loc, scale = lognorm.fit(cov22)\n",
    "\n",
    "sns.histplot(data= cov22, bins=30, stat=\"density\", kde=True, color='lightgreen', edgecolor='red')\n",
    "xmin, xmax = plt.xlim()\n",
    "x = np.linspace(xmin, xmax, 1000)\n",
    "pdf = lognorm.pdf(x, sigma, loc= loc, scale= scale)\n",
    "\n",
    "plt.plot(x, pdf, 'k', label=\"fit-lognormal\", linewidth=2)\n",
    "plt.title(f\"cov({tickers[1]},{tickers[1]}) --> Fit results: sigma = %.2f,  loc = %.2f, scale = %.2f\" % (sigma, loc, scale))\n",
    "plt.ylabel(\"Probability density function\")\n",
    "plt.xlabel(\"risk² [a.a.]\")\n",
    "plt.legend()\n",
    "\n",
    "fig.tight_layout()\n",
    "fig.subplots_adjust(wspace=0.5)\n",
    "plt.show()"
   ]
  },
  {
   "cell_type": "markdown",
   "id": "bbb59ad7-0b5c-4dab-bf87-d5b5905c9fe4",
   "metadata": {
    "jp-MarkdownHeadingCollapsed": true,
    "tags": []
   },
   "source": [
    "## Correlation"
   ]
  },
  {
   "cell_type": "markdown",
   "id": "96cf2954-4ce9-45e6-b0f8-014e9a2915f9",
   "metadata": {
    "jp-MarkdownHeadingCollapsed": true,
    "tags": []
   },
   "source": [
    "### Calculation (YoY)"
   ]
  },
  {
   "cell_type": "code",
   "execution_count": 13,
   "id": "d0041b85-4e9a-4519-8378-718c62510a04",
   "metadata": {
    "tags": []
   },
   "outputs": [
    {
     "data": {
      "text/html": [
       "<div>\n",
       "<style scoped>\n",
       "    .dataframe tbody tr th:only-of-type {\n",
       "        vertical-align: middle;\n",
       "    }\n",
       "\n",
       "    .dataframe tbody tr th {\n",
       "        vertical-align: top;\n",
       "    }\n",
       "\n",
       "    .dataframe thead th {\n",
       "        text-align: right;\n",
       "    }\n",
       "</style>\n",
       "<table border=\"1\" class=\"dataframe\">\n",
       "  <thead>\n",
       "    <tr style=\"text-align: right;\">\n",
       "      <th></th>\n",
       "      <th>Ticker</th>\n",
       "      <th>AMZN</th>\n",
       "      <th>GOOG</th>\n",
       "      <th>META</th>\n",
       "      <th>MSFT</th>\n",
       "    </tr>\n",
       "    <tr>\n",
       "      <th>Date</th>\n",
       "      <th>Ticker</th>\n",
       "      <th></th>\n",
       "      <th></th>\n",
       "      <th></th>\n",
       "      <th></th>\n",
       "    </tr>\n",
       "  </thead>\n",
       "  <tbody>\n",
       "    <tr>\n",
       "      <th rowspan=\"4\" valign=\"top\">2013-05-22</th>\n",
       "      <th>AMZN</th>\n",
       "      <td>1.000000</td>\n",
       "      <td>0.385607</td>\n",
       "      <td>0.073409</td>\n",
       "      <td>0.353780</td>\n",
       "    </tr>\n",
       "    <tr>\n",
       "      <th>GOOG</th>\n",
       "      <td>0.385607</td>\n",
       "      <td>1.000000</td>\n",
       "      <td>0.061634</td>\n",
       "      <td>0.412266</td>\n",
       "    </tr>\n",
       "    <tr>\n",
       "      <th>META</th>\n",
       "      <td>0.073409</td>\n",
       "      <td>0.061634</td>\n",
       "      <td>1.000000</td>\n",
       "      <td>0.018759</td>\n",
       "    </tr>\n",
       "    <tr>\n",
       "      <th>MSFT</th>\n",
       "      <td>0.353780</td>\n",
       "      <td>0.412266</td>\n",
       "      <td>0.018759</td>\n",
       "      <td>1.000000</td>\n",
       "    </tr>\n",
       "    <tr>\n",
       "      <th>2013-05-23</th>\n",
       "      <th>AMZN</th>\n",
       "      <td>1.000000</td>\n",
       "      <td>0.381948</td>\n",
       "      <td>0.089132</td>\n",
       "      <td>0.350842</td>\n",
       "    </tr>\n",
       "    <tr>\n",
       "      <th>...</th>\n",
       "      <th>...</th>\n",
       "      <td>...</td>\n",
       "      <td>...</td>\n",
       "      <td>...</td>\n",
       "      <td>...</td>\n",
       "    </tr>\n",
       "    <tr>\n",
       "      <th>2024-01-30</th>\n",
       "      <th>MSFT</th>\n",
       "      <td>0.571077</td>\n",
       "      <td>0.507860</td>\n",
       "      <td>0.562618</td>\n",
       "      <td>1.000000</td>\n",
       "    </tr>\n",
       "    <tr>\n",
       "      <th rowspan=\"4\" valign=\"top\">2024-01-31</th>\n",
       "      <th>AMZN</th>\n",
       "      <td>1.000000</td>\n",
       "      <td>0.608826</td>\n",
       "      <td>0.596814</td>\n",
       "      <td>0.572868</td>\n",
       "    </tr>\n",
       "    <tr>\n",
       "      <th>GOOG</th>\n",
       "      <td>0.608826</td>\n",
       "      <td>1.000000</td>\n",
       "      <td>0.608263</td>\n",
       "      <td>0.513741</td>\n",
       "    </tr>\n",
       "    <tr>\n",
       "      <th>META</th>\n",
       "      <td>0.596814</td>\n",
       "      <td>0.608263</td>\n",
       "      <td>1.000000</td>\n",
       "      <td>0.562004</td>\n",
       "    </tr>\n",
       "    <tr>\n",
       "      <th>MSFT</th>\n",
       "      <td>0.572868</td>\n",
       "      <td>0.513741</td>\n",
       "      <td>0.562004</td>\n",
       "      <td>1.000000</td>\n",
       "    </tr>\n",
       "  </tbody>\n",
       "</table>\n",
       "<p>10768 rows × 4 columns</p>\n",
       "</div>"
      ],
      "text/plain": [
       "Ticker                 AMZN      GOOG      META      MSFT\n",
       "Date       Ticker                                        \n",
       "2013-05-22 AMZN    1.000000  0.385607  0.073409  0.353780\n",
       "           GOOG    0.385607  1.000000  0.061634  0.412266\n",
       "           META    0.073409  0.061634  1.000000  0.018759\n",
       "           MSFT    0.353780  0.412266  0.018759  1.000000\n",
       "2013-05-23 AMZN    1.000000  0.381948  0.089132  0.350842\n",
       "...                     ...       ...       ...       ...\n",
       "2024-01-30 MSFT    0.571077  0.507860  0.562618  1.000000\n",
       "2024-01-31 AMZN    1.000000  0.608826  0.596814  0.572868\n",
       "           GOOG    0.608826  1.000000  0.608263  0.513741\n",
       "           META    0.596814  0.608263  1.000000  0.562004\n",
       "           MSFT    0.572868  0.513741  0.562004  1.000000\n",
       "\n",
       "[10768 rows x 4 columns]"
      ]
     },
     "execution_count": 13,
     "metadata": {},
     "output_type": "execute_result"
    }
   ],
   "source": [
    "# find the covelation yoy\n",
    "corr_yoy = (df_close\n",
    "            .copy()\n",
    "            .pct_change(periods=1)\n",
    "            .dropna()\n",
    "            .rolling(window=252)\n",
    "            .corr()\n",
    "            .dropna()\n",
    "            # .apply(lambda x: x + 1.0)\n",
    ")\n",
    "\n",
    "# display(cov_yoy.describe())\n",
    "corr_yoy"
   ]
  },
  {
   "cell_type": "code",
   "execution_count": 14,
   "id": "4797e0e4-d87d-41c5-a526-d94b553085bb",
   "metadata": {
    "tags": []
   },
   "outputs": [
    {
     "data": {
      "text/html": [
       "<div>\n",
       "<style scoped>\n",
       "    .dataframe tbody tr th:only-of-type {\n",
       "        vertical-align: middle;\n",
       "    }\n",
       "\n",
       "    .dataframe tbody tr th {\n",
       "        vertical-align: top;\n",
       "    }\n",
       "\n",
       "    .dataframe thead th {\n",
       "        text-align: right;\n",
       "    }\n",
       "</style>\n",
       "<table border=\"1\" class=\"dataframe\">\n",
       "  <thead>\n",
       "    <tr style=\"text-align: right;\">\n",
       "      <th></th>\n",
       "      <th>Ticker</th>\n",
       "      <th>AMZN</th>\n",
       "      <th>GOOG</th>\n",
       "      <th>META</th>\n",
       "      <th>MSFT</th>\n",
       "    </tr>\n",
       "    <tr>\n",
       "      <th>Date</th>\n",
       "      <th>Ticker</th>\n",
       "      <th></th>\n",
       "      <th></th>\n",
       "      <th></th>\n",
       "      <th></th>\n",
       "    </tr>\n",
       "  </thead>\n",
       "  <tbody>\n",
       "    <tr>\n",
       "      <th>2013-05-22</th>\n",
       "      <th>GOOG</th>\n",
       "      <td>0.385607</td>\n",
       "      <td>1.0</td>\n",
       "      <td>0.061634</td>\n",
       "      <td>0.412266</td>\n",
       "    </tr>\n",
       "    <tr>\n",
       "      <th>2013-05-23</th>\n",
       "      <th>GOOG</th>\n",
       "      <td>0.381948</td>\n",
       "      <td>1.0</td>\n",
       "      <td>0.083771</td>\n",
       "      <td>0.409475</td>\n",
       "    </tr>\n",
       "    <tr>\n",
       "      <th>2013-05-24</th>\n",
       "      <th>GOOG</th>\n",
       "      <td>0.378860</td>\n",
       "      <td>1.0</td>\n",
       "      <td>0.070009</td>\n",
       "      <td>0.410257</td>\n",
       "    </tr>\n",
       "  </tbody>\n",
       "</table>\n",
       "</div>"
      ],
      "text/plain": [
       "Ticker                 AMZN  GOOG      META      MSFT\n",
       "Date       Ticker                                    \n",
       "2013-05-22 GOOG    0.385607   1.0  0.061634  0.412266\n",
       "2013-05-23 GOOG    0.381948   1.0  0.083771  0.409475\n",
       "2013-05-24 GOOG    0.378860   1.0  0.070009  0.410257"
      ]
     },
     "execution_count": 14,
     "metadata": {},
     "output_type": "execute_result"
    }
   ],
   "source": [
    "corr_yoy[(corr_yoy.index.get_level_values('Ticker') == tickers[0])].head(3)"
   ]
  },
  {
   "cell_type": "code",
   "execution_count": 15,
   "id": "a208e5b7-04a0-43f0-8540-b9d3932c0cf9",
   "metadata": {
    "tags": []
   },
   "outputs": [],
   "source": [
    "corr11 = corr_yoy[(corr_yoy.index.get_level_values('Ticker') == tickers[0])][tickers[0]].values\n",
    "corr12 = corr_yoy[(corr_yoy.index.get_level_values('Ticker') == tickers[0])][tickers[1]].values\n",
    "# corr21 = corr12\n",
    "corr22 = corr_yoy[(corr_yoy.index.get_level_values('Ticker') == tickers[1])][tickers[1]].values"
   ]
  },
  {
   "cell_type": "markdown",
   "id": "6e6ec42e-6b4a-4651-80b3-d3a2f013d21a",
   "metadata": {},
   "source": [
    "### Plots"
   ]
  },
  {
   "cell_type": "markdown",
   "id": "027d9d8f-48e6-4010-a24b-16b8232e7a82",
   "metadata": {
    "jp-MarkdownHeadingCollapsed": true,
    "tags": []
   },
   "source": [
    "#### Normal:"
   ]
  },
  {
   "cell_type": "code",
   "execution_count": 16,
   "id": "4a89e28e-27ed-4424-bd4e-af29fb34f297",
   "metadata": {
    "tags": []
   },
   "outputs": [
    {
     "data": {
      "image/png": "[encoded data removed]",
      "text/plain": [
       "<Figure size 1000x400 with 3 Axes>"
      ]
     },
     "metadata": {},
     "output_type": "display_data"
    }
   ],
   "source": [
    "# Plot the histogram of the returns_daily along with the fitted Gaussian distribution\n",
    "fig, axes = plt.subplots(nrows=1, ncols=3, figsize=(10, 4))\n",
    "\n",
    "# Fit a Gaussian distribution to the YoY corrariance\n",
    "plt.subplot(1, 3, 1)\n",
    "# mu, std = norm.fit(corr11)\n",
    "# sns.histplot(data= corr11, bins=30, stat=\"density\", kde=True, color='lightgreen', edgecolor='red')\n",
    "\n",
    "# xmin, xmax = plt.xlim()\n",
    "# x = np.linspace(xmin, xmax, 100)\n",
    "# p = norm.pdf(x, mu, std)\n",
    "\n",
    "# plt.plot(x, p, 'k', label=\"fit-normal\", linewidth=1)\n",
    "# plt.title(f\"corr({tickers[0]},{tickers[0]}) --> Fit results: mu = %.2f,  std = %.2f\" % (mu, std))\n",
    "# plt.ylabel(\"Probability density function\")\n",
    "# plt.xlabel(\"correlation [YoY]\")\n",
    "# plt.legend()\n",
    "\n",
    "# Fit a Gaussian distribution to the YoY corrariance\n",
    "plt.subplot(1, 3, 2)\n",
    "mu, std = norm.fit(corr12)\n",
    "sns.histplot(data= corr12, bins=30, stat=\"density\", kde=True, color='lightgreen', edgecolor='red')\n",
    "\n",
    "xmin, xmax = plt.xlim()\n",
    "x = np.linspace(xmin, xmax, 100)\n",
    "p = norm.pdf(x, mu, std)\n",
    "\n",
    "plt.plot(x, p, 'k', label=\"fit-normal\", linewidth=1)\n",
    "plt.title(f\"corr({tickers[0]},{tickers[1]}) --> Fit results: mu = %.2f,  std = %.2f\" % (mu, std))\n",
    "plt.ylabel(\"Probability density function\")\n",
    "plt.xlabel(\"correlation [YoY]\")\n",
    "plt.legend()\n",
    "\n",
    "# Fit a Gaussian distribution to the YoY corrariance\n",
    "plt.subplot(1, 3, 3)\n",
    "# mu, std = norm.fit(corr22)\n",
    "# sns.histplot(data= corr22, bins=30, stat=\"density\", kde=True, color='lightgreen', edgecolor='red')\n",
    "\n",
    "# xmin, xmax = plt.xlim()\n",
    "# x = np.linspace(xmin, xmax, 100)\n",
    "# p = norm.pdf(x, mu, std)\n",
    "\n",
    "# plt.plot(x, p, 'k', label=\"fit-normal\", linewidth=1)\n",
    "# plt.title(f\"corr({tickers[1]},{tickers[1]}) --> Fit results: mu = %.2f,  std = %.2f\" % (mu, std))\n",
    "# plt.ylabel(\"Probability density function\")\n",
    "# plt.xlabel(\"correlation [YoY]\")\n",
    "# plt.legend()\n",
    "\n",
    "fig.tight_layout()\n",
    "fig.subplots_adjust(wspace=0.5)\n",
    "plt.show()"
   ]
  },
  {
   "cell_type": "markdown",
   "id": "0167e130-0cee-42f6-b09f-ce3f33fbf1ff",
   "metadata": {
    "jp-MarkdownHeadingCollapsed": true,
    "tags": []
   },
   "source": [
    "#### Lognormal:"
   ]
  },
  {
   "cell_type": "code",
   "execution_count": 17,
   "id": "405261ac-47a9-4299-9eee-eb3e9c6a7fad",
   "metadata": {
    "tags": []
   },
   "outputs": [
    {
     "data": {
      "image/png": "[encoded data removed]",
      "text/plain": [
       "<Figure size 1000x400 with 3 Axes>"
      ]
     },
     "metadata": {},
     "output_type": "display_data"
    }
   ],
   "source": [
    "# Plot the histogram of the returns_daily along with the fitted Gaussian distribution\n",
    "fig, axes = plt.subplots(nrows=1, ncols=3, figsize=(10, 4))\n",
    "\n",
    "# Fit a Lognormal distribution to theYoY corrariance\n",
    "plt.subplot(1, 3, 1)\n",
    "# sigma, loc, scale = lognorm.fit(corr11)\n",
    "\n",
    "# sns.histplot(data= corr11, bins=30, stat=\"density\", kde=True, color='lightgreen', edgecolor='red')\n",
    "# xmin, xmax = plt.xlim()\n",
    "# x = np.linspace(xmin, xmax, 1000)\n",
    "# pdf = lognorm.pdf(x, sigma, loc= loc, scale= scale)\n",
    "\n",
    "# plt.plot(x, pdf, 'k', label=\"lognormal\", linewidth=2)\n",
    "# plt.title(f\"corr({tickers[0]},{tickers[0]}) --> Fit results: sigma = %.2f,  loc = %.2f, scale = %.2f\" % (sigma, loc, scale))\n",
    "# plt.ylabel(\"Probability density function\")\n",
    "# plt.xlabel(\"correlation [YoY]\")\n",
    "# plt.legend()\n",
    "\n",
    "\n",
    "# Fit a Lognormal distribution to theYoY corrariance\n",
    "plt.subplot(1, 3, 2)\n",
    "sigma, loc, scale = lognorm.fit(corr12)\n",
    "\n",
    "sns.histplot(data= corr12, bins=30, stat=\"density\", kde=True, color='lightgreen', edgecolor='red')\n",
    "xmin, xmax = plt.xlim()\n",
    "x = np.linspace(xmin, xmax, 1000)\n",
    "pdf = lognorm.pdf(x, sigma, loc= loc, scale= scale)\n",
    "\n",
    "plt.plot(x, pdf, 'k', label=\"fit-lognormal\", linewidth=2)\n",
    "plt.title(f\"corr({tickers[0]},{tickers[1]}) --> Fit results: sigma = %.2f,  loc = %.2f, scale = %.2f\" % (sigma, loc, scale))\n",
    "plt.ylabel(\"Probability density function\")\n",
    "plt.xlabel(\"correlation [YoY]\")\n",
    "plt.legend()\n",
    "\n",
    "# Fit a Lognormal distribution to theYoY corrariance\n",
    "plt.subplot(1, 3, 3)\n",
    "# sigma, loc, scale = lognorm.fit(corr22)\n",
    "\n",
    "# sns.histplot(data= corr22, bins=30, stat=\"density\", kde=True, color='lightgreen', edgecolor='red')\n",
    "# xmin, xmax = plt.xlim()\n",
    "# x = np.linspace(xmin, xmax, 1000)\n",
    "# pdf = lognorm.pdf(x, sigma, loc= loc, scale= scale)\n",
    "\n",
    "# plt.plot(x, pdf, 'k', label=\"fit-lognormal\", linewidth=2)\n",
    "# plt.title(f\"corr({tickers[1]},{tickers[1]}) --> Fit results: sigma = %.2f,  loc = %.2f, scale = %.2f\" % (sigma, loc, scale))\n",
    "# plt.ylabel(\"Probability density function\")\n",
    "# plt.xlabel(\"correlation [YoY]\")\n",
    "# plt.legend()\n",
    "\n",
    "fig.tight_layout()\n",
    "fig.subplots_adjust(wspace=0.5)\n",
    "plt.show()"
   ]
  },
  {
   "cell_type": "code",
   "execution_count": null,
   "id": "eb375563-0652-4c75-9bf8-89832134be47",
   "metadata": {},
   "outputs": [],
   "source": []
  },
  {
   "cell_type": "code",
   "execution_count": null,
   "id": "6a2eaa03-3b7f-4b85-90ee-2e505a32917b",
   "metadata": {},
   "outputs": [],
   "source": []
  },
  {
   "cell_type": "markdown",
   "id": "07e46ae0-2b2f-466d-86ed-67e3738f4b68",
   "metadata": {
    "tags": []
   },
   "source": [
    "## Monte carlo simulation"
   ]
  },
  {
   "cell_type": "markdown",
   "id": "c9479534-7486-4f50-8a34-8b1d937d68fe",
   "metadata": {
    "tags": []
   },
   "source": [
    "### Equations:\n",
    "<br>\n",
    "\n",
    "- **Portfolio Return**:\n",
    "<br>\n",
    "$$ \\large R_P = {\\omega}^T \\cdot R $$\n",
    "<br>\n",
    "with $R_P$ being the return of the portfolio, $\\omega$ the weights and $R$ the returns of the assets. Each one are given by:\n",
    "<br><br>\n",
    "\n",
    "<table>\n",
    "  <tr>\n",
    "    <td>\n",
    "      $$\n",
    "        \\large{\\omega} = \\small \\begin{bmatrix}\n",
    "                {\\omega}_A \\\\\n",
    "                {\\omega}_B \\\\\n",
    "                {\\omega}_C \\\\\n",
    "        \\end{bmatrix},\n",
    "      $$\n",
    "    </td>\n",
    "    <td>\n",
    "      and\n",
    "    </td>\n",
    "    <td>\n",
    "    $$\n",
    "        \\large{R} = \\small \\begin{bmatrix}\n",
    "                R_A \\\\\n",
    "                R_B \\\\\n",
    "                R_C \\\\\n",
    "        \\end{bmatrix}.\n",
    "    $$\n",
    "    </td>\n",
    "  </tr>\n",
    "</table>\n",
    "\n",
    "<br>\n",
    "\n",
    "- **Portfolio Risk**: \n",
    "<br>\n",
    "$$ \\large{{\\sigma}^2_P} = {\\omega}^T \\cdot \\Sigma \\cdot \\omega $$\n",
    "<br>\n",
    "in wich ${{\\sigma}^2_P}$ is the variance of the portfolio and $\\Sigma$ is the covariance matrix of the assets. The covariance matrix is given by:\n",
    "<br>\n",
    "<br>\n",
    "$$ \\large{\\Sigma} = \\small \\begin{bmatrix}\n",
    "                {{\\sigma}^2_A} & cov(A,B) & cov(A,C) \\\\\n",
    "                cov(A,B) & {{\\sigma}^2_B} & cov(B,C) \\\\\n",
    "                cov(A,C) & cov(B,C) & {{\\sigma}^2_C} \\\\\n",
    "            \\end{bmatrix}.\n",
    "$$\n",
    "<br>\n",
    "<br>\n",
    "The weight matrix ${\\omega}$ have dimensios of $({n}_{stocks}, {n}_{samples})$, with ${n}_{stocks}$ being the number of stocks in the portfolio and ${n}_{samples}$ the number of samples for data simulation. So, the weight matrix is defined as:\n",
    "<br>\n",
    "<br>\n",
    "$$ \\large{\\omega} = \\small \\begin{bmatrix}\n",
    "                                {{\\omega}^{(1)}_1} & {{\\omega}^{(1)}_2} & {{\\omega}^{(1)}_3} & \\cdot \\cdot \\cdot & {{\\omega}^{(1)}_{n_{samples}}} \\\\\n",
    "                                {{\\omega}^{(2)}_1} & {{\\omega}^{(2)}_2} & {{\\omega}^{(2)}_3} & \\cdot \\cdot \\cdot & {{\\omega}^{(2)}_{n_{samples}}} \\\\\n",
    "                                {{\\omega}^{(3)}_1} & {{\\omega}^{(3)}_2} & {{\\omega}^{(3)}_3} & \\cdot \\cdot \\cdot & {{\\omega}^{(3)}_{n_{samples}}} \\\\\n",
    "                                \\cdot              &      \\cdot         &         \\cdot      &         \\cdot     &            \\cdot                \\\\\n",
    "                                {{\\omega}^{(n_{stocks})}_1} & {{\\omega}^{(n_{stocks})}_2} & {{\\omega}^{(n_{stocks})}_3} & \\cdot \\cdot \\cdot & {{\\omega}^{(n_{stocks})}_{n_{samples}}} \\\\\n",
    "                    \\end{bmatrix}.\n",
    "$$\n",
    "<br>\n"
   ]
  },
  {
   "cell_type": "markdown",
   "id": "4fd36a0e-f3c9-4597-bad2-134ebbd1cd64",
   "metadata": {},
   "source": [
    "## Generate samples from distributions models - Covariance"
   ]
  },
  {
   "cell_type": "markdown",
   "id": "14717870-b7c7-412b-9c79-3b23b46c0be4",
   "metadata": {
    "jp-MarkdownHeadingCollapsed": true,
    "tags": []
   },
   "source": [
    "#### Cov pairs"
   ]
  },
  {
   "cell_type": "code",
   "execution_count": 18,
   "id": "840f91ba-8fc3-486c-b1f1-02ecd0d17c40",
   "metadata": {
    "tags": []
   },
   "outputs": [],
   "source": [
    "# Number of samples\n",
    "num_samples = 1_000"
   ]
  },
  {
   "cell_type": "code",
   "execution_count": 19,
   "id": "9487e4c9-9f9f-4149-9cb7-cb3d2a485725",
   "metadata": {
    "tags": []
   },
   "outputs": [],
   "source": [
    "# Generate all pairs of assets for covariance matrix\n",
    "def generate_cov_pairs():    \n",
    "    ticker_pairs1 = [(tickers[i], tickers[j]) for i in range(len(tickers)) for j in range(i, len(tickers))]\n",
    "    ticker_pairs2 = [(j,i) for i,j in ticker_pairs1]\n",
    "    pairs = set(ticker_pairs1).union(set(ticker_pairs2))\n",
    "    \n",
    "    ticker_map = dict(zip(tickers, range(0, len(tickers))))\n",
    "    \n",
    "    return pairs, ticker_map\n",
    "\n",
    "cov_pairs, ticker_map = generate_cov_pairs()"
   ]
  },
  {
   "cell_type": "markdown",
   "id": "38b21f7f-f0f8-46f5-a9b9-c4863f2871cb",
   "metadata": {
    "jp-MarkdownHeadingCollapsed": true,
    "tags": []
   },
   "source": [
    "#### Cov fitting params"
   ]
  },
  {
   "cell_type": "code",
   "execution_count": 20,
   "id": "51797b0d-431b-41a7-aa8d-e06cf98840b0",
   "metadata": {},
   "outputs": [
    {
     "name": "stderr",
     "output_type": "stream",
     "text": [
      "C:\\Users\\DELL\\anaconda3\\Lib\\site-packages\\scipy\\stats\\_continuous_distns.py:6111: RuntimeWarning: invalid value encountered in log\n",
      "  lndata = np.log(data - loc)\n",
      "C:\\Users\\DELL\\anaconda3\\Lib\\site-packages\\scipy\\stats\\_continuous_distns.py:6111: RuntimeWarning: invalid value encountered in log\n",
      "  lndata = np.log(data - loc)\n"
     ]
    }
   ],
   "source": [
    "# Empty dict to receive the parameters\n",
    "cov_fitting_params = {}\n",
    "\n",
    "for i, j in cov_pairs:\n",
    "\n",
    "    if i == j:\n",
    "        \n",
    "        df = (df_daily_return[[i]]\n",
    "              .copy()\n",
    "              .rolling(window=252)\n",
    "              .var()\n",
    "              .dropna()\n",
    "              .apply(lambda x: 252 * x)\n",
    "            )\n",
    "        \n",
    "        sigma, loc, scale = lognorm.fit(df)\n",
    "        cov_fitting_params[(i,j)] = {\"sigma\": sigma, \"loc\": loc, \"scale\": scale}\n",
    "\n",
    "    else:\n",
    "        \n",
    "        df = (df_daily_return[[i,j]]\n",
    "              .copy()\n",
    "              .rolling(window=252)\n",
    "              .cov()\n",
    "              .dropna()\n",
    "              .apply(lambda x: 252 * x)\n",
    "            )\n",
    "    \n",
    "        cov_ij = df[(df.index.get_level_values('Ticker') == i)][j]\n",
    "    \n",
    "        sigma, loc, scale = lognorm.fit(cov_ij)    \n",
    "        cov_fitting_params[(i,j)] = {\"sigma\": sigma, \"loc\": loc, \"scale\": scale}\n",
    "    \n",
    "# cov_fitting_params\n"
   ]
  },
  {
   "cell_type": "markdown",
   "id": "4881362b-c3a8-438a-abc4-80d67c0cf5f5",
   "metadata": {
    "jp-MarkdownHeadingCollapsed": true,
    "tags": []
   },
   "source": [
    "#### Cov samples"
   ]
  },
  {
   "cell_type": "code",
   "execution_count": 21,
   "id": "f620185d-4b33-4811-80a5-a60bb7f48a09",
   "metadata": {},
   "outputs": [],
   "source": [
    "def calculate_cov_samples(cvp, num_samples=1_000):\n",
    "    sigma   = cov_fitting_params[cvp][\"sigma\"]\n",
    "    loc     = cov_fitting_params[cvp][\"loc\"]\n",
    "    scale   = cov_fitting_params[cvp][\"scale\"]\n",
    "    samples = lognorm.rvs(sigma, loc=loc, scale=scale, size=num_samples, random_state=42)\n",
    "    return samples"
   ]
  },
  {
   "cell_type": "code",
   "execution_count": 22,
   "id": "89efe5a9-9e01-46ba-bb11-7f01810503ca",
   "metadata": {},
   "outputs": [],
   "source": [
    "# Defining return dict to receive the samples from distributions models builted with their respective parameters\n",
    "cov_samples_lognormal = { cvp: calculate_cov_samples(cvp, num_samples) for cvp in cov_pairs }\n",
    "\n",
    "# Reshaping from (num_samples,) --> (num_samples, 1, 1)\n",
    "cov_samples_reshaped  = { cvp: cov_samples_lognormal[cvp].reshape(num_samples, 1, 1) for cvp in cov_samples_lognormal.keys() }\n",
    "\n",
    "# Indexes index array to keys with respective samples, ex.: (BRK-B, IAU) --> (0, 1) \n",
    "cov_samples_mapped     = {(ticker_map[i], ticker_map[j]): cov_samples_reshaped[(i,j)] for i, j in cov_samples_reshaped.keys() } \n"
   ]
  },
  {
   "cell_type": "markdown",
   "id": "d4cca2ff-43ca-4a59-8ba1-e3a05fd643a9",
   "metadata": {
    "jp-MarkdownHeadingCollapsed": true,
    "tags": []
   },
   "source": [
    "## Build Cov matrix"
   ]
  },
  {
   "cell_type": "code",
   "execution_count": 23,
   "id": "3ffa37bb-63db-43e1-ac2f-38bb70aca5d9",
   "metadata": {
    "tags": []
   },
   "outputs": [],
   "source": [
    "# Create empty array with the final shape\n",
    "cov_matrix = np.zeros((num_samples, len(tickers), len(tickers)), dtype=np.float64)\n",
    "\n",
    "# Map the values in the dictionary to the new array\n",
    "for (i, j), arr in cov_samples_mapped.items():    \n",
    "    cov_matrix[:, i, j] = arr[:, 0, 0]\n"
   ]
  },
  {
   "cell_type": "code",
   "execution_count": 24,
   "id": "0036890e-44c6-4852-97d9-f86237e81d86",
   "metadata": {},
   "outputs": [
    {
     "data": {
      "text/plain": [
       "(1000, 4, 4)"
      ]
     },
     "execution_count": 24,
     "metadata": {},
     "output_type": "execute_result"
    }
   ],
   "source": [
    "cov_matrix.shape"
   ]
  },
  {
   "cell_type": "markdown",
   "id": "548a126c-8e7f-4e2a-a1e8-77f19e7dec82",
   "metadata": {
    "jp-MarkdownHeadingCollapsed": true,
    "tags": []
   },
   "source": [
    "## Generate weights"
   ]
  },
  {
   "cell_type": "code",
   "execution_count": 25,
   "id": "7ba4a792-7c4e-4dd1-b363-fe3762fa8d28",
   "metadata": {},
   "outputs": [],
   "source": [
    "def make_wight_matrix(n_tickers, n_samples=1000):\n",
    "    rand_values = uniform.rvs(size= int(n_tickers * n_samples)).reshape((n_tickers, n_samples))\n",
    "    normalized_values = rand_values / rand_values.sum(axis=0, keepdims=True)\n",
    "    return normalized_values\n",
    "\n",
    "# Matrix of the weights\n",
    "weight_matrix = make_wight_matrix(len(tickers), num_samples)\n"
   ]
  },
  {
   "cell_type": "code",
   "execution_count": 26,
   "id": "77701b60-42e7-4abb-a3dc-7ca29fce411c",
   "metadata": {},
   "outputs": [
    {
     "data": {
      "text/plain": [
       "(4, 1000)"
      ]
     },
     "execution_count": 26,
     "metadata": {},
     "output_type": "execute_result"
    }
   ],
   "source": [
    "weight_matrix.shape"
   ]
  },
  {
   "cell_type": "markdown",
   "id": "c56d8da8-128b-4340-9043-ee4c6184baac",
   "metadata": {},
   "source": [
    "## Build Risk Matrix"
   ]
  },
  {
   "cell_type": "code",
   "execution_count": 27,
   "id": "e8e0f18d-3c75-42dc-b4b2-8906fc67fa38",
   "metadata": {},
   "outputs": [
    {
     "name": "stdout",
     "output_type": "stream",
     "text": [
      "CPU times: total: 41.7 s\n",
      "Wall time: 55.3 s\n"
     ]
    }
   ],
   "source": [
    "%time risk_total_matrix = np.dot( np.dot( weight_matrix.T, cov_matrix),  weight_matrix)\n",
    "\n",
    "# Initialize risk_matrix with zeros of shape (num_samples, num_samples)\n",
    "risk_matrix = np.zeros((num_samples, num_samples))\n",
    "\n",
    "# Filter only columns with the risks os Markowitz\n",
    "for i in range(num_samples):\n",
    "    risk_matrix[:, i] = risk_total_matrix[i, :, i]\n",
    "\n"
   ]
  },
  {
   "cell_type": "code",
   "execution_count": 28,
   "id": "b23ac11d-a7c1-4d1c-8b27-a36922627145",
   "metadata": {},
   "outputs": [
    {
     "data": {
      "text/plain": [
       "(1000, 1000)"
      ]
     },
     "execution_count": 28,
     "metadata": {},
     "output_type": "execute_result"
    }
   ],
   "source": [
    "risk_matrix.shape"
   ]
  },
  {
   "cell_type": "code",
   "execution_count": 29,
   "id": "bf746563-39f1-494c-82fe-62447bfa3d51",
   "metadata": {
    "tags": []
   },
   "outputs": [],
   "source": [
    "# %time a = np.dot( np.dot( weight_matrix.T, cov_matrix),  weight_matrix)"
   ]
  },
  {
   "cell_type": "code",
   "execution_count": 30,
   "id": "d44a8c5e-5c91-465e-86f0-440edb445c67",
   "metadata": {
    "tags": []
   },
   "outputs": [
    {
     "data": {
      "image/png": "[encoded data removed]",
      "text/plain": [
       "<Figure size 640x480 with 1 Axes>"
      ]
     },
     "metadata": {},
     "output_type": "display_data"
    }
   ],
   "source": [
    "# Fit a Lognormal distribution to the returns_daily (actually, the pricing ratio Pn+12/Pn)\n",
    "risk_reshaped = risk_matrix.reshape(-1)\n",
    "data = np.sqrt(risk_reshaped[risk_reshaped >= 0])\n",
    "# sigma, loc, scale = lognorm.fit(data)\n",
    "\n",
    "sns.histplot(data= data, bins=50, stat=\"density\", kde=True, color='lightgreen', edgecolor='red', label=f\"Assets: {tickers}\")\n",
    "# xmin, xmax = plt.xlim()\n",
    "# x = np.linspace(xmin, xmax, 1000)\n",
    "# pdf = lognorm.pdf(x, sigma, loc= loc, scale= scale)\n",
    "\n",
    "# plt.plot(x, pdf, 'k', label=\"lognormal\", linewidth=2)\n",
    "# plt.title(f\"Portfolio {tickers} --> Fit results: sigma = %.2f,  loc = %.2f, scale = %.2f\" % (sigma, loc, scale))\n",
    "threshold = 0.2\n",
    "risk_threshold = np.count_nonzero(data > threshold) / np.max(data.shape)\n",
    "\n",
    "plt.title(f\"Portfolio Risk - Prob(risk >= {threshold}) = {int(100 * risk_threshold)}.0%\")\n",
    "plt.ylabel(\"Probability density function\")\n",
    "plt.xlabel(\"risk [a.a.]\")\n",
    "plt.legend()\n",
    "plt.show()"
   ]
  },
  {
   "cell_type": "markdown",
   "id": "863eca7b-966d-4a49-b0f0-2b5c6f7cc424",
   "metadata": {
    "tags": []
   },
   "source": [
    "#### Analise results"
   ]
  },
  {
   "cell_type": "code",
   "execution_count": 31,
   "id": "af0223f3-107a-4a79-864d-a023285aff93",
   "metadata": {
    "tags": []
   },
   "outputs": [],
   "source": [
    "## MAP the final values to source values in their respective arrays:\n",
    "# risk_matrix[i, j] == risk_total_matrix[j, i, j]\n",
    "# risk_total_matrix[j, i, j] == interm_matrix[j, i, :]  *  weight_matrix[:, j]\n",
    "# interm_matrix[j, i, :] == weight_matrix.T[j, :]  *  cov_matrix[ i, :, :]"
   ]
  },
  {
   "cell_type": "code",
   "execution_count": 32,
   "id": "9ca52c6d-549f-4c87-aee5-cb7f71f512e1",
   "metadata": {
    "tags": []
   },
   "outputs": [
    {
     "name": "stdout",
     "output_type": "stream",
     "text": [
      "Coordinates of the minimum value: 262 620\n",
      "Minimum value:  0.002200497591397292\n"
     ]
    }
   ],
   "source": [
    "# Find the coordinates (indices) of the minimum value\n",
    "i, j = np.unravel_index(np.argmin(risk_matrix), risk_matrix.shape)\n",
    "\n",
    "# Print the coordinates\n",
    "print(\"Coordinates of the minimum value:\", i, j)\n",
    "print(\"Minimum value: \", risk_total_matrix[j, i, j])"
   ]
  },
  {
   "cell_type": "code",
   "execution_count": 33,
   "id": "248a2177-d01a-4fad-a0fa-17895b8de4fd",
   "metadata": {
    "tags": []
   },
   "outputs": [
    {
     "data": {
      "text/plain": [
       "array([[0.01324627, 0.04322117, 0.35840803, 0.58512453]])"
      ]
     },
     "execution_count": 33,
     "metadata": {},
     "output_type": "execute_result"
    }
   ],
   "source": [
    "w_T = weight_matrix.T[j, :].reshape(1, 4)\n",
    "w_T"
   ]
  },
  {
   "cell_type": "code",
   "execution_count": 34,
   "id": "d22363cd-b86f-47ff-bce5-f226ea0e9c37",
   "metadata": {
    "tags": []
   },
   "outputs": [
    {
     "data": {
      "text/plain": [
       "array([[ 0.01171388,  0.01125299,  0.01086534, -0.00093099],\n",
       "       [ 0.01125299,  0.01621579,  0.0066812 ,  0.00446313],\n",
       "       [ 0.01086534,  0.0066812 ,  0.01279047, -0.00382488],\n",
       "       [-0.00093099,  0.00446313, -0.00382488,  0.00465878]])"
      ]
     },
     "execution_count": 34,
     "metadata": {},
     "output_type": "execute_result"
    }
   ],
   "source": [
    "cov = cov_matrix[ i, :, :].reshape(4, 4)\n",
    "cov"
   ]
  },
  {
   "cell_type": "code",
   "execution_count": 35,
   "id": "d4b5342e-7303-43d5-98eb-154e63eb3dce",
   "metadata": {
    "tags": []
   },
   "outputs": [
    {
     "data": {
      "text/plain": [
       "array([[0.00399101, 0.00585601, 0.00277887, 0.00153567]])"
      ]
     },
     "execution_count": 35,
     "metadata": {},
     "output_type": "execute_result"
    }
   ],
   "source": [
    "int_matrix = w_T.dot(cov)\n",
    "int_matrix"
   ]
  },
  {
   "cell_type": "code",
   "execution_count": 36,
   "id": "9d0c6e43-22f6-4252-b3fb-0e88c9f97261",
   "metadata": {
    "tags": []
   },
   "outputs": [
    {
     "data": {
      "text/plain": [
       "array([[0.01324627],\n",
       "       [0.04322117],\n",
       "       [0.35840803],\n",
       "       [0.58512453]])"
      ]
     },
     "execution_count": 36,
     "metadata": {},
     "output_type": "execute_result"
    }
   ],
   "source": [
    "w = weight_matrix[:, j].reshape(4, 1)\n",
    "w"
   ]
  },
  {
   "cell_type": "code",
   "execution_count": 37,
   "id": "8dbefba3-d9b8-4bca-9bf3-585aa7a4199b",
   "metadata": {
    "tags": []
   },
   "outputs": [
    {
     "data": {
      "text/plain": [
       "array([[0.0022005]])"
      ]
     },
     "execution_count": 37,
     "metadata": {},
     "output_type": "execute_result"
    }
   ],
   "source": [
    "risk_final = int_matrix.dot(w)\n",
    "risk_final"
   ]
  },
  {
   "cell_type": "code",
   "execution_count": null,
   "id": "5e471689-54b5-4fb2-9c23-14a60dd01c9c",
   "metadata": {},
   "outputs": [],
   "source": []
  },
  {
   "cell_type": "code",
   "execution_count": null,
   "id": "345da523-cc48-4ef9-8318-af2707208878",
   "metadata": {},
   "outputs": [],
   "source": []
  },
  {
   "cell_type": "code",
   "execution_count": null,
   "id": "71f76298-14f5-46ac-ae73-4fe6e353bf49",
   "metadata": {},
   "outputs": [],
   "source": []
  },
  {
   "cell_type": "code",
   "execution_count": null,
   "id": "098e6ba5-501f-480a-add2-0d2b2dfee55b",
   "metadata": {},
   "outputs": [],
   "source": []
  }
 ],
 "metadata": {
  "kernelspec": {
   "display_name": "Python 3 (ipykernel)",
   "language": "python",
   "name": "python3"
  },
  "language_info": {
   "codemirror_mode": {
    "name": "ipython",
    "version": 3
   },
   "file_extension": ".py",
   "mimetype": "text/x-python",
   "name": "python",
   "nbconvert_exporter": "python",
   "pygments_lexer": "ipython3",
   "version": "3.11.5"
  },
  "toc-showtags": false
 },
 "nbformat": 4,
 "nbformat_minor": 5
}
