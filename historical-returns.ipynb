{
 "cells": [
  {
   "cell_type": "markdown",
   "id": "99812ce1",
   "metadata": {
    "tags": []
   },
   "source": [
    "## Import libraries"
   ]
  },
  {
   "cell_type": "code",
   "execution_count": 1,
   "id": "45cb3566",
   "metadata": {},
   "outputs": [],
   "source": [
    "import pandas as pd\n",
    "import numpy as np\n",
    "import matplotlib.pyplot as plt\n",
    "import seaborn as sns\n",
    "import yfinance as yf\n",
    "from scipy.stats import norm, lognorm, uniform"
   ]
  },
  {
   "cell_type": "code",
   "execution_count": 2,
   "id": "9b15e74b",
   "metadata": {},
   "outputs": [
    {
     "name": "stdout",
     "output_type": "stream",
     "text": [
      "Yfinance version:  0.2.37\n"
     ]
    }
   ],
   "source": [
    "print(\"Yfinance version: \" , yf.__version__)"
   ]
  },
  {
   "cell_type": "code",
   "execution_count": 3,
   "id": "a2172057-48b5-4a35-a2e1-d74bde21f569",
   "metadata": {
    "tags": []
   },
   "outputs": [],
   "source": [
    "# Set default parameters for plt.title()\n",
    "plt.rcParams['axes.titlepad'] = 12  # Set padding around the title\n",
    "plt.rcParams['axes.titleweight'] = 'normal'  # Set title font size\n",
    "plt.rcParams['axes.titlesize'] = 9  # Set title font size"
   ]
  },
  {
   "cell_type": "markdown",
   "id": "90a60dac",
   "metadata": {
    "jp-MarkdownHeadingCollapsed": true,
    "tags": []
   },
   "source": [
    "## Fetch cotation data"
   ]
  },
  {
   "cell_type": "code",
   "execution_count": 4,
   "id": "2be220cb",
   "metadata": {},
   "outputs": [],
   "source": [
    "def fetch_stock_data(tickers, start_date, end_date, interval):\n",
    "    data = yf.download(tickers, start=start_date, end=end_date, interval=interval)\n",
    "    return data"
   ]
  },
  {
   "cell_type": "code",
   "execution_count": 5,
   "id": "b158dd00",
   "metadata": {},
   "outputs": [
    {
     "name": "stderr",
     "output_type": "stream",
     "text": [
      "[*********************100%%**********************]  8 of 8 completed\n"
     ]
    },
    {
     "data": {
      "text/html": [
       "<div>\n",
       "<style scoped>\n",
       "    .dataframe tbody tr th:only-of-type {\n",
       "        vertical-align: middle;\n",
       "    }\n",
       "\n",
       "    .dataframe tbody tr th {\n",
       "        vertical-align: top;\n",
       "    }\n",
       "\n",
       "    .dataframe thead tr th {\n",
       "        text-align: left;\n",
       "    }\n",
       "\n",
       "    .dataframe thead tr:last-of-type th {\n",
       "        text-align: right;\n",
       "    }\n",
       "</style>\n",
       "<table border=\"1\" class=\"dataframe\">\n",
       "  <thead>\n",
       "    <tr>\n",
       "      <th>Price</th>\n",
       "      <th colspan=\"8\" halign=\"left\">Adj Close</th>\n",
       "      <th colspan=\"2\" halign=\"left\">Close</th>\n",
       "      <th>...</th>\n",
       "      <th colspan=\"2\" halign=\"left\">Open</th>\n",
       "      <th colspan=\"8\" halign=\"left\">Volume</th>\n",
       "    </tr>\n",
       "    <tr>\n",
       "      <th>Ticker</th>\n",
       "      <th>BRK-B</th>\n",
       "      <th>DG</th>\n",
       "      <th>DIS</th>\n",
       "      <th>GOOG</th>\n",
       "      <th>IAU</th>\n",
       "      <th>JNJ</th>\n",
       "      <th>KO</th>\n",
       "      <th>MSFT</th>\n",
       "      <th>BRK-B</th>\n",
       "      <th>DG</th>\n",
       "      <th>...</th>\n",
       "      <th>KO</th>\n",
       "      <th>MSFT</th>\n",
       "      <th>BRK-B</th>\n",
       "      <th>DG</th>\n",
       "      <th>DIS</th>\n",
       "      <th>GOOG</th>\n",
       "      <th>IAU</th>\n",
       "      <th>JNJ</th>\n",
       "      <th>KO</th>\n",
       "      <th>MSFT</th>\n",
       "    </tr>\n",
       "    <tr>\n",
       "      <th>Date</th>\n",
       "      <th></th>\n",
       "      <th></th>\n",
       "      <th></th>\n",
       "      <th></th>\n",
       "      <th></th>\n",
       "      <th></th>\n",
       "      <th></th>\n",
       "      <th></th>\n",
       "      <th></th>\n",
       "      <th></th>\n",
       "      <th></th>\n",
       "      <th></th>\n",
       "      <th></th>\n",
       "      <th></th>\n",
       "      <th></th>\n",
       "      <th></th>\n",
       "      <th></th>\n",
       "      <th></th>\n",
       "      <th></th>\n",
       "      <th></th>\n",
       "      <th></th>\n",
       "    </tr>\n",
       "  </thead>\n",
       "  <tbody>\n",
       "    <tr>\n",
       "      <th>2010-01-04</th>\n",
       "      <td>66.220001</td>\n",
       "      <td>20.905287</td>\n",
       "      <td>27.843178</td>\n",
       "      <td>15.610239</td>\n",
       "      <td>21.978001</td>\n",
       "      <td>42.650623</td>\n",
       "      <td>18.498018</td>\n",
       "      <td>23.431587</td>\n",
       "      <td>66.220001</td>\n",
       "      <td>23.080000</td>\n",
       "      <td>...</td>\n",
       "      <td>28.580000</td>\n",
       "      <td>30.620001</td>\n",
       "      <td>1575000</td>\n",
       "      <td>437200</td>\n",
       "      <td>13700400</td>\n",
       "      <td>78541293</td>\n",
       "      <td>1185000</td>\n",
       "      <td>9506200</td>\n",
       "      <td>13870400</td>\n",
       "      <td>38409100</td>\n",
       "    </tr>\n",
       "    <tr>\n",
       "      <th>2010-01-05</th>\n",
       "      <td>66.540001</td>\n",
       "      <td>21.068327</td>\n",
       "      <td>27.773716</td>\n",
       "      <td>15.541497</td>\n",
       "      <td>21.954000</td>\n",
       "      <td>42.156075</td>\n",
       "      <td>18.274248</td>\n",
       "      <td>23.439161</td>\n",
       "      <td>66.540001</td>\n",
       "      <td>23.260000</td>\n",
       "      <td>...</td>\n",
       "      <td>28.424999</td>\n",
       "      <td>30.850000</td>\n",
       "      <td>1310000</td>\n",
       "      <td>283600</td>\n",
       "      <td>10307700</td>\n",
       "      <td>120638494</td>\n",
       "      <td>936000</td>\n",
       "      <td>10673100</td>\n",
       "      <td>23172400</td>\n",
       "      <td>49749600</td>\n",
       "    </tr>\n",
       "    <tr>\n",
       "      <th>2010-01-06</th>\n",
       "      <td>66.199997</td>\n",
       "      <td>21.358173</td>\n",
       "      <td>27.626125</td>\n",
       "      <td>15.149715</td>\n",
       "      <td>22.326000</td>\n",
       "      <td>42.498962</td>\n",
       "      <td>18.267769</td>\n",
       "      <td>23.295309</td>\n",
       "      <td>66.199997</td>\n",
       "      <td>23.580000</td>\n",
       "      <td>...</td>\n",
       "      <td>28.174999</td>\n",
       "      <td>30.879999</td>\n",
       "      <td>1760000</td>\n",
       "      <td>968100</td>\n",
       "      <td>10709500</td>\n",
       "      <td>159744526</td>\n",
       "      <td>1091000</td>\n",
       "      <td>13171500</td>\n",
       "      <td>19264600</td>\n",
       "      <td>58182400</td>\n",
       "    </tr>\n",
       "    <tr>\n",
       "      <th>2010-01-07</th>\n",
       "      <td>66.459999</td>\n",
       "      <td>21.503090</td>\n",
       "      <td>27.634809</td>\n",
       "      <td>14.797037</td>\n",
       "      <td>22.181999</td>\n",
       "      <td>42.195644</td>\n",
       "      <td>18.222361</td>\n",
       "      <td>23.053047</td>\n",
       "      <td>66.459999</td>\n",
       "      <td>23.740000</td>\n",
       "      <td>...</td>\n",
       "      <td>28.165001</td>\n",
       "      <td>30.629999</td>\n",
       "      <td>1505000</td>\n",
       "      <td>360700</td>\n",
       "      <td>8202100</td>\n",
       "      <td>257533695</td>\n",
       "      <td>811500</td>\n",
       "      <td>10901600</td>\n",
       "      <td>13234600</td>\n",
       "      <td>50559700</td>\n",
       "    </tr>\n",
       "    <tr>\n",
       "      <th>2010-01-08</th>\n",
       "      <td>66.440002</td>\n",
       "      <td>21.620846</td>\n",
       "      <td>27.678217</td>\n",
       "      <td>14.994298</td>\n",
       "      <td>22.290001</td>\n",
       "      <td>42.340714</td>\n",
       "      <td>17.885090</td>\n",
       "      <td>23.212036</td>\n",
       "      <td>66.440002</td>\n",
       "      <td>23.870001</td>\n",
       "      <td>...</td>\n",
       "      <td>27.730000</td>\n",
       "      <td>30.280001</td>\n",
       "      <td>1500000</td>\n",
       "      <td>967300</td>\n",
       "      <td>7657500</td>\n",
       "      <td>189680313</td>\n",
       "      <td>737000</td>\n",
       "      <td>7898000</td>\n",
       "      <td>28712400</td>\n",
       "      <td>51197400</td>\n",
       "    </tr>\n",
       "    <tr>\n",
       "      <th>...</th>\n",
       "      <td>...</td>\n",
       "      <td>...</td>\n",
       "      <td>...</td>\n",
       "      <td>...</td>\n",
       "      <td>...</td>\n",
       "      <td>...</td>\n",
       "      <td>...</td>\n",
       "      <td>...</td>\n",
       "      <td>...</td>\n",
       "      <td>...</td>\n",
       "      <td>...</td>\n",
       "      <td>...</td>\n",
       "      <td>...</td>\n",
       "      <td>...</td>\n",
       "      <td>...</td>\n",
       "      <td>...</td>\n",
       "      <td>...</td>\n",
       "      <td>...</td>\n",
       "      <td>...</td>\n",
       "      <td>...</td>\n",
       "      <td>...</td>\n",
       "    </tr>\n",
       "    <tr>\n",
       "      <th>2024-01-25</th>\n",
       "      <td>380.850006</td>\n",
       "      <td>132.880005</td>\n",
       "      <td>94.860001</td>\n",
       "      <td>153.639999</td>\n",
       "      <td>38.230000</td>\n",
       "      <td>158.357635</td>\n",
       "      <td>59.160000</td>\n",
       "      <td>404.122681</td>\n",
       "      <td>380.850006</td>\n",
       "      <td>132.880005</td>\n",
       "      <td>...</td>\n",
       "      <td>59.009998</td>\n",
       "      <td>404.320007</td>\n",
       "      <td>4055800</td>\n",
       "      <td>2097700</td>\n",
       "      <td>8661600</td>\n",
       "      <td>21495100</td>\n",
       "      <td>4637800</td>\n",
       "      <td>5478900</td>\n",
       "      <td>14899700</td>\n",
       "      <td>21021200</td>\n",
       "    </tr>\n",
       "    <tr>\n",
       "      <th>2024-01-26</th>\n",
       "      <td>385.399994</td>\n",
       "      <td>133.449997</td>\n",
       "      <td>95.360001</td>\n",
       "      <td>153.789993</td>\n",
       "      <td>38.180000</td>\n",
       "      <td>158.298096</td>\n",
       "      <td>59.369999</td>\n",
       "      <td>403.184418</td>\n",
       "      <td>385.399994</td>\n",
       "      <td>133.449997</td>\n",
       "      <td>...</td>\n",
       "      <td>59.250000</td>\n",
       "      <td>404.369995</td>\n",
       "      <td>3621400</td>\n",
       "      <td>1384200</td>\n",
       "      <td>7812800</td>\n",
       "      <td>19494500</td>\n",
       "      <td>3288100</td>\n",
       "      <td>5591900</td>\n",
       "      <td>13025100</td>\n",
       "      <td>17803300</td>\n",
       "    </tr>\n",
       "    <tr>\n",
       "      <th>2024-01-29</th>\n",
       "      <td>383.179993</td>\n",
       "      <td>133.690002</td>\n",
       "      <td>97.489998</td>\n",
       "      <td>154.839996</td>\n",
       "      <td>38.459999</td>\n",
       "      <td>158.159149</td>\n",
       "      <td>59.730000</td>\n",
       "      <td>408.963715</td>\n",
       "      <td>383.179993</td>\n",
       "      <td>133.690002</td>\n",
       "      <td>...</td>\n",
       "      <td>59.340000</td>\n",
       "      <td>406.059998</td>\n",
       "      <td>3797400</td>\n",
       "      <td>2488600</td>\n",
       "      <td>13422200</td>\n",
       "      <td>20909300</td>\n",
       "      <td>3503900</td>\n",
       "      <td>6483200</td>\n",
       "      <td>14547100</td>\n",
       "      <td>24510200</td>\n",
       "    </tr>\n",
       "    <tr>\n",
       "      <th>2024-01-30</th>\n",
       "      <td>387.149994</td>\n",
       "      <td>131.919998</td>\n",
       "      <td>96.940002</td>\n",
       "      <td>153.050003</td>\n",
       "      <td>38.509998</td>\n",
       "      <td>157.573593</td>\n",
       "      <td>59.900002</td>\n",
       "      <td>407.835815</td>\n",
       "      <td>387.149994</td>\n",
       "      <td>131.919998</td>\n",
       "      <td>...</td>\n",
       "      <td>59.849998</td>\n",
       "      <td>412.260010</td>\n",
       "      <td>3090900</td>\n",
       "      <td>2799300</td>\n",
       "      <td>9139600</td>\n",
       "      <td>26578900</td>\n",
       "      <td>4125600</td>\n",
       "      <td>7200500</td>\n",
       "      <td>22061500</td>\n",
       "      <td>33477600</td>\n",
       "    </tr>\n",
       "    <tr>\n",
       "      <th>2024-01-31</th>\n",
       "      <td>383.739990</td>\n",
       "      <td>132.070007</td>\n",
       "      <td>96.050003</td>\n",
       "      <td>141.800003</td>\n",
       "      <td>38.490002</td>\n",
       "      <td>157.702606</td>\n",
       "      <td>59.490002</td>\n",
       "      <td>396.846130</td>\n",
       "      <td>383.739990</td>\n",
       "      <td>132.070007</td>\n",
       "      <td>...</td>\n",
       "      <td>60.099998</td>\n",
       "      <td>406.959991</td>\n",
       "      <td>3856400</td>\n",
       "      <td>1803700</td>\n",
       "      <td>9592300</td>\n",
       "      <td>43908600</td>\n",
       "      <td>9428800</td>\n",
       "      <td>8256800</td>\n",
       "      <td>22837000</td>\n",
       "      <td>47871100</td>\n",
       "    </tr>\n",
       "  </tbody>\n",
       "</table>\n",
       "<p>3543 rows × 48 columns</p>\n",
       "</div>"
      ],
      "text/plain": [
       "Price        Adj Close                                                \\\n",
       "Ticker           BRK-B          DG        DIS        GOOG        IAU   \n",
       "Date                                                                   \n",
       "2010-01-04   66.220001   20.905287  27.843178   15.610239  21.978001   \n",
       "2010-01-05   66.540001   21.068327  27.773716   15.541497  21.954000   \n",
       "2010-01-06   66.199997   21.358173  27.626125   15.149715  22.326000   \n",
       "2010-01-07   66.459999   21.503090  27.634809   14.797037  22.181999   \n",
       "2010-01-08   66.440002   21.620846  27.678217   14.994298  22.290001   \n",
       "...                ...         ...        ...         ...        ...   \n",
       "2024-01-25  380.850006  132.880005  94.860001  153.639999  38.230000   \n",
       "2024-01-26  385.399994  133.449997  95.360001  153.789993  38.180000   \n",
       "2024-01-29  383.179993  133.690002  97.489998  154.839996  38.459999   \n",
       "2024-01-30  387.149994  131.919998  96.940002  153.050003  38.509998   \n",
       "2024-01-31  383.739990  132.070007  96.050003  141.800003  38.490002   \n",
       "\n",
       "Price                                               Close              ...  \\\n",
       "Ticker             JNJ         KO        MSFT       BRK-B          DG  ...   \n",
       "Date                                                                   ...   \n",
       "2010-01-04   42.650623  18.498018   23.431587   66.220001   23.080000  ...   \n",
       "2010-01-05   42.156075  18.274248   23.439161   66.540001   23.260000  ...   \n",
       "2010-01-06   42.498962  18.267769   23.295309   66.199997   23.580000  ...   \n",
       "2010-01-07   42.195644  18.222361   23.053047   66.459999   23.740000  ...   \n",
       "2010-01-08   42.340714  17.885090   23.212036   66.440002   23.870001  ...   \n",
       "...                ...        ...         ...         ...         ...  ...   \n",
       "2024-01-25  158.357635  59.160000  404.122681  380.850006  132.880005  ...   \n",
       "2024-01-26  158.298096  59.369999  403.184418  385.399994  133.449997  ...   \n",
       "2024-01-29  158.159149  59.730000  408.963715  383.179993  133.690002  ...   \n",
       "2024-01-30  157.573593  59.900002  407.835815  387.149994  131.919998  ...   \n",
       "2024-01-31  157.702606  59.490002  396.846130  383.739990  132.070007  ...   \n",
       "\n",
       "Price            Open               Volume                                \\\n",
       "Ticker             KO        MSFT    BRK-B       DG       DIS       GOOG   \n",
       "Date                                                                       \n",
       "2010-01-04  28.580000   30.620001  1575000   437200  13700400   78541293   \n",
       "2010-01-05  28.424999   30.850000  1310000   283600  10307700  120638494   \n",
       "2010-01-06  28.174999   30.879999  1760000   968100  10709500  159744526   \n",
       "2010-01-07  28.165001   30.629999  1505000   360700   8202100  257533695   \n",
       "2010-01-08  27.730000   30.280001  1500000   967300   7657500  189680313   \n",
       "...               ...         ...      ...      ...       ...        ...   \n",
       "2024-01-25  59.009998  404.320007  4055800  2097700   8661600   21495100   \n",
       "2024-01-26  59.250000  404.369995  3621400  1384200   7812800   19494500   \n",
       "2024-01-29  59.340000  406.059998  3797400  2488600  13422200   20909300   \n",
       "2024-01-30  59.849998  412.260010  3090900  2799300   9139600   26578900   \n",
       "2024-01-31  60.099998  406.959991  3856400  1803700   9592300   43908600   \n",
       "\n",
       "Price                                              \n",
       "Ticker          IAU       JNJ        KO      MSFT  \n",
       "Date                                               \n",
       "2010-01-04  1185000   9506200  13870400  38409100  \n",
       "2010-01-05   936000  10673100  23172400  49749600  \n",
       "2010-01-06  1091000  13171500  19264600  58182400  \n",
       "2010-01-07   811500  10901600  13234600  50559700  \n",
       "2010-01-08   737000   7898000  28712400  51197400  \n",
       "...             ...       ...       ...       ...  \n",
       "2024-01-25  4637800   5478900  14899700  21021200  \n",
       "2024-01-26  3288100   5591900  13025100  17803300  \n",
       "2024-01-29  3503900   6483200  14547100  24510200  \n",
       "2024-01-30  4125600   7200500  22061500  33477600  \n",
       "2024-01-31  9428800   8256800  22837000  47871100  \n",
       "\n",
       "[3543 rows x 48 columns]"
      ]
     },
     "metadata": {},
     "output_type": "display_data"
    }
   ],
   "source": [
    "# select tickers\n",
    "tickers = [\"IAU\", \"GOOG\", \"MSFT\", \"BRK-B\", \"KO\", \"JNJ\", \"DG\", \"DIS\"] #, \"BRK-B\", \"IAU\", \"GOOG\", \"AMZN\", \"AAPL\", \"TSM\", \"BAC\", \"WFC\"]  #VALE, KO, JNJ, DG, DIS, SPY \n",
    "\n",
    "# date format YYYY-MM-DD\n",
    "start_date = \"2010-01-01\"\n",
    "end_date = \"2024-02-01\"\n",
    "\n",
    "# time interval to take the cotations, in this case monthly\n",
    "interval= \"1d\"\n",
    "\n",
    "stock_data = fetch_stock_data(tickers, start_date, end_date, interval)\n",
    "\n",
    "display(stock_data)"
   ]
  },
  {
   "cell_type": "code",
   "execution_count": 6,
   "id": "0d4cb0d2",
   "metadata": {},
   "outputs": [
    {
     "name": "stdout",
     "output_type": "stream",
     "text": [
      "<class 'pandas.core.frame.DataFrame'>\n",
      "DatetimeIndex: 3543 entries, 2010-01-04 to 2024-01-31\n",
      "Data columns (total 8 columns):\n",
      " #   Column  Non-Null Count  Dtype  \n",
      "---  ------  --------------  -----  \n",
      " 0   BRK-B   3543 non-null   float64\n",
      " 1   DG      3543 non-null   float64\n",
      " 2   DIS     3543 non-null   float64\n",
      " 3   GOOG    3543 non-null   float64\n",
      " 4   IAU     3543 non-null   float64\n",
      " 5   JNJ     3543 non-null   float64\n",
      " 6   KO      3543 non-null   float64\n",
      " 7   MSFT    3543 non-null   float64\n",
      "dtypes: float64(8)\n",
      "memory usage: 249.1 KB\n"
     ]
    },
    {
     "data": {
      "text/html": [
       "<div>\n",
       "<style scoped>\n",
       "    .dataframe tbody tr th:only-of-type {\n",
       "        vertical-align: middle;\n",
       "    }\n",
       "\n",
       "    .dataframe tbody tr th {\n",
       "        vertical-align: top;\n",
       "    }\n",
       "\n",
       "    .dataframe thead th {\n",
       "        text-align: right;\n",
       "    }\n",
       "</style>\n",
       "<table border=\"1\" class=\"dataframe\">\n",
       "  <thead>\n",
       "    <tr style=\"text-align: right;\">\n",
       "      <th>Ticker</th>\n",
       "      <th>BRK-B</th>\n",
       "      <th>DG</th>\n",
       "      <th>DIS</th>\n",
       "      <th>GOOG</th>\n",
       "      <th>IAU</th>\n",
       "      <th>JNJ</th>\n",
       "      <th>KO</th>\n",
       "      <th>MSFT</th>\n",
       "    </tr>\n",
       "    <tr>\n",
       "      <th>Date</th>\n",
       "      <th></th>\n",
       "      <th></th>\n",
       "      <th></th>\n",
       "      <th></th>\n",
       "      <th></th>\n",
       "      <th></th>\n",
       "      <th></th>\n",
       "      <th></th>\n",
       "    </tr>\n",
       "  </thead>\n",
       "  <tbody>\n",
       "    <tr>\n",
       "      <th>2010-01-04</th>\n",
       "      <td>66.220001</td>\n",
       "      <td>23.080000</td>\n",
       "      <td>32.070000</td>\n",
       "      <td>15.610239</td>\n",
       "      <td>21.978001</td>\n",
       "      <td>64.680000</td>\n",
       "      <td>28.520000</td>\n",
       "      <td>30.950001</td>\n",
       "    </tr>\n",
       "    <tr>\n",
       "      <th>2010-01-05</th>\n",
       "      <td>66.540001</td>\n",
       "      <td>23.260000</td>\n",
       "      <td>31.990000</td>\n",
       "      <td>15.541497</td>\n",
       "      <td>21.954000</td>\n",
       "      <td>63.930000</td>\n",
       "      <td>28.174999</td>\n",
       "      <td>30.959999</td>\n",
       "    </tr>\n",
       "    <tr>\n",
       "      <th>2010-01-06</th>\n",
       "      <td>66.199997</td>\n",
       "      <td>23.580000</td>\n",
       "      <td>31.820000</td>\n",
       "      <td>15.149715</td>\n",
       "      <td>22.326000</td>\n",
       "      <td>64.449997</td>\n",
       "      <td>28.165001</td>\n",
       "      <td>30.770000</td>\n",
       "    </tr>\n",
       "    <tr>\n",
       "      <th>2010-01-07</th>\n",
       "      <td>66.459999</td>\n",
       "      <td>23.740000</td>\n",
       "      <td>31.830000</td>\n",
       "      <td>14.797037</td>\n",
       "      <td>22.181999</td>\n",
       "      <td>63.990002</td>\n",
       "      <td>28.094999</td>\n",
       "      <td>30.450001</td>\n",
       "    </tr>\n",
       "    <tr>\n",
       "      <th>2010-01-08</th>\n",
       "      <td>66.440002</td>\n",
       "      <td>23.870001</td>\n",
       "      <td>31.879999</td>\n",
       "      <td>14.994298</td>\n",
       "      <td>22.290001</td>\n",
       "      <td>64.209999</td>\n",
       "      <td>27.575001</td>\n",
       "      <td>30.660000</td>\n",
       "    </tr>\n",
       "    <tr>\n",
       "      <th>...</th>\n",
       "      <td>...</td>\n",
       "      <td>...</td>\n",
       "      <td>...</td>\n",
       "      <td>...</td>\n",
       "      <td>...</td>\n",
       "      <td>...</td>\n",
       "      <td>...</td>\n",
       "      <td>...</td>\n",
       "    </tr>\n",
       "    <tr>\n",
       "      <th>2024-01-25</th>\n",
       "      <td>380.850006</td>\n",
       "      <td>132.880005</td>\n",
       "      <td>94.860001</td>\n",
       "      <td>153.639999</td>\n",
       "      <td>38.230000</td>\n",
       "      <td>159.559998</td>\n",
       "      <td>59.160000</td>\n",
       "      <td>404.869995</td>\n",
       "    </tr>\n",
       "    <tr>\n",
       "      <th>2024-01-26</th>\n",
       "      <td>385.399994</td>\n",
       "      <td>133.449997</td>\n",
       "      <td>95.360001</td>\n",
       "      <td>153.789993</td>\n",
       "      <td>38.180000</td>\n",
       "      <td>159.500000</td>\n",
       "      <td>59.369999</td>\n",
       "      <td>403.929993</td>\n",
       "    </tr>\n",
       "    <tr>\n",
       "      <th>2024-01-29</th>\n",
       "      <td>383.179993</td>\n",
       "      <td>133.690002</td>\n",
       "      <td>97.489998</td>\n",
       "      <td>154.839996</td>\n",
       "      <td>38.459999</td>\n",
       "      <td>159.360001</td>\n",
       "      <td>59.730000</td>\n",
       "      <td>409.720001</td>\n",
       "    </tr>\n",
       "    <tr>\n",
       "      <th>2024-01-30</th>\n",
       "      <td>387.149994</td>\n",
       "      <td>131.919998</td>\n",
       "      <td>96.940002</td>\n",
       "      <td>153.050003</td>\n",
       "      <td>38.509998</td>\n",
       "      <td>158.770004</td>\n",
       "      <td>59.900002</td>\n",
       "      <td>408.589996</td>\n",
       "    </tr>\n",
       "    <tr>\n",
       "      <th>2024-01-31</th>\n",
       "      <td>383.739990</td>\n",
       "      <td>132.070007</td>\n",
       "      <td>96.050003</td>\n",
       "      <td>141.800003</td>\n",
       "      <td>38.490002</td>\n",
       "      <td>158.899994</td>\n",
       "      <td>59.490002</td>\n",
       "      <td>397.579987</td>\n",
       "    </tr>\n",
       "  </tbody>\n",
       "</table>\n",
       "<p>3543 rows × 8 columns</p>\n",
       "</div>"
      ],
      "text/plain": [
       "Ticker           BRK-B          DG        DIS        GOOG        IAU  \\\n",
       "Date                                                                   \n",
       "2010-01-04   66.220001   23.080000  32.070000   15.610239  21.978001   \n",
       "2010-01-05   66.540001   23.260000  31.990000   15.541497  21.954000   \n",
       "2010-01-06   66.199997   23.580000  31.820000   15.149715  22.326000   \n",
       "2010-01-07   66.459999   23.740000  31.830000   14.797037  22.181999   \n",
       "2010-01-08   66.440002   23.870001  31.879999   14.994298  22.290001   \n",
       "...                ...         ...        ...         ...        ...   \n",
       "2024-01-25  380.850006  132.880005  94.860001  153.639999  38.230000   \n",
       "2024-01-26  385.399994  133.449997  95.360001  153.789993  38.180000   \n",
       "2024-01-29  383.179993  133.690002  97.489998  154.839996  38.459999   \n",
       "2024-01-30  387.149994  131.919998  96.940002  153.050003  38.509998   \n",
       "2024-01-31  383.739990  132.070007  96.050003  141.800003  38.490002   \n",
       "\n",
       "Ticker             JNJ         KO        MSFT  \n",
       "Date                                           \n",
       "2010-01-04   64.680000  28.520000   30.950001  \n",
       "2010-01-05   63.930000  28.174999   30.959999  \n",
       "2010-01-06   64.449997  28.165001   30.770000  \n",
       "2010-01-07   63.990002  28.094999   30.450001  \n",
       "2010-01-08   64.209999  27.575001   30.660000  \n",
       "...                ...        ...         ...  \n",
       "2024-01-25  159.559998  59.160000  404.869995  \n",
       "2024-01-26  159.500000  59.369999  403.929993  \n",
       "2024-01-29  159.360001  59.730000  409.720001  \n",
       "2024-01-30  158.770004  59.900002  408.589996  \n",
       "2024-01-31  158.899994  59.490002  397.579987  \n",
       "\n",
       "[3543 rows x 8 columns]"
      ]
     },
     "execution_count": 6,
     "metadata": {},
     "output_type": "execute_result"
    }
   ],
   "source": [
    "# select only the closing price\n",
    "df_close = stock_data.Close.copy()\n",
    "df_close.info()\n",
    "df_close"
   ]
  },
  {
   "cell_type": "markdown",
   "id": "087f16bf",
   "metadata": {
    "tags": []
   },
   "source": [
    "## Calculate returns"
   ]
  },
  {
   "cell_type": "markdown",
   "id": "2ed7053f",
   "metadata": {
    "jp-MarkdownHeadingCollapsed": true,
    "tags": []
   },
   "source": [
    "### Year-over-Year Return (YoY)"
   ]
  },
  {
   "cell_type": "code",
   "execution_count": 7,
   "id": "ee6e0edc",
   "metadata": {},
   "outputs": [
    {
     "data": {
      "text/html": [
       "<div>\n",
       "<style scoped>\n",
       "    .dataframe tbody tr th:only-of-type {\n",
       "        vertical-align: middle;\n",
       "    }\n",
       "\n",
       "    .dataframe tbody tr th {\n",
       "        vertical-align: top;\n",
       "    }\n",
       "\n",
       "    .dataframe thead th {\n",
       "        text-align: right;\n",
       "    }\n",
       "</style>\n",
       "<table border=\"1\" class=\"dataframe\">\n",
       "  <thead>\n",
       "    <tr style=\"text-align: right;\">\n",
       "      <th>Ticker</th>\n",
       "      <th>BRK-B</th>\n",
       "      <th>DG</th>\n",
       "      <th>DIS</th>\n",
       "      <th>GOOG</th>\n",
       "      <th>IAU</th>\n",
       "      <th>JNJ</th>\n",
       "      <th>KO</th>\n",
       "      <th>MSFT</th>\n",
       "    </tr>\n",
       "    <tr>\n",
       "      <th>Date</th>\n",
       "      <th></th>\n",
       "      <th></th>\n",
       "      <th></th>\n",
       "      <th></th>\n",
       "      <th></th>\n",
       "      <th></th>\n",
       "      <th></th>\n",
       "      <th></th>\n",
       "    </tr>\n",
       "  </thead>\n",
       "  <tbody>\n",
       "    <tr>\n",
       "      <th>2011-01-03</th>\n",
       "      <td>0.214286</td>\n",
       "      <td>0.328856</td>\n",
       "      <td>0.179295</td>\n",
       "      <td>-0.035740</td>\n",
       "      <td>0.257621</td>\n",
       "      <td>-0.028757</td>\n",
       "      <td>0.143408</td>\n",
       "      <td>-0.095961</td>\n",
       "    </tr>\n",
       "    <tr>\n",
       "      <th>2011-01-04</th>\n",
       "      <td>0.204839</td>\n",
       "      <td>0.312984</td>\n",
       "      <td>0.218818</td>\n",
       "      <td>-0.035049</td>\n",
       "      <td>0.229844</td>\n",
       "      <td>-0.009072</td>\n",
       "      <td>0.133452</td>\n",
       "      <td>-0.092700</td>\n",
       "    </tr>\n",
       "    <tr>\n",
       "      <th>2011-01-05</th>\n",
       "      <td>0.222206</td>\n",
       "      <td>0.276506</td>\n",
       "      <td>0.255814</td>\n",
       "      <td>0.001332</td>\n",
       "      <td>0.205769</td>\n",
       "      <td>-0.017688</td>\n",
       "      <td>0.127108</td>\n",
       "      <td>-0.090023</td>\n",
       "    </tr>\n",
       "  </tbody>\n",
       "</table>\n",
       "</div>"
      ],
      "text/plain": [
       "Ticker         BRK-B        DG       DIS      GOOG       IAU       JNJ  \\\n",
       "Date                                                                     \n",
       "2011-01-03  0.214286  0.328856  0.179295 -0.035740  0.257621 -0.028757   \n",
       "2011-01-04  0.204839  0.312984  0.218818 -0.035049  0.229844 -0.009072   \n",
       "2011-01-05  0.222206  0.276506  0.255814  0.001332  0.205769 -0.017688   \n",
       "\n",
       "Ticker            KO      MSFT  \n",
       "Date                            \n",
       "2011-01-03  0.143408 -0.095961  \n",
       "2011-01-04  0.133452 -0.092700  \n",
       "2011-01-05  0.127108 -0.090023  "
      ]
     },
     "execution_count": 7,
     "metadata": {},
     "output_type": "execute_result"
    }
   ],
   "source": [
    "returns_daily = (df_close\n",
    "                 .copy()\n",
    "                 .pct_change(periods=252)\n",
    "                 .dropna()\n",
    ")\n",
    "\n",
    "# display(returns_daily.describe())\n",
    "returns_daily.head(3)"
   ]
  },
  {
   "cell_type": "markdown",
   "id": "9df96ecf",
   "metadata": {
    "jp-MarkdownHeadingCollapsed": true,
    "tags": []
   },
   "source": [
    "## Fit distribution model - Returns"
   ]
  },
  {
   "cell_type": "code",
   "execution_count": 8,
   "id": "9f5be95f-35f6-405d-8552-111129cda2d9",
   "metadata": {
    "tags": []
   },
   "outputs": [],
   "source": [
    "def calculate_return_params(key):\n",
    "    sigma, loc, scale = lognorm.fit(returns_daily[key] + 1.0)    \n",
    "    return (sigma, loc, scale)"
   ]
  },
  {
   "cell_type": "code",
   "execution_count": 9,
   "id": "11bd8038-7957-4250-bda3-2d73bab85e6c",
   "metadata": {
    "tags": []
   },
   "outputs": [],
   "source": [
    "# Defining return dict to receive the fitting parameters from distributions\n",
    "params = (\"sigma\", \"loc\", \"scale\")\n",
    "return_fitting_params_lognormal = { key: dict( zip( params, calculate_return_params(key)) ) for key in tickers }"
   ]
  },
  {
   "cell_type": "code",
   "execution_count": 10,
   "id": "ed17997f-4b51-4138-803c-8320c521adf9",
   "metadata": {
    "tags": []
   },
   "outputs": [],
   "source": [
    "# return_fitting_params_lognormal"
   ]
  },
  {
   "cell_type": "markdown",
   "id": "e0dfe8ac-87ee-4d8b-8ea6-e2999bd496cc",
   "metadata": {
    "tags": []
   },
   "source": [
    "## Return plots"
   ]
  },
  {
   "cell_type": "markdown",
   "id": "d3ca33c2",
   "metadata": {
    "jp-MarkdownHeadingCollapsed": true,
    "tags": []
   },
   "source": [
    "### Lognormal:"
   ]
  },
  {
   "cell_type": "code",
   "execution_count": 11,
   "id": "28e4a3e9-889e-44b9-8b1b-b0184e049431",
   "metadata": {
    "tags": []
   },
   "outputs": [
    {
     "data": {
      "image/png": "[encoded data removed]",
      "text/plain": [
       "<Figure size 1000x400 with 2 Axes>"
      ]
     },
     "metadata": {},
     "output_type": "display_data"
    }
   ],
   "source": [
    "# Plot the histogram of the returns_daily along with the fitted Gaussian distribution\n",
    "fig, axes = plt.subplots(nrows=1, ncols=2, figsize=(10, 4))\n",
    "tick0 = tickers[0]\n",
    "tick1 = tickers[2]\n",
    "# Fit a Gaussian distribution to the returns_daily\n",
    "plt.subplot(1, 2, 1)\n",
    "data = returns_daily[tick0] + 1.0\n",
    "sns.histplot(data= data, bins=30, stat=\"density\", kde=True, color='lightgreen', edgecolor='red')\n",
    "\n",
    "xmin, xmax = plt.xlim()\n",
    "x = np.linspace(xmin, xmax, 1000)\n",
    "p = lognorm.pdf(x, return_fitting_params_lognormal[tick0][\"sigma\"], loc= return_fitting_params_lognormal[tick0][\"loc\"], scale= return_fitting_params_lognormal[tick0][\"scale\"])\n",
    "\n",
    "plt.plot(x, p, 'k', label=\"fit-lognormal\", linewidth=1)\n",
    "plt.title(f\"{tick0} --> Fit results: sigma = %.2f,  loc = %.2f, scale = %.2f\" % (return_fitting_params_lognormal[tick0][\"sigma\"],\n",
    "                                                                                      return_fitting_params_lognormal[tick0][\"loc\"],\n",
    "                                                                                      return_fitting_params_lognormal[tick0][\"scale\"]))\n",
    "plt.ylabel(\"Probability Density Function\")\n",
    "plt.xlabel(\"1 + return - [a.a.]\")\n",
    "plt.legend()\n",
    "\n",
    "\n",
    "# Fit a Gaussian distribution to the returns_daily\n",
    "plt.subplot(1, 2, 2)\n",
    "data = returns_daily[tick1] + 1.0\n",
    "sns.histplot(data= data, bins=30, stat=\"density\", kde=True, color='lightgreen', edgecolor='red')\n",
    "\n",
    "xmin, xmax = plt.xlim()\n",
    "x = np.linspace(xmin, xmax, 1000)\n",
    "p = lognorm.pdf(x, return_fitting_params_lognormal[tick1][\"sigma\"], loc= return_fitting_params_lognormal[tick1][\"loc\"], scale= return_fitting_params_lognormal[tick1][\"scale\"])\n",
    "\n",
    "plt.plot(x, p, 'k', label=\"fit-lognormal\", linewidth=1)\n",
    "plt.title(f\"{tick1} --> Fit results: sigma = %.2f,  loc = %.2f, scale = %.2f\" % (return_fitting_params_lognormal[tick1][\"sigma\"],\n",
    "                                                                                      return_fitting_params_lognormal[tick1][\"loc\"],\n",
    "                                                                                      return_fitting_params_lognormal[tick1][\"scale\"]))\n",
    "plt.ylabel(\"Probability Density Function\")\n",
    "plt.xlabel(\"1 + return - [a.a.]\")\n",
    "plt.legend()\n",
    "\n",
    "fig.tight_layout()\n",
    "fig.subplots_adjust(wspace=0.5)\n",
    "plt.show()"
   ]
  },
  {
   "cell_type": "markdown",
   "id": "14bedc32-9f46-43cc-8c33-57a98d1fbd20",
   "metadata": {
    "jp-MarkdownHeadingCollapsed": true,
    "tags": []
   },
   "source": [
    "## Generate samples from distributions models"
   ]
  },
  {
   "cell_type": "code",
   "execution_count": 12,
   "id": "8aa3c34f-775e-4ab9-8b91-517afdf91a4e",
   "metadata": {
    "tags": []
   },
   "outputs": [],
   "source": [
    "# Number of samples\n",
    "num_samples = 1_000"
   ]
  },
  {
   "cell_type": "code",
   "execution_count": 13,
   "id": "bc06aa4f-32d4-444f-bc1e-705a2781b0f4",
   "metadata": {},
   "outputs": [],
   "source": [
    "def calculate_return_samples(ticker, num_samples=1_000):\n",
    "    sigma   = return_fitting_params_lognormal[ticker][\"sigma\"]\n",
    "    loc     = return_fitting_params_lognormal[ticker][\"loc\"]\n",
    "    scale   = return_fitting_params_lognormal[ticker][\"scale\"]\n",
    "    samples = lognorm.rvs(sigma, loc=loc, scale=scale, size=num_samples) - 1.0\n",
    "    return samples\n",
    "\n",
    "# Defining return dict to receive the samples from distributions models builted with their respective parameters\n",
    "return_samples_lognormal = { ticker: calculate_return_samples(ticker, num_samples) for ticker in tickers }\n"
   ]
  },
  {
   "cell_type": "markdown",
   "id": "3167ea43-4e7c-4297-be3f-9abc8d015b85",
   "metadata": {
    "tags": []
   },
   "source": [
    "## Plot - Compare data vs model"
   ]
  },
  {
   "cell_type": "markdown",
   "id": "9eebbb50-1c61-4ba7-879b-f2fb6fd27f72",
   "metadata": {
    "jp-MarkdownHeadingCollapsed": true,
    "tags": []
   },
   "source": [
    "### Returns:"
   ]
  },
  {
   "cell_type": "code",
   "execution_count": 14,
   "id": "495f9e46-6f61-46da-a34a-ad459e0db118",
   "metadata": {},
   "outputs": [
    {
     "data": {
      "image/png": "[encoded data removed]",
      "text/plain": [
       "<Figure size 1000x500 with 1 Axes>"
      ]
     },
     "metadata": {},
     "output_type": "display_data"
    }
   ],
   "source": [
    "# Find the best parameters when fitting the model to the data\n",
    "data = returns_daily[tickers[0]] + 1.0\n",
    "sigma, loc, scale = lognorm.fit(data)\n",
    "\n",
    "# Generate samples based on the parameters find previously\n",
    "n_samples = 100_000\n",
    "samples = lognorm.rvs(sigma, loc=loc, scale=scale, size=n_samples)\n",
    "\n",
    "# Plot the histogram of the generated samples\n",
    "plt.figure(figsize=(10,5))\n",
    "sns.histplot(data, bins=30, stat=\"density\", color='lightblue', edgecolor='lightblue', label=\"data samples\")\n",
    "sns.histplot(samples, bins=30, stat=\"density\", kde=True, color='lightgreen', edgecolor='lightgreen', alpha=0.3, label=\"lognormal samples\")\n",
    "\n",
    "# Plot the PDF of the lognormal distribution for comparison\n",
    "xmin, xmax = plt.xlim()\n",
    "x = np.linspace(xmin, xmax, 100)\n",
    "pdf = lognorm.pdf(x, sigma, loc= loc, scale= scale)\n",
    "\n",
    "plt.plot(x, pdf, 'k', linewidth=2, label=\"lognormal curve\")\n",
    "plt.title(f\"{tickers[0]} --> Fit results: sigma = %.2f,  loc = %.2f, scale = %.2f\" % (sigma, loc, scale))\n",
    "plt.ylabel(\"Density\")\n",
    "plt.xlabel(\"1 + return - [a.a.]\")\n",
    "plt.legend()\n",
    "plt.show()"
   ]
  },
  {
   "cell_type": "markdown",
   "id": "07e46ae0-2b2f-466d-86ed-67e3738f4b68",
   "metadata": {
    "tags": []
   },
   "source": [
    "## Monte carlo simulation"
   ]
  },
  {
   "cell_type": "markdown",
   "id": "c9479534-7486-4f50-8a34-8b1d937d68fe",
   "metadata": {},
   "source": [
    "### Equations:\n",
    "<br>\n",
    "\n",
    "- **Portfolio Return**:\n",
    "<br>\n",
    "$$ R_P = {\\omega}^T \\cdot R $$\n",
    "<br>\n",
    "with $R_P$ being the return of the portfolio, $\\omega$ the weights and $R$ the returns of the assets. Each one are given by:\n",
    "<br><br>\n",
    "\n",
    "<table>\n",
    "  <tr>\n",
    "    <td>\n",
    "      $$\n",
    "        \\omega = \\begin{bmatrix}\n",
    "                {\\omega}_A \\\\\n",
    "                {\\omega}_B \\\\\n",
    "                {\\omega}_C \\\\\n",
    "        \\end{bmatrix},\n",
    "      $$\n",
    "    </td>\n",
    "    <td>\n",
    "      and\n",
    "    </td>\n",
    "    <td>\n",
    "    $$\n",
    "        R = \\begin{bmatrix}\n",
    "                R_A \\\\\n",
    "                R_B \\\\\n",
    "                R_C \\\\\n",
    "        \\end{bmatrix}.\n",
    "    $$\n",
    "    </td>\n",
    "  </tr>\n",
    "</table>\n",
    "\n",
    "<br>\n",
    "\n",
    "- **Portfolio Risk**: \n",
    "<br>\n",
    "$$ {{\\sigma}^2_P} = {\\omega}^T \\cdot \\Sigma \\cdot \\omega $$\n",
    "<br>\n",
    "in wich ${{\\sigma}^2_P}$ is the variance of the portfolio and $\\Sigma$ is the covariance matrix of the assets. The covariance matrix is given by:\n",
    "<br>\n",
    "<br>\n",
    "$$ \\Sigma = \\begin{bmatrix}\n",
    "                {{\\sigma}^2_A} & cov(A,B) & cov(A,C) \\\\\n",
    "                cov(A,B) & {{\\sigma}^2_B} & cov(B,C) \\\\\n",
    "                cov(A,C) & cov(B,C) & {{\\sigma}^2_C} \\\\\n",
    "            \\end{bmatrix}.\n",
    "$$\n",
    "<br>\n",
    "\n",
    "\n"
   ]
  },
  {
   "cell_type": "markdown",
   "id": "3a4dd00b-332a-4ad0-9325-6edfe4b6fc0f",
   "metadata": {
    "jp-MarkdownHeadingCollapsed": true,
    "tags": []
   },
   "source": [
    "## Generate asset weights"
   ]
  },
  {
   "cell_type": "code",
   "execution_count": 15,
   "id": "972e1d1e-f2fd-4b95-8f07-bf4d43e4e14b",
   "metadata": {},
   "outputs": [
    {
     "data": {
      "text/plain": [
       "(8, 1000)"
      ]
     },
     "execution_count": 15,
     "metadata": {},
     "output_type": "execute_result"
    }
   ],
   "source": [
    "def make_wight_matrix(n_tickers, n_samples=1_000):\n",
    "    rand_values = uniform.rvs(size= int(n_tickers * n_samples)).reshape((n_tickers, n_samples))\n",
    "    normalized_values = rand_values / rand_values.sum(axis=0, keepdims=True)\n",
    "    return normalized_values\n",
    "\n",
    "# Matrix of the weights\n",
    "weight_matrix = make_wight_matrix(len(tickers), num_samples)\n",
    "weight_matrix.shape"
   ]
  },
  {
   "cell_type": "markdown",
   "id": "13a1de10-cb1d-46cb-ac5c-3a299d4440b7",
   "metadata": {
    "jp-MarkdownHeadingCollapsed": true,
    "tags": []
   },
   "source": [
    "## Build Assets Return Matrix"
   ]
  },
  {
   "cell_type": "code",
   "execution_count": 16,
   "id": "32c10d37-cb6e-4673-a3ef-704e8efdfb39",
   "metadata": {
    "tags": []
   },
   "outputs": [
    {
     "data": {
      "text/plain": [
       "array([[-0.31910476, -0.059791  ,  0.16980302, -0.10117072,  0.22888906],\n",
       "       [ 0.19967007,  0.20341698,  0.54430636,  0.4533716 , -0.10996732],\n",
       "       [ 0.48861661,  0.00892681,  0.59382244,  0.02429302,  0.35531157],\n",
       "       [-0.01220381,  0.09798832,  0.00486489,  0.34828152,  0.50443651],\n",
       "       [ 0.06616808,  0.12955617,  0.09077525,  0.17959527,  0.01161799],\n",
       "       [-0.04490906,  0.17314315,  0.187347  ,  0.30512082,  0.0566717 ],\n",
       "       [ 0.08653846,  0.69379147,  0.59023059,  0.20793294,  0.04946662],\n",
       "       [ 0.19782192,  0.17539273,  0.14143513,  0.06503318, -0.14019236]])"
      ]
     },
     "execution_count": 16,
     "metadata": {},
     "output_type": "execute_result"
    }
   ],
   "source": [
    "# Create empty array with the final shape\n",
    "assets_return_matrix = np.zeros((len(tickers), num_samples), dtype=np.float64)\n",
    "\n",
    "# Map the values in the dictionary to the new array\n",
    "for row, ticker in zip(range(len(tickers)), tickers):\n",
    "    assets_return_matrix[row, :] = return_samples_lognormal[ticker].reshape(1, num_samples)\n",
    "\n",
    "assets_return_matrix[:, :5]"
   ]
  },
  {
   "cell_type": "markdown",
   "id": "ed0f4cbf-863b-49f2-8985-47b58eab0ce0",
   "metadata": {
    "tags": []
   },
   "source": [
    "## Portfolio Return"
   ]
  },
  {
   "cell_type": "code",
   "execution_count": 17,
   "id": "e4419ff5-2c2d-41c1-aeef-0b9ac5d38b92",
   "metadata": {
    "tags": []
   },
   "outputs": [
    {
     "data": {
      "text/plain": [
       "(1000000,)"
      ]
     },
     "execution_count": 17,
     "metadata": {},
     "output_type": "execute_result"
    }
   ],
   "source": [
    "# # Matrix of the returns\n",
    "portfolio_return = weight_matrix.T.dot(assets_return_matrix).reshape(-1)\n",
    "portfolio_return.shape"
   ]
  },
  {
   "cell_type": "code",
   "execution_count": 18,
   "id": "cd4f9ae7-402a-4796-aa08-18df8d655aed",
   "metadata": {
    "tags": []
   },
   "outputs": [
    {
     "data": {
      "image/png": "[encoded data removed]",
      "text/plain": [
       "<Figure size 640x480 with 1 Axes>"
      ]
     },
     "metadata": {},
     "output_type": "display_data"
    }
   ],
   "source": [
    "# Plot\n",
    "sns.histplot(portfolio_return, bins=50, stat=\"density\", kde=True, color='lightgreen', edgecolor='lightgreen', alpha=0.3, label=f\"Assets: {tickers}\")\n",
    "\n",
    "threshold = 0.1\n",
    "return_threshold = np.count_nonzero(portfolio_return > threshold) / np.max(portfolio_return.shape)\n",
    "\n",
    "plt.title(f\"Portfolio Return - Prob(return >= {int(threshold * 100)}%) = {int(100 * return_threshold)}.0%\")\n",
    "plt.ylabel(\"Probability density function\")\n",
    "plt.xlabel(\"return [a.a.]\")\n",
    "plt.legend(loc=\"upper right\")\n",
    "plt.show()"
   ]
  },
  {
   "cell_type": "code",
   "execution_count": null,
   "id": "2420032a-e17b-4f91-b85e-46d356e1e358",
   "metadata": {},
   "outputs": [],
   "source": []
  },
  {
   "cell_type": "code",
   "execution_count": null,
   "id": "e9e53b2c-b2ee-48fb-8905-424cf3332c4b",
   "metadata": {},
   "outputs": [],
   "source": []
  },
  {
   "cell_type": "code",
   "execution_count": null,
   "id": "3b7be79c-79a1-40a3-8526-74bd49cb1337",
   "metadata": {},
   "outputs": [],
   "source": []
  },
  {
   "cell_type": "code",
   "execution_count": null,
   "id": "74713047-6af1-4651-9e78-6bb35c19db5f",
   "metadata": {},
   "outputs": [],
   "source": []
  },
  {
   "cell_type": "code",
   "execution_count": null,
   "id": "0379c84b-16c6-408d-8778-1b37f731d32b",
   "metadata": {},
   "outputs": [],
   "source": []
  },
  {
   "cell_type": "code",
   "execution_count": null,
   "id": "a6f909e0-3449-49fd-8daa-998760a244df",
   "metadata": {},
   "outputs": [],
   "source": []
  },
  {
   "cell_type": "code",
   "execution_count": null,
   "id": "a9a74861-30d1-4323-8b91-6aba8249d15e",
   "metadata": {
    "tags": []
   },
   "outputs": [],
   "source": []
  },
  {
   "cell_type": "code",
   "execution_count": null,
   "id": "d082e0db-86a2-4042-8064-5558cf8733be",
   "metadata": {},
   "outputs": [],
   "source": []
  }
 ],
 "metadata": {
  "kernelspec": {
   "display_name": "Python 3 (ipykernel)",
   "language": "python",
   "name": "python3"
  },
  "language_info": {
   "codemirror_mode": {
    "name": "ipython",
    "version": 3
   },
   "file_extension": ".py",
   "mimetype": "text/x-python",
   "name": "python",
   "nbconvert_exporter": "python",
   "pygments_lexer": "ipython3",
   "version": "3.11.5"
  },
  "toc-showtags": false
 },
 "nbformat": 4,
 "nbformat_minor": 5
}
