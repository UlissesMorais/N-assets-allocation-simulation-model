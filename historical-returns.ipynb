{
 "cells": [
  {
   "cell_type": "markdown",
   "id": "99812ce1",
   "metadata": {
    "jp-MarkdownHeadingCollapsed": true,
    "tags": []
   },
   "source": [
    "## Import libraries"
   ]
  },
  {
   "cell_type": "code",
   "execution_count": 1,
   "id": "45cb3566",
   "metadata": {},
   "outputs": [],
   "source": [
    "import pandas as pd\n",
    "import numpy as np\n",
    "import matplotlib.pyplot as plt\n",
    "import seaborn as sns\n",
    "import yfinance as yf\n",
    "from scipy.stats import norm, lognorm, uniform"
   ]
  },
  {
   "cell_type": "code",
   "execution_count": 2,
   "id": "9b15e74b",
   "metadata": {},
   "outputs": [
    {
     "name": "stdout",
     "output_type": "stream",
     "text": [
      "Yfinance version:  0.2.37\n"
     ]
    }
   ],
   "source": [
    "print(\"Yfinance version: \" , yf.__version__)"
   ]
  },
  {
   "cell_type": "code",
   "execution_count": 3,
   "id": "a2172057-48b5-4a35-a2e1-d74bde21f569",
   "metadata": {
    "tags": []
   },
   "outputs": [],
   "source": [
    "# Set default parameters for plt.title()\n",
    "plt.rcParams['axes.titlepad'] = 12  # Set padding around the title\n",
    "plt.rcParams['axes.titleweight'] = 'normal'  # Set title font size\n",
    "plt.rcParams['axes.titlesize'] = 9  # Set title font size"
   ]
  },
  {
   "cell_type": "markdown",
   "id": "90a60dac",
   "metadata": {
    "jp-MarkdownHeadingCollapsed": true,
    "tags": []
   },
   "source": [
    "## Fetch cotation data"
   ]
  },
  {
   "cell_type": "code",
   "execution_count": 4,
   "id": "2be220cb",
   "metadata": {},
   "outputs": [],
   "source": [
    "def fetch_stock_data(tickers, start_date, end_date, interval):\n",
    "    data = yf.download(tickers, start=start_date, end=end_date, interval=interval)\n",
    "    return data"
   ]
  },
  {
   "cell_type": "code",
   "execution_count": 5,
   "id": "b158dd00",
   "metadata": {},
   "outputs": [
    {
     "name": "stderr",
     "output_type": "stream",
     "text": [
      "[*********************100%%**********************]  4 of 4 completed\n"
     ]
    },
    {
     "data": {
      "text/html": [
       "<div>\n",
       "<style scoped>\n",
       "    .dataframe tbody tr th:only-of-type {\n",
       "        vertical-align: middle;\n",
       "    }\n",
       "\n",
       "    .dataframe tbody tr th {\n",
       "        vertical-align: top;\n",
       "    }\n",
       "\n",
       "    .dataframe thead tr th {\n",
       "        text-align: left;\n",
       "    }\n",
       "\n",
       "    .dataframe thead tr:last-of-type th {\n",
       "        text-align: right;\n",
       "    }\n",
       "</style>\n",
       "<table border=\"1\" class=\"dataframe\">\n",
       "  <thead>\n",
       "    <tr>\n",
       "      <th>Price</th>\n",
       "      <th colspan=\"4\" halign=\"left\">Adj Close</th>\n",
       "      <th colspan=\"4\" halign=\"left\">Close</th>\n",
       "      <th colspan=\"2\" halign=\"left\">High</th>\n",
       "      <th>...</th>\n",
       "      <th colspan=\"2\" halign=\"left\">Low</th>\n",
       "      <th colspan=\"4\" halign=\"left\">Open</th>\n",
       "      <th colspan=\"4\" halign=\"left\">Volume</th>\n",
       "    </tr>\n",
       "    <tr>\n",
       "      <th>Ticker</th>\n",
       "      <th>BRK-B</th>\n",
       "      <th>GOOG</th>\n",
       "      <th>IAU</th>\n",
       "      <th>MSFT</th>\n",
       "      <th>BRK-B</th>\n",
       "      <th>GOOG</th>\n",
       "      <th>IAU</th>\n",
       "      <th>MSFT</th>\n",
       "      <th>BRK-B</th>\n",
       "      <th>GOOG</th>\n",
       "      <th>...</th>\n",
       "      <th>IAU</th>\n",
       "      <th>MSFT</th>\n",
       "      <th>BRK-B</th>\n",
       "      <th>GOOG</th>\n",
       "      <th>IAU</th>\n",
       "      <th>MSFT</th>\n",
       "      <th>BRK-B</th>\n",
       "      <th>GOOG</th>\n",
       "      <th>IAU</th>\n",
       "      <th>MSFT</th>\n",
       "    </tr>\n",
       "    <tr>\n",
       "      <th>Date</th>\n",
       "      <th></th>\n",
       "      <th></th>\n",
       "      <th></th>\n",
       "      <th></th>\n",
       "      <th></th>\n",
       "      <th></th>\n",
       "      <th></th>\n",
       "      <th></th>\n",
       "      <th></th>\n",
       "      <th></th>\n",
       "      <th></th>\n",
       "      <th></th>\n",
       "      <th></th>\n",
       "      <th></th>\n",
       "      <th></th>\n",
       "      <th></th>\n",
       "      <th></th>\n",
       "      <th></th>\n",
       "      <th></th>\n",
       "      <th></th>\n",
       "      <th></th>\n",
       "    </tr>\n",
       "  </thead>\n",
       "  <tbody>\n",
       "    <tr>\n",
       "      <th>2010-01-04</th>\n",
       "      <td>66.220001</td>\n",
       "      <td>15.610239</td>\n",
       "      <td>21.978001</td>\n",
       "      <td>23.431589</td>\n",
       "      <td>66.220001</td>\n",
       "      <td>15.610239</td>\n",
       "      <td>21.978001</td>\n",
       "      <td>30.950001</td>\n",
       "      <td>66.500000</td>\n",
       "      <td>15.678981</td>\n",
       "      <td>...</td>\n",
       "      <td>21.882000</td>\n",
       "      <td>30.590000</td>\n",
       "      <td>66.000000</td>\n",
       "      <td>15.615220</td>\n",
       "      <td>21.978001</td>\n",
       "      <td>30.620001</td>\n",
       "      <td>1575000</td>\n",
       "      <td>78541293</td>\n",
       "      <td>1185000</td>\n",
       "      <td>38409100</td>\n",
       "    </tr>\n",
       "    <tr>\n",
       "      <th>2010-01-05</th>\n",
       "      <td>66.540001</td>\n",
       "      <td>15.541497</td>\n",
       "      <td>21.954000</td>\n",
       "      <td>23.439163</td>\n",
       "      <td>66.540001</td>\n",
       "      <td>15.541497</td>\n",
       "      <td>21.954000</td>\n",
       "      <td>30.959999</td>\n",
       "      <td>66.589996</td>\n",
       "      <td>15.637387</td>\n",
       "      <td>...</td>\n",
       "      <td>21.870001</td>\n",
       "      <td>30.639999</td>\n",
       "      <td>66.389999</td>\n",
       "      <td>15.620949</td>\n",
       "      <td>21.988001</td>\n",
       "      <td>30.850000</td>\n",
       "      <td>1310000</td>\n",
       "      <td>120638494</td>\n",
       "      <td>936000</td>\n",
       "      <td>49749600</td>\n",
       "    </tr>\n",
       "    <tr>\n",
       "      <th>2010-01-06</th>\n",
       "      <td>66.199997</td>\n",
       "      <td>15.149715</td>\n",
       "      <td>22.326000</td>\n",
       "      <td>23.295319</td>\n",
       "      <td>66.199997</td>\n",
       "      <td>15.149715</td>\n",
       "      <td>22.326000</td>\n",
       "      <td>30.770000</td>\n",
       "      <td>66.500000</td>\n",
       "      <td>15.588072</td>\n",
       "      <td>...</td>\n",
       "      <td>22.110001</td>\n",
       "      <td>30.520000</td>\n",
       "      <td>66.500000</td>\n",
       "      <td>15.588072</td>\n",
       "      <td>22.156000</td>\n",
       "      <td>30.879999</td>\n",
       "      <td>1760000</td>\n",
       "      <td>159744526</td>\n",
       "      <td>1091000</td>\n",
       "      <td>58182400</td>\n",
       "    </tr>\n",
       "    <tr>\n",
       "      <th>2010-01-07</th>\n",
       "      <td>66.459999</td>\n",
       "      <td>14.797037</td>\n",
       "      <td>22.181999</td>\n",
       "      <td>23.053057</td>\n",
       "      <td>66.459999</td>\n",
       "      <td>14.797037</td>\n",
       "      <td>22.181999</td>\n",
       "      <td>30.450001</td>\n",
       "      <td>66.510002</td>\n",
       "      <td>15.193053</td>\n",
       "      <td>...</td>\n",
       "      <td>22.152000</td>\n",
       "      <td>30.190001</td>\n",
       "      <td>66.199997</td>\n",
       "      <td>15.178109</td>\n",
       "      <td>22.230000</td>\n",
       "      <td>30.629999</td>\n",
       "      <td>1505000</td>\n",
       "      <td>257533695</td>\n",
       "      <td>811500</td>\n",
       "      <td>50559700</td>\n",
       "    </tr>\n",
       "    <tr>\n",
       "      <th>2010-01-08</th>\n",
       "      <td>66.440002</td>\n",
       "      <td>14.994298</td>\n",
       "      <td>22.290001</td>\n",
       "      <td>23.212038</td>\n",
       "      <td>66.440002</td>\n",
       "      <td>14.994298</td>\n",
       "      <td>22.290001</td>\n",
       "      <td>30.660000</td>\n",
       "      <td>66.480003</td>\n",
       "      <td>15.024933</td>\n",
       "      <td>...</td>\n",
       "      <td>22.077999</td>\n",
       "      <td>30.240000</td>\n",
       "      <td>66.480003</td>\n",
       "      <td>14.744733</td>\n",
       "      <td>22.306000</td>\n",
       "      <td>30.280001</td>\n",
       "      <td>1500000</td>\n",
       "      <td>189680313</td>\n",
       "      <td>737000</td>\n",
       "      <td>51197400</td>\n",
       "    </tr>\n",
       "    <tr>\n",
       "      <th>...</th>\n",
       "      <td>...</td>\n",
       "      <td>...</td>\n",
       "      <td>...</td>\n",
       "      <td>...</td>\n",
       "      <td>...</td>\n",
       "      <td>...</td>\n",
       "      <td>...</td>\n",
       "      <td>...</td>\n",
       "      <td>...</td>\n",
       "      <td>...</td>\n",
       "      <td>...</td>\n",
       "      <td>...</td>\n",
       "      <td>...</td>\n",
       "      <td>...</td>\n",
       "      <td>...</td>\n",
       "      <td>...</td>\n",
       "      <td>...</td>\n",
       "      <td>...</td>\n",
       "      <td>...</td>\n",
       "      <td>...</td>\n",
       "      <td>...</td>\n",
       "    </tr>\n",
       "    <tr>\n",
       "      <th>2024-01-25</th>\n",
       "      <td>380.850006</td>\n",
       "      <td>153.639999</td>\n",
       "      <td>38.230000</td>\n",
       "      <td>404.122681</td>\n",
       "      <td>380.850006</td>\n",
       "      <td>153.639999</td>\n",
       "      <td>38.230000</td>\n",
       "      <td>404.869995</td>\n",
       "      <td>380.989990</td>\n",
       "      <td>154.759995</td>\n",
       "      <td>...</td>\n",
       "      <td>38.080002</td>\n",
       "      <td>402.529999</td>\n",
       "      <td>379.239990</td>\n",
       "      <td>151.740005</td>\n",
       "      <td>38.270000</td>\n",
       "      <td>404.320007</td>\n",
       "      <td>4055800</td>\n",
       "      <td>21495100</td>\n",
       "      <td>4637800</td>\n",
       "      <td>21021200</td>\n",
       "    </tr>\n",
       "    <tr>\n",
       "      <th>2024-01-26</th>\n",
       "      <td>385.399994</td>\n",
       "      <td>153.789993</td>\n",
       "      <td>38.180000</td>\n",
       "      <td>403.184418</td>\n",
       "      <td>385.399994</td>\n",
       "      <td>153.789993</td>\n",
       "      <td>38.180000</td>\n",
       "      <td>403.929993</td>\n",
       "      <td>385.730011</td>\n",
       "      <td>154.110001</td>\n",
       "      <td>...</td>\n",
       "      <td>38.139999</td>\n",
       "      <td>402.429993</td>\n",
       "      <td>381.049988</td>\n",
       "      <td>152.869995</td>\n",
       "      <td>38.250000</td>\n",
       "      <td>404.369995</td>\n",
       "      <td>3621400</td>\n",
       "      <td>19494500</td>\n",
       "      <td>3288100</td>\n",
       "      <td>17803300</td>\n",
       "    </tr>\n",
       "    <tr>\n",
       "      <th>2024-01-29</th>\n",
       "      <td>383.179993</td>\n",
       "      <td>154.839996</td>\n",
       "      <td>38.459999</td>\n",
       "      <td>408.963715</td>\n",
       "      <td>383.179993</td>\n",
       "      <td>154.839996</td>\n",
       "      <td>38.459999</td>\n",
       "      <td>409.720001</td>\n",
       "      <td>385.700012</td>\n",
       "      <td>155.199997</td>\n",
       "      <td>...</td>\n",
       "      <td>38.240002</td>\n",
       "      <td>404.329987</td>\n",
       "      <td>385.489990</td>\n",
       "      <td>153.639999</td>\n",
       "      <td>38.459999</td>\n",
       "      <td>406.059998</td>\n",
       "      <td>3797400</td>\n",
       "      <td>20909300</td>\n",
       "      <td>3503900</td>\n",
       "      <td>24510200</td>\n",
       "    </tr>\n",
       "    <tr>\n",
       "      <th>2024-01-30</th>\n",
       "      <td>387.149994</td>\n",
       "      <td>153.050003</td>\n",
       "      <td>38.509998</td>\n",
       "      <td>407.835815</td>\n",
       "      <td>387.149994</td>\n",
       "      <td>153.050003</td>\n",
       "      <td>38.509998</td>\n",
       "      <td>408.589996</td>\n",
       "      <td>387.640015</td>\n",
       "      <td>155.039993</td>\n",
       "      <td>...</td>\n",
       "      <td>38.389999</td>\n",
       "      <td>406.450012</td>\n",
       "      <td>383.239990</td>\n",
       "      <td>154.009995</td>\n",
       "      <td>38.740002</td>\n",
       "      <td>412.260010</td>\n",
       "      <td>3090900</td>\n",
       "      <td>26578900</td>\n",
       "      <td>4125600</td>\n",
       "      <td>33477600</td>\n",
       "    </tr>\n",
       "    <tr>\n",
       "      <th>2024-01-31</th>\n",
       "      <td>383.739990</td>\n",
       "      <td>141.800003</td>\n",
       "      <td>38.490002</td>\n",
       "      <td>396.846130</td>\n",
       "      <td>383.739990</td>\n",
       "      <td>141.800003</td>\n",
       "      <td>38.490002</td>\n",
       "      <td>397.579987</td>\n",
       "      <td>387.920013</td>\n",
       "      <td>145.589996</td>\n",
       "      <td>...</td>\n",
       "      <td>38.419998</td>\n",
       "      <td>397.209991</td>\n",
       "      <td>386.529999</td>\n",
       "      <td>145.389999</td>\n",
       "      <td>38.669998</td>\n",
       "      <td>406.959991</td>\n",
       "      <td>3856400</td>\n",
       "      <td>43908600</td>\n",
       "      <td>9428800</td>\n",
       "      <td>47871100</td>\n",
       "    </tr>\n",
       "  </tbody>\n",
       "</table>\n",
       "<p>3543 rows × 24 columns</p>\n",
       "</div>"
      ],
      "text/plain": [
       "Price        Adj Close                                          Close  \\\n",
       "Ticker           BRK-B        GOOG        IAU        MSFT       BRK-B   \n",
       "Date                                                                    \n",
       "2010-01-04   66.220001   15.610239  21.978001   23.431589   66.220001   \n",
       "2010-01-05   66.540001   15.541497  21.954000   23.439163   66.540001   \n",
       "2010-01-06   66.199997   15.149715  22.326000   23.295319   66.199997   \n",
       "2010-01-07   66.459999   14.797037  22.181999   23.053057   66.459999   \n",
       "2010-01-08   66.440002   14.994298  22.290001   23.212038   66.440002   \n",
       "...                ...         ...        ...         ...         ...   \n",
       "2024-01-25  380.850006  153.639999  38.230000  404.122681  380.850006   \n",
       "2024-01-26  385.399994  153.789993  38.180000  403.184418  385.399994   \n",
       "2024-01-29  383.179993  154.839996  38.459999  408.963715  383.179993   \n",
       "2024-01-30  387.149994  153.050003  38.509998  407.835815  387.149994   \n",
       "2024-01-31  383.739990  141.800003  38.490002  396.846130  383.739990   \n",
       "\n",
       "Price                                                High              ...  \\\n",
       "Ticker            GOOG        IAU        MSFT       BRK-B        GOOG  ...   \n",
       "Date                                                                   ...   \n",
       "2010-01-04   15.610239  21.978001   30.950001   66.500000   15.678981  ...   \n",
       "2010-01-05   15.541497  21.954000   30.959999   66.589996   15.637387  ...   \n",
       "2010-01-06   15.149715  22.326000   30.770000   66.500000   15.588072  ...   \n",
       "2010-01-07   14.797037  22.181999   30.450001   66.510002   15.193053  ...   \n",
       "2010-01-08   14.994298  22.290001   30.660000   66.480003   15.024933  ...   \n",
       "...                ...        ...         ...         ...         ...  ...   \n",
       "2024-01-25  153.639999  38.230000  404.869995  380.989990  154.759995  ...   \n",
       "2024-01-26  153.789993  38.180000  403.929993  385.730011  154.110001  ...   \n",
       "2024-01-29  154.839996  38.459999  409.720001  385.700012  155.199997  ...   \n",
       "2024-01-30  153.050003  38.509998  408.589996  387.640015  155.039993  ...   \n",
       "2024-01-31  141.800003  38.490002  397.579987  387.920013  145.589996  ...   \n",
       "\n",
       "Price             Low                    Open                         \\\n",
       "Ticker            IAU        MSFT       BRK-B        GOOG        IAU   \n",
       "Date                                                                   \n",
       "2010-01-04  21.882000   30.590000   66.000000   15.615220  21.978001   \n",
       "2010-01-05  21.870001   30.639999   66.389999   15.620949  21.988001   \n",
       "2010-01-06  22.110001   30.520000   66.500000   15.588072  22.156000   \n",
       "2010-01-07  22.152000   30.190001   66.199997   15.178109  22.230000   \n",
       "2010-01-08  22.077999   30.240000   66.480003   14.744733  22.306000   \n",
       "...               ...         ...         ...         ...        ...   \n",
       "2024-01-25  38.080002  402.529999  379.239990  151.740005  38.270000   \n",
       "2024-01-26  38.139999  402.429993  381.049988  152.869995  38.250000   \n",
       "2024-01-29  38.240002  404.329987  385.489990  153.639999  38.459999   \n",
       "2024-01-30  38.389999  406.450012  383.239990  154.009995  38.740002   \n",
       "2024-01-31  38.419998  397.209991  386.529999  145.389999  38.669998   \n",
       "\n",
       "Price                    Volume                                \n",
       "Ticker            MSFT    BRK-B       GOOG      IAU      MSFT  \n",
       "Date                                                           \n",
       "2010-01-04   30.620001  1575000   78541293  1185000  38409100  \n",
       "2010-01-05   30.850000  1310000  120638494   936000  49749600  \n",
       "2010-01-06   30.879999  1760000  159744526  1091000  58182400  \n",
       "2010-01-07   30.629999  1505000  257533695   811500  50559700  \n",
       "2010-01-08   30.280001  1500000  189680313   737000  51197400  \n",
       "...                ...      ...        ...      ...       ...  \n",
       "2024-01-25  404.320007  4055800   21495100  4637800  21021200  \n",
       "2024-01-26  404.369995  3621400   19494500  3288100  17803300  \n",
       "2024-01-29  406.059998  3797400   20909300  3503900  24510200  \n",
       "2024-01-30  412.260010  3090900   26578900  4125600  33477600  \n",
       "2024-01-31  406.959991  3856400   43908600  9428800  47871100  \n",
       "\n",
       "[3543 rows x 24 columns]"
      ]
     },
     "metadata": {},
     "output_type": "display_data"
    }
   ],
   "source": [
    "# select tickers\n",
    "tickers = [\"BRK-B\", \"IAU\", \"MSFT\", \"GOOG\"] #GOOG, AMZN, AAPL, TSM, BAC, WFC, VALE, KO, JNJ, DG, DIS, SPY \n",
    "\n",
    "# date format YYYY-MM-DD\n",
    "start_date = \"2010-01-01\"\n",
    "end_date = \"2024-02-01\"\n",
    "\n",
    "# time interval to take the cotations, in this case monthly\n",
    "interval= \"1d\"\n",
    "\n",
    "stock_data = fetch_stock_data(tickers, start_date, end_date, interval)\n",
    "\n",
    "display(stock_data)"
   ]
  },
  {
   "cell_type": "code",
   "execution_count": 6,
   "id": "0d4cb0d2",
   "metadata": {},
   "outputs": [
    {
     "name": "stdout",
     "output_type": "stream",
     "text": [
      "<class 'pandas.core.frame.DataFrame'>\n",
      "DatetimeIndex: 3543 entries, 2010-01-04 to 2024-01-31\n",
      "Data columns (total 4 columns):\n",
      " #   Column  Non-Null Count  Dtype  \n",
      "---  ------  --------------  -----  \n",
      " 0   BRK-B   3543 non-null   float64\n",
      " 1   GOOG    3543 non-null   float64\n",
      " 2   IAU     3543 non-null   float64\n",
      " 3   MSFT    3543 non-null   float64\n",
      "dtypes: float64(4)\n",
      "memory usage: 138.4 KB\n"
     ]
    },
    {
     "data": {
      "text/html": [
       "<div>\n",
       "<style scoped>\n",
       "    .dataframe tbody tr th:only-of-type {\n",
       "        vertical-align: middle;\n",
       "    }\n",
       "\n",
       "    .dataframe tbody tr th {\n",
       "        vertical-align: top;\n",
       "    }\n",
       "\n",
       "    .dataframe thead th {\n",
       "        text-align: right;\n",
       "    }\n",
       "</style>\n",
       "<table border=\"1\" class=\"dataframe\">\n",
       "  <thead>\n",
       "    <tr style=\"text-align: right;\">\n",
       "      <th>Ticker</th>\n",
       "      <th>BRK-B</th>\n",
       "      <th>GOOG</th>\n",
       "      <th>IAU</th>\n",
       "      <th>MSFT</th>\n",
       "    </tr>\n",
       "    <tr>\n",
       "      <th>Date</th>\n",
       "      <th></th>\n",
       "      <th></th>\n",
       "      <th></th>\n",
       "      <th></th>\n",
       "    </tr>\n",
       "  </thead>\n",
       "  <tbody>\n",
       "    <tr>\n",
       "      <th>2010-01-04</th>\n",
       "      <td>66.220001</td>\n",
       "      <td>15.610239</td>\n",
       "      <td>21.978001</td>\n",
       "      <td>30.950001</td>\n",
       "    </tr>\n",
       "    <tr>\n",
       "      <th>2010-01-05</th>\n",
       "      <td>66.540001</td>\n",
       "      <td>15.541497</td>\n",
       "      <td>21.954000</td>\n",
       "      <td>30.959999</td>\n",
       "    </tr>\n",
       "    <tr>\n",
       "      <th>2010-01-06</th>\n",
       "      <td>66.199997</td>\n",
       "      <td>15.149715</td>\n",
       "      <td>22.326000</td>\n",
       "      <td>30.770000</td>\n",
       "    </tr>\n",
       "    <tr>\n",
       "      <th>2010-01-07</th>\n",
       "      <td>66.459999</td>\n",
       "      <td>14.797037</td>\n",
       "      <td>22.181999</td>\n",
       "      <td>30.450001</td>\n",
       "    </tr>\n",
       "    <tr>\n",
       "      <th>2010-01-08</th>\n",
       "      <td>66.440002</td>\n",
       "      <td>14.994298</td>\n",
       "      <td>22.290001</td>\n",
       "      <td>30.660000</td>\n",
       "    </tr>\n",
       "    <tr>\n",
       "      <th>...</th>\n",
       "      <td>...</td>\n",
       "      <td>...</td>\n",
       "      <td>...</td>\n",
       "      <td>...</td>\n",
       "    </tr>\n",
       "    <tr>\n",
       "      <th>2024-01-25</th>\n",
       "      <td>380.850006</td>\n",
       "      <td>153.639999</td>\n",
       "      <td>38.230000</td>\n",
       "      <td>404.869995</td>\n",
       "    </tr>\n",
       "    <tr>\n",
       "      <th>2024-01-26</th>\n",
       "      <td>385.399994</td>\n",
       "      <td>153.789993</td>\n",
       "      <td>38.180000</td>\n",
       "      <td>403.929993</td>\n",
       "    </tr>\n",
       "    <tr>\n",
       "      <th>2024-01-29</th>\n",
       "      <td>383.179993</td>\n",
       "      <td>154.839996</td>\n",
       "      <td>38.459999</td>\n",
       "      <td>409.720001</td>\n",
       "    </tr>\n",
       "    <tr>\n",
       "      <th>2024-01-30</th>\n",
       "      <td>387.149994</td>\n",
       "      <td>153.050003</td>\n",
       "      <td>38.509998</td>\n",
       "      <td>408.589996</td>\n",
       "    </tr>\n",
       "    <tr>\n",
       "      <th>2024-01-31</th>\n",
       "      <td>383.739990</td>\n",
       "      <td>141.800003</td>\n",
       "      <td>38.490002</td>\n",
       "      <td>397.579987</td>\n",
       "    </tr>\n",
       "  </tbody>\n",
       "</table>\n",
       "<p>3543 rows × 4 columns</p>\n",
       "</div>"
      ],
      "text/plain": [
       "Ticker           BRK-B        GOOG        IAU        MSFT\n",
       "Date                                                     \n",
       "2010-01-04   66.220001   15.610239  21.978001   30.950001\n",
       "2010-01-05   66.540001   15.541497  21.954000   30.959999\n",
       "2010-01-06   66.199997   15.149715  22.326000   30.770000\n",
       "2010-01-07   66.459999   14.797037  22.181999   30.450001\n",
       "2010-01-08   66.440002   14.994298  22.290001   30.660000\n",
       "...                ...         ...        ...         ...\n",
       "2024-01-25  380.850006  153.639999  38.230000  404.869995\n",
       "2024-01-26  385.399994  153.789993  38.180000  403.929993\n",
       "2024-01-29  383.179993  154.839996  38.459999  409.720001\n",
       "2024-01-30  387.149994  153.050003  38.509998  408.589996\n",
       "2024-01-31  383.739990  141.800003  38.490002  397.579987\n",
       "\n",
       "[3543 rows x 4 columns]"
      ]
     },
     "execution_count": 6,
     "metadata": {},
     "output_type": "execute_result"
    }
   ],
   "source": [
    "# select only the closing price\n",
    "df_close = stock_data.Close.copy()\n",
    "df_close.info()\n",
    "df_close"
   ]
  },
  {
   "cell_type": "markdown",
   "id": "087f16bf",
   "metadata": {
    "tags": []
   },
   "source": [
    "## Calculate returns"
   ]
  },
  {
   "cell_type": "markdown",
   "id": "2ed7053f",
   "metadata": {
    "jp-MarkdownHeadingCollapsed": true,
    "tags": []
   },
   "source": [
    "### Year-over-Year Return (YoY)"
   ]
  },
  {
   "cell_type": "code",
   "execution_count": 7,
   "id": "ee6e0edc",
   "metadata": {},
   "outputs": [
    {
     "data": {
      "text/html": [
       "<div>\n",
       "<style scoped>\n",
       "    .dataframe tbody tr th:only-of-type {\n",
       "        vertical-align: middle;\n",
       "    }\n",
       "\n",
       "    .dataframe tbody tr th {\n",
       "        vertical-align: top;\n",
       "    }\n",
       "\n",
       "    .dataframe thead th {\n",
       "        text-align: right;\n",
       "    }\n",
       "</style>\n",
       "<table border=\"1\" class=\"dataframe\">\n",
       "  <thead>\n",
       "    <tr style=\"text-align: right;\">\n",
       "      <th>Ticker</th>\n",
       "      <th>BRK-B</th>\n",
       "      <th>GOOG</th>\n",
       "      <th>IAU</th>\n",
       "      <th>MSFT</th>\n",
       "    </tr>\n",
       "    <tr>\n",
       "      <th>Date</th>\n",
       "      <th></th>\n",
       "      <th></th>\n",
       "      <th></th>\n",
       "      <th></th>\n",
       "    </tr>\n",
       "  </thead>\n",
       "  <tbody>\n",
       "    <tr>\n",
       "      <th>2011-01-03</th>\n",
       "      <td>0.214286</td>\n",
       "      <td>-0.035740</td>\n",
       "      <td>0.257621</td>\n",
       "      <td>-0.095961</td>\n",
       "    </tr>\n",
       "    <tr>\n",
       "      <th>2011-01-04</th>\n",
       "      <td>0.204839</td>\n",
       "      <td>-0.035049</td>\n",
       "      <td>0.229844</td>\n",
       "      <td>-0.092700</td>\n",
       "    </tr>\n",
       "    <tr>\n",
       "      <th>2011-01-05</th>\n",
       "      <td>0.222206</td>\n",
       "      <td>0.001332</td>\n",
       "      <td>0.205769</td>\n",
       "      <td>-0.090023</td>\n",
       "    </tr>\n",
       "  </tbody>\n",
       "</table>\n",
       "</div>"
      ],
      "text/plain": [
       "Ticker         BRK-B      GOOG       IAU      MSFT\n",
       "Date                                              \n",
       "2011-01-03  0.214286 -0.035740  0.257621 -0.095961\n",
       "2011-01-04  0.204839 -0.035049  0.229844 -0.092700\n",
       "2011-01-05  0.222206  0.001332  0.205769 -0.090023"
      ]
     },
     "execution_count": 7,
     "metadata": {},
     "output_type": "execute_result"
    }
   ],
   "source": [
    "returns_daily = (df_close\n",
    "                 .copy()\n",
    "                 .pct_change(periods=252)\n",
    "                 .dropna()\n",
    ")\n",
    "\n",
    "# display(returns_daily.describe())\n",
    "returns_daily.head(3)"
   ]
  },
  {
   "cell_type": "markdown",
   "id": "9df96ecf",
   "metadata": {
    "jp-MarkdownHeadingCollapsed": true,
    "tags": []
   },
   "source": [
    "## Fit distribution model - Returns"
   ]
  },
  {
   "cell_type": "code",
   "execution_count": 8,
   "id": "9f5be95f-35f6-405d-8552-111129cda2d9",
   "metadata": {
    "tags": []
   },
   "outputs": [],
   "source": [
    "def calculate_return_params(key):\n",
    "    sigma, loc, scale = lognorm.fit(returns_daily[key] + 1.0)    \n",
    "    return (sigma, loc, scale)"
   ]
  },
  {
   "cell_type": "code",
   "execution_count": 9,
   "id": "11bd8038-7957-4250-bda3-2d73bab85e6c",
   "metadata": {
    "tags": []
   },
   "outputs": [],
   "source": [
    "# Defining return dict to receive the fitting parameters from distributions\n",
    "params = (\"sigma\", \"loc\", \"scale\")\n",
    "return_fitting_params_lognormal = { key: dict( zip( params, calculate_return_params(key)) ) for key in tickers }"
   ]
  },
  {
   "cell_type": "code",
   "execution_count": 10,
   "id": "ed17997f-4b51-4138-803c-8320c521adf9",
   "metadata": {
    "tags": []
   },
   "outputs": [],
   "source": [
    "# return_fitting_params_lognormal"
   ]
  },
  {
   "cell_type": "markdown",
   "id": "e0dfe8ac-87ee-4d8b-8ea6-e2999bd496cc",
   "metadata": {
    "tags": []
   },
   "source": [
    "## Return plots"
   ]
  },
  {
   "cell_type": "markdown",
   "id": "d3ca33c2",
   "metadata": {
    "tags": []
   },
   "source": [
    "### Lognormal:"
   ]
  },
  {
   "cell_type": "code",
   "execution_count": 11,
   "id": "28e4a3e9-889e-44b9-8b1b-b0184e049431",
   "metadata": {
    "tags": []
   },
   "outputs": [
    {
     "data": {
      "image/png": "[encoded data removed]",
      "text/plain": [
       "<Figure size 1000x400 with 2 Axes>"
      ]
     },
     "metadata": {},
     "output_type": "display_data"
    }
   ],
   "source": [
    "# Plot the histogram of the returns_daily along with the fitted Gaussian distribution\n",
    "fig, axes = plt.subplots(nrows=1, ncols=2, figsize=(10, 4))\n",
    "tick0 = tickers[0]\n",
    "tick1 = tickers[2]\n",
    "# Fit a Gaussian distribution to the returns_daily\n",
    "plt.subplot(1, 2, 1)\n",
    "data = returns_daily[tick0] + 1.0\n",
    "sns.histplot(data= data, bins=30, stat=\"density\", kde=True, color='lightgreen', edgecolor='red')\n",
    "\n",
    "xmin, xmax = plt.xlim()\n",
    "x = np.linspace(xmin, xmax, 1000)\n",
    "p = lognorm.pdf(x, return_fitting_params_lognormal[tick0][\"sigma\"], loc= return_fitting_params_lognormal[tick0][\"loc\"], scale= return_fitting_params_lognormal[tick0][\"scale\"])\n",
    "\n",
    "plt.plot(x, p, 'k', label=\"fit-lognormal\", linewidth=1)\n",
    "plt.title(f\"{tick0} --> Fit results: sigma = %.2f,  loc = %.2f, scale = %.2f\" % (return_fitting_params_lognormal[tick0][\"sigma\"],\n",
    "                                                                                      return_fitting_params_lognormal[tick0][\"loc\"],\n",
    "                                                                                      return_fitting_params_lognormal[tick0][\"scale\"]))\n",
    "plt.ylabel(\"Probability Density Function\")\n",
    "plt.xlabel(\"1 + return - [a.a.]\")\n",
    "plt.legend()\n",
    "\n",
    "\n",
    "# Fit a Gaussian distribution to the returns_daily\n",
    "plt.subplot(1, 2, 2)\n",
    "data = returns_daily[tick1] + 1.0\n",
    "sns.histplot(data= data, bins=30, stat=\"density\", kde=True, color='lightgreen', edgecolor='red')\n",
    "\n",
    "xmin, xmax = plt.xlim()\n",
    "x = np.linspace(xmin, xmax, 1000)\n",
    "p = lognorm.pdf(x, return_fitting_params_lognormal[tick1][\"sigma\"], loc= return_fitting_params_lognormal[tick1][\"loc\"], scale= return_fitting_params_lognormal[tick1][\"scale\"])\n",
    "\n",
    "plt.plot(x, p, 'k', label=\"fit-lognormal\", linewidth=1)\n",
    "plt.title(f\"{tick1} --> Fit results: sigma = %.2f,  loc = %.2f, scale = %.2f\" % (return_fitting_params_lognormal[tick1][\"sigma\"],\n",
    "                                                                                      return_fitting_params_lognormal[tick1][\"loc\"],\n",
    "                                                                                      return_fitting_params_lognormal[tick1][\"scale\"]))\n",
    "plt.ylabel(\"Probability Density Function\")\n",
    "plt.xlabel(\"1 + return - [a.a.]\")\n",
    "plt.legend()\n",
    "\n",
    "fig.tight_layout()\n",
    "fig.subplots_adjust(wspace=0.5)\n",
    "plt.show()"
   ]
  },
  {
   "cell_type": "markdown",
   "id": "14bedc32-9f46-43cc-8c33-57a98d1fbd20",
   "metadata": {
    "jp-MarkdownHeadingCollapsed": true,
    "tags": []
   },
   "source": [
    "## Generate samples from distributions models"
   ]
  },
  {
   "cell_type": "code",
   "execution_count": 12,
   "id": "8aa3c34f-775e-4ab9-8b91-517afdf91a4e",
   "metadata": {
    "tags": []
   },
   "outputs": [],
   "source": [
    "# Number of samples\n",
    "num_samples = 1_000"
   ]
  },
  {
   "cell_type": "code",
   "execution_count": 13,
   "id": "bc06aa4f-32d4-444f-bc1e-705a2781b0f4",
   "metadata": {},
   "outputs": [],
   "source": [
    "def calculate_return_samples(ticker, num_samples=1_000):\n",
    "    sigma   = return_fitting_params_lognormal[ticker][\"sigma\"]\n",
    "    loc     = return_fitting_params_lognormal[ticker][\"loc\"]\n",
    "    scale   = return_fitting_params_lognormal[ticker][\"scale\"]\n",
    "    samples = lognorm.rvs(sigma, loc=loc, scale=scale, size=num_samples) - 1.0\n",
    "    return samples\n",
    "\n",
    "# Defining return dict to receive the samples from distributions models builted with their respective parameters\n",
    "return_samples_lognormal = { ticker: calculate_return_samples(ticker, num_samples) for ticker in tickers }\n"
   ]
  },
  {
   "cell_type": "markdown",
   "id": "3167ea43-4e7c-4297-be3f-9abc8d015b85",
   "metadata": {
    "tags": []
   },
   "source": [
    "## Plot - Compare data vs model"
   ]
  },
  {
   "cell_type": "markdown",
   "id": "9eebbb50-1c61-4ba7-879b-f2fb6fd27f72",
   "metadata": {
    "tags": []
   },
   "source": [
    "### Returns:"
   ]
  },
  {
   "cell_type": "code",
   "execution_count": 14,
   "id": "495f9e46-6f61-46da-a34a-ad459e0db118",
   "metadata": {},
   "outputs": [
    {
     "data": {
      "image/png": "[encoded data removed]",
      "text/plain": [
       "<Figure size 1000x500 with 1 Axes>"
      ]
     },
     "metadata": {},
     "output_type": "display_data"
    }
   ],
   "source": [
    "# Find the best parameters when fitting the model to the data\n",
    "data = returns_daily[tickers[0]] + 1.0\n",
    "sigma, loc, scale = lognorm.fit(data)\n",
    "\n",
    "# Generate samples based on the parameters find previously\n",
    "n_samples = 100_000\n",
    "samples = lognorm.rvs(sigma, loc=loc, scale=scale, size=n_samples)\n",
    "\n",
    "# Plot the histogram of the generated samples\n",
    "plt.figure(figsize=(10,5))\n",
    "sns.histplot(data, bins=30, stat=\"density\", color='lightblue', edgecolor='lightblue', label=\"data samples\")\n",
    "sns.histplot(samples, bins=30, stat=\"density\", kde=True, color='lightgreen', edgecolor='lightgreen', alpha=0.3, label=\"lognormal samples\")\n",
    "\n",
    "# Plot the PDF of the lognormal distribution for comparison\n",
    "xmin, xmax = plt.xlim()\n",
    "x = np.linspace(xmin, xmax, 100)\n",
    "pdf = lognorm.pdf(x, sigma, loc= loc, scale= scale)\n",
    "\n",
    "plt.plot(x, pdf, 'k', linewidth=2, label=\"lognormal curve\")\n",
    "plt.title(f\"{tickers[0]} --> Fit results: sigma = %.2f,  loc = %.2f, scale = %.2f\" % (sigma, loc, scale))\n",
    "plt.ylabel(\"Density\")\n",
    "plt.xlabel(\"1 + return - [a.a.]\")\n",
    "plt.legend()\n",
    "plt.show()"
   ]
  },
  {
   "cell_type": "markdown",
   "id": "07e46ae0-2b2f-466d-86ed-67e3738f4b68",
   "metadata": {
    "tags": []
   },
   "source": [
    "## Monte carlo simulation"
   ]
  },
  {
   "cell_type": "markdown",
   "id": "c9479534-7486-4f50-8a34-8b1d937d68fe",
   "metadata": {},
   "source": [
    "### Equations:\n",
    "<br>\n",
    "\n",
    "- **Portfolio Return**:\n",
    "<br>\n",
    "$$ R_P = {\\omega}^T \\cdot R $$\n",
    "<br>\n",
    "with $R_P$ being the return of the portfolio, $\\omega$ the weights and $R$ the returns of the assets. Each one are given by:\n",
    "<br><br>\n",
    "\n",
    "<table>\n",
    "  <tr>\n",
    "    <td>\n",
    "      $$\n",
    "        \\omega = \\begin{bmatrix}\n",
    "                {\\omega}_A \\\\\n",
    "                {\\omega}_B \\\\\n",
    "                {\\omega}_C \\\\\n",
    "        \\end{bmatrix},\n",
    "      $$\n",
    "    </td>\n",
    "    <td>\n",
    "      and\n",
    "    </td>\n",
    "    <td>\n",
    "    $$\n",
    "        R = \\begin{bmatrix}\n",
    "                R_A \\\\\n",
    "                R_B \\\\\n",
    "                R_C \\\\\n",
    "        \\end{bmatrix}.\n",
    "    $$\n",
    "    </td>\n",
    "  </tr>\n",
    "</table>\n",
    "\n",
    "<br>\n",
    "\n",
    "- **Portfolio Risk**: \n",
    "<br>\n",
    "$$ {{\\sigma}^2_P} = {\\omega}^T \\cdot \\Sigma \\cdot \\omega $$\n",
    "<br>\n",
    "in wich ${{\\sigma}^2_P}$ is the variance of the portfolio and $\\Sigma$ is the covariance matrix of the assets. The covariance matrix is given by:\n",
    "<br>\n",
    "<br>\n",
    "$$ \\Sigma = \\begin{bmatrix}\n",
    "                {{\\sigma}^2_A} & cov(A,B) & cov(A,C) \\\\\n",
    "                cov(A,B) & {{\\sigma}^2_B} & cov(B,C) \\\\\n",
    "                cov(A,C) & cov(B,C) & {{\\sigma}^2_C} \\\\\n",
    "            \\end{bmatrix}.\n",
    "$$\n",
    "<br>\n",
    "\n",
    "\n"
   ]
  },
  {
   "cell_type": "markdown",
   "id": "3a4dd00b-332a-4ad0-9325-6edfe4b6fc0f",
   "metadata": {
    "tags": []
   },
   "source": [
    "## Generate asset weights"
   ]
  },
  {
   "cell_type": "code",
   "execution_count": 15,
   "id": "972e1d1e-f2fd-4b95-8f07-bf4d43e4e14b",
   "metadata": {},
   "outputs": [
    {
     "data": {
      "text/plain": [
       "(4, 1000)"
      ]
     },
     "execution_count": 15,
     "metadata": {},
     "output_type": "execute_result"
    }
   ],
   "source": [
    "def make_wight_matrix(n_tickers, n_samples=1_000):\n",
    "    rand_values = uniform.rvs(size= int(n_tickers * n_samples)).reshape((n_tickers, n_samples))\n",
    "    normalized_values = rand_values / rand_values.sum(axis=0, keepdims=True)\n",
    "    return normalized_values\n",
    "\n",
    "# Matrix of the weights\n",
    "weight_matrix = make_wight_matrix(len(tickers), num_samples)\n",
    "weight_matrix.shape"
   ]
  },
  {
   "cell_type": "markdown",
   "id": "13a1de10-cb1d-46cb-ac5c-3a299d4440b7",
   "metadata": {
    "tags": []
   },
   "source": [
    "## Build Assets Return Matrix"
   ]
  },
  {
   "cell_type": "code",
   "execution_count": 16,
   "id": "32c10d37-cb6e-4673-a3ef-704e8efdfb39",
   "metadata": {
    "tags": []
   },
   "outputs": [
    {
     "data": {
      "text/plain": [
       "array([[ 0.1014917 ,  0.20303024, -0.01569645,  0.66586696,  0.07172532],\n",
       "       [ 0.09890527,  0.06101165, -0.11693893, -0.08572564, -0.00853854],\n",
       "       [ 0.65595217,  0.37905237,  0.08077289, -0.08114626,  0.04893055],\n",
       "       [-0.14045985,  0.62563946,  0.38490931,  0.0251564 , -0.18960001]])"
      ]
     },
     "execution_count": 16,
     "metadata": {},
     "output_type": "execute_result"
    }
   ],
   "source": [
    "# Create empty array with the final shape\n",
    "assets_return_matrix = np.zeros((len(tickers), num_samples), dtype=np.float64)\n",
    "\n",
    "# Map the values in the dictionary to the new array\n",
    "for row, ticker in zip(range(len(tickers)), tickers):\n",
    "    assets_return_matrix[row, :] = return_samples_lognormal[ticker].reshape(1, num_samples)\n",
    "\n",
    "assets_return_matrix[:, :5]"
   ]
  },
  {
   "cell_type": "markdown",
   "id": "ed0f4cbf-863b-49f2-8985-47b58eab0ce0",
   "metadata": {
    "tags": []
   },
   "source": [
    "## Portfolio Return"
   ]
  },
  {
   "cell_type": "code",
   "execution_count": 26,
   "id": "e4419ff5-2c2d-41c1-aeef-0b9ac5d38b92",
   "metadata": {
    "tags": []
   },
   "outputs": [
    {
     "data": {
      "text/plain": [
       "(1000000,)"
      ]
     },
     "execution_count": 26,
     "metadata": {},
     "output_type": "execute_result"
    }
   ],
   "source": [
    "# # Matrix of the returns\n",
    "portfolio_return = weight_matrix.T.dot(assets_return_matrix).reshape(-1)\n",
    "portfolio_return.shape"
   ]
  },
  {
   "cell_type": "code",
   "execution_count": 30,
   "id": "cd4f9ae7-402a-4796-aa08-18df8d655aed",
   "metadata": {
    "tags": []
   },
   "outputs": [
    {
     "data": {
      "image/png": "[encoded data removed]",
      "text/plain": [
       "<Figure size 640x480 with 1 Axes>"
      ]
     },
     "metadata": {},
     "output_type": "display_data"
    }
   ],
   "source": [
    "# Plot\n",
    "sns.histplot(portfolio_return, bins=50, stat=\"density\", kde=True, color='lightgreen', edgecolor='lightgreen', alpha=0.3, label=f\"Assets: {tickers}\")\n",
    "\n",
    "threshold = 0.0\n",
    "return_threshold = np.count_nonzero(portfolio_return > threshold) / np.max(portfolio_return.shape)\n",
    "\n",
    "plt.title(f\"Portfolio Risk - Prob(return >= {threshold}%) = {int(100 * return_threshold)}.0%\")\n",
    "plt.ylabel(\"Probability density function\")\n",
    "plt.xlabel(\"return [a.a.]\")\n",
    "plt.legend()\n",
    "plt.show()"
   ]
  },
  {
   "cell_type": "code",
   "execution_count": null,
   "id": "2420032a-e17b-4f91-b85e-46d356e1e358",
   "metadata": {},
   "outputs": [],
   "source": []
  },
  {
   "cell_type": "code",
   "execution_count": null,
   "id": "e9e53b2c-b2ee-48fb-8905-424cf3332c4b",
   "metadata": {},
   "outputs": [],
   "source": []
  },
  {
   "cell_type": "code",
   "execution_count": null,
   "id": "3b7be79c-79a1-40a3-8526-74bd49cb1337",
   "metadata": {},
   "outputs": [],
   "source": []
  },
  {
   "cell_type": "code",
   "execution_count": null,
   "id": "74713047-6af1-4651-9e78-6bb35c19db5f",
   "metadata": {},
   "outputs": [],
   "source": []
  },
  {
   "cell_type": "code",
   "execution_count": null,
   "id": "0379c84b-16c6-408d-8778-1b37f731d32b",
   "metadata": {},
   "outputs": [],
   "source": []
  },
  {
   "cell_type": "code",
   "execution_count": null,
   "id": "a6f909e0-3449-49fd-8daa-998760a244df",
   "metadata": {},
   "outputs": [],
   "source": []
  },
  {
   "cell_type": "code",
   "execution_count": null,
   "id": "a9a74861-30d1-4323-8b91-6aba8249d15e",
   "metadata": {
    "tags": []
   },
   "outputs": [],
   "source": []
  },
  {
   "cell_type": "code",
   "execution_count": null,
   "id": "d082e0db-86a2-4042-8064-5558cf8733be",
   "metadata": {},
   "outputs": [],
   "source": []
  }
 ],
 "metadata": {
  "kernelspec": {
   "display_name": "Python 3 (ipykernel)",
   "language": "python",
   "name": "python3"
  },
  "language_info": {
   "codemirror_mode": {
    "name": "ipython",
    "version": 3
   },
   "file_extension": ".py",
   "mimetype": "text/x-python",
   "name": "python",
   "nbconvert_exporter": "python",
   "pygments_lexer": "ipython3",
   "version": "3.11.5"
  },
  "toc-showtags": false
 },
 "nbformat": 4,
 "nbformat_minor": 5
}
