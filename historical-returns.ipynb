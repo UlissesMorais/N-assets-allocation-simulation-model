{
 "cells": [
  {
   "cell_type": "markdown",
   "id": "99812ce1",
   "metadata": {
    "jp-MarkdownHeadingCollapsed": true,
    "tags": []
   },
   "source": [
    "## Import libraries"
   ]
  },
  {
   "cell_type": "code",
   "execution_count": null,
   "id": "45cb3566",
   "metadata": {},
   "outputs": [],
   "source": [
    "import pandas as pd\n",
    "import numpy as np\n",
    "import matplotlib.pyplot as plt\n",
    "import seaborn as sns\n",
    "import yfinance as yf\n",
    "from scipy.stats import norm, lognorm, uniform"
   ]
  },
  {
   "cell_type": "code",
   "execution_count": null,
   "id": "9b15e74b",
   "metadata": {},
   "outputs": [],
   "source": [
    "print(\"Yfinance version: \" , yf.__version__)"
   ]
  },
  {
   "cell_type": "code",
   "execution_count": null,
   "id": "a2172057-48b5-4a35-a2e1-d74bde21f569",
   "metadata": {
    "tags": []
   },
   "outputs": [],
   "source": [
    "# Set default parameters for plt.title()\n",
    "plt.rcParams['axes.titlepad'] = 12  # Set padding around the title\n",
    "plt.rcParams['axes.titleweight'] = 'normal'  # Set title font size\n",
    "plt.rcParams['axes.titlesize'] = 9  # Set title font size"
   ]
  },
  {
   "cell_type": "markdown",
   "id": "90a60dac",
   "metadata": {
    "tags": []
   },
   "source": [
    "## Fetch cotation data"
   ]
  },
  {
   "cell_type": "code",
   "execution_count": null,
   "id": "2be220cb",
   "metadata": {},
   "outputs": [],
   "source": [
    "def fetch_stock_data(tickers, start_date, end_date, interval):\n",
    "    data = yf.download(tickers, start=start_date, end=end_date, interval=interval)\n",
    "    return data"
   ]
  },
  {
   "cell_type": "code",
   "execution_count": null,
   "id": "b158dd00",
   "metadata": {},
   "outputs": [],
   "source": [
    "# select tickers\n",
    "tickers = [\"IAU\", \"GOOG\", \"MSFT\", \"BRK-B\", \"KO\", \"JNJ\", \"DG\", \"DIS\"] #, \"BRK-B\", \"IAU\", \"GOOG\", \"AMZN\", \"AAPL\", \"TSM\", \"BAC\", \"WFC\"]  #VALE, KO, JNJ, DG, DIS, SPY \n",
    "\n",
    "# date format YYYY-MM-DD\n",
    "start_date = \"2010-01-01\"\n",
    "end_date = \"2024-02-01\"\n",
    "\n",
    "# time interval to take the cotations, in this case monthly\n",
    "interval= \"1d\"\n",
    "\n",
    "stock_data = fetch_stock_data(tickers, start_date, end_date, interval)\n",
    "\n",
    "display(stock_data)"
   ]
  },
  {
   "cell_type": "code",
   "execution_count": null,
   "id": "0d4cb0d2",
   "metadata": {},
   "outputs": [],
   "source": [
    "# select only the closing price\n",
    "df_close = stock_data.Close.copy()\n",
    "df_close.info()\n",
    "df_close"
   ]
  },
  {
   "cell_type": "markdown",
   "id": "087f16bf",
   "metadata": {
    "tags": []
   },
   "source": [
    "## Calculate returns"
   ]
  },
  {
   "cell_type": "markdown",
   "id": "2ed7053f",
   "metadata": {
    "jp-MarkdownHeadingCollapsed": true,
    "tags": []
   },
   "source": [
    "### Year-over-Year Return (YoY)"
   ]
  },
  {
   "cell_type": "code",
   "execution_count": null,
   "id": "ee6e0edc",
   "metadata": {},
   "outputs": [],
   "source": [
    "returns_daily = (df_close\n",
    "                 .copy()\n",
    "                 .pct_change(periods=252)\n",
    "                 .dropna()\n",
    ")\n",
    "\n",
    "# display(returns_daily.describe())\n",
    "returns_daily.head(3)"
   ]
  },
  {
   "cell_type": "markdown",
   "id": "9df96ecf",
   "metadata": {
    "jp-MarkdownHeadingCollapsed": true,
    "tags": []
   },
   "source": [
    "## Fit distribution model - Returns"
   ]
  },
  {
   "cell_type": "code",
   "execution_count": null,
   "id": "9f5be95f-35f6-405d-8552-111129cda2d9",
   "metadata": {
    "tags": []
   },
   "outputs": [],
   "source": [
    "def calculate_return_params(key):\n",
    "    sigma, loc, scale = lognorm.fit(returns_daily[key] + 1.0)    \n",
    "    return (sigma, loc, scale)"
   ]
  },
  {
   "cell_type": "code",
   "execution_count": null,
   "id": "11bd8038-7957-4250-bda3-2d73bab85e6c",
   "metadata": {
    "tags": []
   },
   "outputs": [],
   "source": [
    "# Defining return dict to receive the fitting parameters from distributions\n",
    "params = (\"sigma\", \"loc\", \"scale\")\n",
    "return_fitting_params_lognormal = { key: dict( zip( params, calculate_return_params(key)) ) for key in tickers }"
   ]
  },
  {
   "cell_type": "code",
   "execution_count": null,
   "id": "ed17997f-4b51-4138-803c-8320c521adf9",
   "metadata": {
    "tags": []
   },
   "outputs": [],
   "source": [
    "# return_fitting_params_lognormal"
   ]
  },
  {
   "cell_type": "markdown",
   "id": "e0dfe8ac-87ee-4d8b-8ea6-e2999bd496cc",
   "metadata": {
    "tags": []
   },
   "source": [
    "## Return plots"
   ]
  },
  {
   "cell_type": "markdown",
   "id": "d3ca33c2",
   "metadata": {
    "jp-MarkdownHeadingCollapsed": true,
    "tags": []
   },
   "source": [
    "### Lognormal:"
   ]
  },
  {
   "cell_type": "code",
   "execution_count": null,
   "id": "28e4a3e9-889e-44b9-8b1b-b0184e049431",
   "metadata": {
    "tags": []
   },
   "outputs": [],
   "source": [
    "# Plot the histogram of the returns_daily along with the fitted Gaussian distribution\n",
    "fig, axes = plt.subplots(nrows=1, ncols=2, figsize=(10, 4))\n",
    "tick0 = tickers[0]\n",
    "tick1 = tickers[2]\n",
    "# Fit a Gaussian distribution to the returns_daily\n",
    "plt.subplot(1, 2, 1)\n",
    "data = returns_daily[tick0] + 1.0\n",
    "sns.histplot(data= data, bins=30, stat=\"density\", kde=True, color='lightgreen', edgecolor='red')\n",
    "\n",
    "xmin, xmax = plt.xlim()\n",
    "x = np.linspace(xmin, xmax, 1000)\n",
    "p = lognorm.pdf(x, return_fitting_params_lognormal[tick0][\"sigma\"], loc= return_fitting_params_lognormal[tick0][\"loc\"], scale= return_fitting_params_lognormal[tick0][\"scale\"])\n",
    "\n",
    "plt.plot(x, p, 'k', label=\"fit-lognormal\", linewidth=1)\n",
    "plt.title(f\"{tick0} --> Fit results: sigma = %.2f,  loc = %.2f, scale = %.2f\" % (return_fitting_params_lognormal[tick0][\"sigma\"],\n",
    "                                                                                      return_fitting_params_lognormal[tick0][\"loc\"],\n",
    "                                                                                      return_fitting_params_lognormal[tick0][\"scale\"]))\n",
    "plt.ylabel(\"Probability Density Function\")\n",
    "plt.xlabel(\"1 + return - [a.a.]\")\n",
    "plt.legend()\n",
    "\n",
    "\n",
    "# Fit a Gaussian distribution to the returns_daily\n",
    "plt.subplot(1, 2, 2)\n",
    "data = returns_daily[tick1] + 1.0\n",
    "sns.histplot(data= data, bins=30, stat=\"density\", kde=True, color='lightgreen', edgecolor='red')\n",
    "\n",
    "xmin, xmax = plt.xlim()\n",
    "x = np.linspace(xmin, xmax, 1000)\n",
    "p = lognorm.pdf(x, return_fitting_params_lognormal[tick1][\"sigma\"], loc= return_fitting_params_lognormal[tick1][\"loc\"], scale= return_fitting_params_lognormal[tick1][\"scale\"])\n",
    "\n",
    "plt.plot(x, p, 'k', label=\"fit-lognormal\", linewidth=1)\n",
    "plt.title(f\"{tick1} --> Fit results: sigma = %.2f,  loc = %.2f, scale = %.2f\" % (return_fitting_params_lognormal[tick1][\"sigma\"],\n",
    "                                                                                      return_fitting_params_lognormal[tick1][\"loc\"],\n",
    "                                                                                      return_fitting_params_lognormal[tick1][\"scale\"]))\n",
    "plt.ylabel(\"Probability Density Function\")\n",
    "plt.xlabel(\"1 + return - [a.a.]\")\n",
    "plt.legend()\n",
    "\n",
    "fig.tight_layout()\n",
    "fig.subplots_adjust(wspace=0.5)\n",
    "plt.show()"
   ]
  },
  {
   "cell_type": "markdown",
   "id": "14bedc32-9f46-43cc-8c33-57a98d1fbd20",
   "metadata": {
    "jp-MarkdownHeadingCollapsed": true,
    "tags": []
   },
   "source": [
    "## Generate samples from distributions models"
   ]
  },
  {
   "cell_type": "code",
   "execution_count": null,
   "id": "8aa3c34f-775e-4ab9-8b91-517afdf91a4e",
   "metadata": {
    "tags": []
   },
   "outputs": [],
   "source": [
    "# Number of samples\n",
    "num_samples = 1_000"
   ]
  },
  {
   "cell_type": "code",
   "execution_count": null,
   "id": "bc06aa4f-32d4-444f-bc1e-705a2781b0f4",
   "metadata": {},
   "outputs": [],
   "source": [
    "def calculate_return_samples(ticker, num_samples=1_000):\n",
    "    sigma   = return_fitting_params_lognormal[ticker][\"sigma\"]\n",
    "    loc     = return_fitting_params_lognormal[ticker][\"loc\"]\n",
    "    scale   = return_fitting_params_lognormal[ticker][\"scale\"]\n",
    "    samples = lognorm.rvs(sigma, loc=loc, scale=scale, size=num_samples) - 1.0\n",
    "    return samples\n",
    "\n",
    "# Defining return dict to receive the samples from distributions models builted with their respective parameters\n",
    "return_samples_lognormal = { ticker: calculate_return_samples(ticker, num_samples) for ticker in tickers }\n"
   ]
  },
  {
   "cell_type": "markdown",
   "id": "3167ea43-4e7c-4297-be3f-9abc8d015b85",
   "metadata": {
    "tags": []
   },
   "source": [
    "## Plot - Compare data vs model"
   ]
  },
  {
   "cell_type": "markdown",
   "id": "9eebbb50-1c61-4ba7-879b-f2fb6fd27f72",
   "metadata": {
    "jp-MarkdownHeadingCollapsed": true,
    "tags": []
   },
   "source": [
    "### Returns:"
   ]
  },
  {
   "cell_type": "code",
   "execution_count": null,
   "id": "495f9e46-6f61-46da-a34a-ad459e0db118",
   "metadata": {},
   "outputs": [],
   "source": [
    "# Find the best parameters when fitting the model to the data\n",
    "data = returns_daily[tickers[0]] + 1.0\n",
    "sigma, loc, scale = lognorm.fit(data)\n",
    "\n",
    "# Generate samples based on the parameters find previously\n",
    "n_samples = 100_000\n",
    "samples = lognorm.rvs(sigma, loc=loc, scale=scale, size=n_samples)\n",
    "\n",
    "# Plot the histogram of the generated samples\n",
    "plt.figure(figsize=(10,5))\n",
    "sns.histplot(data, bins=30, stat=\"density\", color='lightblue', edgecolor='lightblue', label=\"data samples\")\n",
    "sns.histplot(samples, bins=30, stat=\"density\", kde=True, color='lightgreen', edgecolor='lightgreen', alpha=0.3, label=\"lognormal samples\")\n",
    "\n",
    "# Plot the PDF of the lognormal distribution for comparison\n",
    "xmin, xmax = plt.xlim()\n",
    "x = np.linspace(xmin, xmax, 100)\n",
    "pdf = lognorm.pdf(x, sigma, loc= loc, scale= scale)\n",
    "\n",
    "plt.plot(x, pdf, 'k', linewidth=2, label=\"lognormal curve\")\n",
    "plt.title(f\"{tickers[0]} --> Fit results: sigma = %.2f,  loc = %.2f, scale = %.2f\" % (sigma, loc, scale))\n",
    "plt.ylabel(\"Density\")\n",
    "plt.xlabel(\"1 + return - [a.a.]\")\n",
    "plt.legend()\n",
    "plt.show()"
   ]
  },
  {
   "cell_type": "markdown",
   "id": "07e46ae0-2b2f-466d-86ed-67e3738f4b68",
   "metadata": {
    "tags": []
   },
   "source": [
    "## Monte carlo simulation"
   ]
  },
  {
   "cell_type": "markdown",
   "id": "c9479534-7486-4f50-8a34-8b1d937d68fe",
   "metadata": {},
   "source": [
    "### Equations:\n",
    "<br>\n",
    "\n",
    "- **Portfolio Return**:\n",
    "<br>\n",
    "$$ R_P = {\\omega}^T \\cdot R $$\n",
    "<br>\n",
    "with $R_P$ being the return of the portfolio, $\\omega$ the weights and $R$ the returns of the assets. Each one are given by:\n",
    "<br><br>\n",
    "\n",
    "<table>\n",
    "  <tr>\n",
    "    <td>\n",
    "      $$\n",
    "        \\omega = \\begin{bmatrix}\n",
    "                {\\omega}_A \\\\\n",
    "                {\\omega}_B \\\\\n",
    "                {\\omega}_C \\\\\n",
    "        \\end{bmatrix},\n",
    "      $$\n",
    "    </td>\n",
    "    <td>\n",
    "      and\n",
    "    </td>\n",
    "    <td>\n",
    "    $$\n",
    "        R = \\begin{bmatrix}\n",
    "                R_A \\\\\n",
    "                R_B \\\\\n",
    "                R_C \\\\\n",
    "        \\end{bmatrix}.\n",
    "    $$\n",
    "    </td>\n",
    "  </tr>\n",
    "</table>\n",
    "\n",
    "<br>\n",
    "\n",
    "- **Portfolio Risk**: \n",
    "<br>\n",
    "$$ {{\\sigma}^2_P} = {\\omega}^T \\cdot \\Sigma \\cdot \\omega $$\n",
    "<br>\n",
    "in wich ${{\\sigma}^2_P}$ is the variance of the portfolio and $\\Sigma$ is the covariance matrix of the assets. The covariance matrix is given by:\n",
    "<br>\n",
    "<br>\n",
    "$$ \\Sigma = \\begin{bmatrix}\n",
    "                {{\\sigma}^2_A} & cov(A,B) & cov(A,C) \\\\\n",
    "                cov(A,B) & {{\\sigma}^2_B} & cov(B,C) \\\\\n",
    "                cov(A,C) & cov(B,C) & {{\\sigma}^2_C} \\\\\n",
    "            \\end{bmatrix}.\n",
    "$$\n",
    "<br>\n",
    "\n",
    "\n"
   ]
  },
  {
   "cell_type": "markdown",
   "id": "3a4dd00b-332a-4ad0-9325-6edfe4b6fc0f",
   "metadata": {
    "jp-MarkdownHeadingCollapsed": true,
    "tags": []
   },
   "source": [
    "## Generate asset weights"
   ]
  },
  {
   "cell_type": "code",
   "execution_count": null,
   "id": "972e1d1e-f2fd-4b95-8f07-bf4d43e4e14b",
   "metadata": {},
   "outputs": [],
   "source": [
    "def make_wight_matrix(n_tickers, n_samples=1_000):\n",
    "    rand_values = uniform.rvs(size= int(n_tickers * n_samples)).reshape((n_tickers, n_samples))\n",
    "    normalized_values = rand_values / rand_values.sum(axis=0, keepdims=True)\n",
    "    return normalized_values\n",
    "\n",
    "# Matrix of the weights\n",
    "weight_matrix = make_wight_matrix(len(tickers), num_samples)\n",
    "weight_matrix.shape"
   ]
  },
  {
   "cell_type": "markdown",
   "id": "13a1de10-cb1d-46cb-ac5c-3a299d4440b7",
   "metadata": {
    "jp-MarkdownHeadingCollapsed": true,
    "tags": []
   },
   "source": [
    "## Build Assets Return Matrix"
   ]
  },
  {
   "cell_type": "code",
   "execution_count": null,
   "id": "32c10d37-cb6e-4673-a3ef-704e8efdfb39",
   "metadata": {
    "tags": []
   },
   "outputs": [],
   "source": [
    "# Create empty array with the final shape\n",
    "assets_return_matrix = np.zeros((len(tickers), num_samples), dtype=np.float64)\n",
    "\n",
    "# Map the values in the dictionary to the new array\n",
    "for row, ticker in zip(range(len(tickers)), tickers):\n",
    "    assets_return_matrix[row, :] = return_samples_lognormal[ticker].reshape(1, num_samples)\n",
    "\n",
    "assets_return_matrix[:, :5]"
   ]
  },
  {
   "cell_type": "markdown",
   "id": "ed0f4cbf-863b-49f2-8985-47b58eab0ce0",
   "metadata": {
    "tags": []
   },
   "source": [
    "## Portfolio Return"
   ]
  },
  {
   "cell_type": "code",
   "execution_count": null,
   "id": "e4419ff5-2c2d-41c1-aeef-0b9ac5d38b92",
   "metadata": {
    "tags": []
   },
   "outputs": [],
   "source": [
    "# # Matrix of the returns\n",
    "portfolio_return = weight_matrix.T.dot(assets_return_matrix).reshape(-1)\n",
    "portfolio_return.shape"
   ]
  },
  {
   "cell_type": "code",
   "execution_count": null,
   "id": "cd4f9ae7-402a-4796-aa08-18df8d655aed",
   "metadata": {
    "tags": []
   },
   "outputs": [],
   "source": [
    "# Plot\n",
    "sns.histplot(portfolio_return, bins=50, stat=\"density\", kde=True, color='lightgreen', edgecolor='lightgreen', alpha=0.3, label=f\"Assets: {tickers}\")\n",
    "\n",
    "threshold = 0.1\n",
    "return_threshold = np.count_nonzero(portfolio_return > threshold) / np.max(portfolio_return.shape)\n",
    "\n",
    "plt.title(f\"Portfolio Return - Prob(return >= {int(threshold * 100)}%) = {int(100 * return_threshold)}.0%\")\n",
    "plt.ylabel(\"Probability density function\")\n",
    "plt.xlabel(\"return [a.a.]\")\n",
    "plt.legend(loc=\"upper right\")\n",
    "plt.show()"
   ]
  },
  {
   "cell_type": "code",
   "execution_count": null,
   "id": "2420032a-e17b-4f91-b85e-46d356e1e358",
   "metadata": {},
   "outputs": [],
   "source": []
  },
  {
   "cell_type": "code",
   "execution_count": null,
   "id": "e9e53b2c-b2ee-48fb-8905-424cf3332c4b",
   "metadata": {},
   "outputs": [],
   "source": []
  },
  {
   "cell_type": "code",
   "execution_count": null,
   "id": "3b7be79c-79a1-40a3-8526-74bd49cb1337",
   "metadata": {},
   "outputs": [],
   "source": []
  },
  {
   "cell_type": "code",
   "execution_count": null,
   "id": "74713047-6af1-4651-9e78-6bb35c19db5f",
   "metadata": {},
   "outputs": [],
   "source": []
  },
  {
   "cell_type": "code",
   "execution_count": null,
   "id": "0379c84b-16c6-408d-8778-1b37f731d32b",
   "metadata": {},
   "outputs": [],
   "source": []
  },
  {
   "cell_type": "code",
   "execution_count": null,
   "id": "a6f909e0-3449-49fd-8daa-998760a244df",
   "metadata": {},
   "outputs": [],
   "source": []
  },
  {
   "cell_type": "code",
   "execution_count": null,
   "id": "a9a74861-30d1-4323-8b91-6aba8249d15e",
   "metadata": {
    "tags": []
   },
   "outputs": [],
   "source": []
  },
  {
   "cell_type": "code",
   "execution_count": null,
   "id": "d082e0db-86a2-4042-8064-5558cf8733be",
   "metadata": {},
   "outputs": [],
   "source": []
  }
 ],
 "metadata": {
  "kernelspec": {
   "display_name": "Python 3 (ipykernel)",
   "language": "python",
   "name": "python3"
  },
  "language_info": {
   "codemirror_mode": {
    "name": "ipython",
    "version": 3
   },
   "file_extension": ".py",
   "mimetype": "text/x-python",
   "name": "python",
   "nbconvert_exporter": "python",
   "pygments_lexer": "ipython3",
   "version": "3.11.5"
  },
  "toc-showtags": false
 },
 "nbformat": 4,
 "nbformat_minor": 5
}
